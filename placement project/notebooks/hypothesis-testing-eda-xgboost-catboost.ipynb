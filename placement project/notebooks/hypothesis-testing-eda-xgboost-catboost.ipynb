{
 "cells": [
  {
   "cell_type": "markdown",
   "id": "1a352275",
   "metadata": {
    "papermill": {
     "duration": 0.101978,
     "end_time": "2023-03-18T10:12:34.303383",
     "exception": false,
     "start_time": "2023-03-18T10:12:34.201405",
     "status": "completed"
    },
    "tags": []
   },
   "source": [
    "# ENGINEERING STUDENTS JOB PLACEMENT ANALYSIS AND HYPOTHESIS TESTING"
   ]
  },
  {
   "cell_type": "markdown",
   "id": "442b0999",
   "metadata": {
    "papermill": {
     "duration": 0.097664,
     "end_time": "2023-03-18T10:12:34.524905",
     "exception": false,
     "start_time": "2023-03-18T10:12:34.427241",
     "status": "completed"
    },
    "tags": []
   },
   "source": [
    "The following project focus on the analysis of a dataset containg informations about engineering students.<br>\n",
    "The goal of the project is to determine which factors have a higher impact on job placement.<br>\n",
    "\n",
    "First, Exploratory Data Analysis and Hypothesis Testing will be performed to determine possible relationships between a job placement success and other features. Later, prediction models by CATBOOST and XGBOOST will be developed to predict if a student will be placed or not given some students features.<br>\n",
    "\n",
    "The project is structured as follows:<br>\n",
    "\n",
    "- Exploratory Data Analysis and Hypothesis Testing<br>\n",
    "- Data preparation for ML algorithms (encoding, scaling)<br>\n",
    "- ML algorithms training<br>\n",
    "- Results Summary<br>"
   ]
  },
  {
   "cell_type": "markdown",
   "id": "2e356c7a",
   "metadata": {
    "papermill": {
     "duration": 0.100529,
     "end_time": "2023-03-18T10:12:34.724460",
     "exception": false,
     "start_time": "2023-03-18T10:12:34.623931",
     "status": "completed"
    },
    "tags": []
   },
   "source": [
    "# Data Analysis main results summary dashboard:"
   ]
  },
  {
   "cell_type": "markdown",
   "id": "95063ef3",
   "metadata": {
    "papermill": {
     "duration": 0.098352,
     "end_time": "2023-03-18T10:12:34.919746",
     "exception": false,
     "start_time": "2023-03-18T10:12:34.821394",
     "status": "completed"
    },
    "tags": []
   },
   "source": [
    "- Q1 - CGPA and placement are not independent: in particular, CGPA affects a lot placement as it can be seen in the prediction summary\n",
    "- Q2 - The number of internships affects placement: in particular, a higher number of internships affects plcament positively.\n",
    "- Q3 - Sex and placement are independent.\n",
    "- Q4 - Students who did not have historical backlogs tended to be placed.\n",
    "- Q5 - Students who did not live in a college accomodation tended to be placed.\n",
    "- Q6 - It seems like there is no clear relationship between age and 'placed'.\n",
    "- Q7 - Age and the number of internships are somewhat dependent.\n",
    "- Q8 - The majority of students from Computer Science, IT and Electronic got placed.\n",
    "- Q9 - The major where most students did at least one internship is Computer Science (67%), while for Civil, Electrical and Mechanical engineering more than half of the students did not do any internship. Morevoer, Electronic and IT are the majors where most students did 2 or more internships. Finally, Civil and Mechanical are the majors where over 7% of the students have CGPA=9, whereas students from Electrical engineering are those with most CGPA=8 or CGPA=7."
   ]
  },
  {
   "cell_type": "markdown",
   "id": "4e2a0730",
   "metadata": {
    "papermill": {
     "duration": 0.096587,
     "end_time": "2023-03-18T10:12:35.114628",
     "exception": false,
     "start_time": "2023-03-18T10:12:35.018041",
     "status": "completed"
    },
    "tags": []
   },
   "source": [
    "<img src=\"https://i.imgur.com/Dfgo5Fq.png\" width=\"1000px\">"
   ]
  },
  {
   "cell_type": "markdown",
   "id": "ead7b830",
   "metadata": {
    "papermill": {
     "duration": 0.096398,
     "end_time": "2023-03-18T10:12:35.308609",
     "exception": false,
     "start_time": "2023-03-18T10:12:35.212211",
     "status": "completed"
    },
    "tags": []
   },
   "source": [
    "# Placement Prediction results dashboard:"
   ]
  },
  {
   "cell_type": "markdown",
   "id": "9b62a7c2",
   "metadata": {
    "papermill": {
     "duration": 0.097478,
     "end_time": "2023-03-18T10:12:35.502705",
     "exception": false,
     "start_time": "2023-03-18T10:12:35.405227",
     "status": "completed"
    },
    "tags": []
   },
   "source": [
    "- Both XGBoost and CATboost we achieve good results, with performance scores around 90%.\n",
    "- We can see that the feature with the highest impact to determine placement are cgpa, internships and age."
   ]
  },
  {
   "cell_type": "markdown",
   "id": "8fe284f1",
   "metadata": {
    "papermill": {
     "duration": 0.096895,
     "end_time": "2023-03-18T10:12:35.695343",
     "exception": false,
     "start_time": "2023-03-18T10:12:35.598448",
     "status": "completed"
    },
    "tags": []
   },
   "source": [
    "<img src=\"https://i.imgur.com/tPApBH1.png\" width=\"800px\">"
   ]
  },
  {
   "cell_type": "code",
   "execution_count": 1,
   "id": "71544b2d",
   "metadata": {
    "execution": {
     "iopub.execute_input": "2023-03-18T10:12:35.894367Z",
     "iopub.status.busy": "2023-03-18T10:12:35.893042Z",
     "iopub.status.idle": "2023-03-18T10:12:38.076445Z",
     "shell.execute_reply": "2023-03-18T10:12:38.075675Z"
    },
    "papermill": {
     "duration": 2.283571,
     "end_time": "2023-03-18T10:12:38.076666",
     "exception": false,
     "start_time": "2023-03-18T10:12:35.793095",
     "status": "completed"
    },
    "tags": []
   },
   "outputs": [],
   "source": [
    "import pandas as pd\n",
    "import numpy as np\n",
    "import seaborn as sns\n",
    "import matplotlib.pyplot as plt\n",
    "sns.set_style(\"whitegrid\")\n",
    "\n",
    "from scipy import stats\n",
    "from scipy.stats import shapiro\n",
    "from scipy.stats import chi2_contingency\n",
    "from scipy.stats import chi2\n",
    "\n",
    "\n",
    "from sklearn.model_selection import train_test_split\n",
    "from sklearn.preprocessing import StandardScaler\n",
    "from sklearn.metrics import confusion_matrix\n",
    "from sklearn.metrics import classification_report\n",
    "from sklearn.metrics import roc_auc_score, auc, roc_curve, f1_score, precision_score, recall_score, accuracy_score\n",
    "from sklearn.model_selection import KFold, StratifiedKFold\n",
    "import optuna\n",
    "\n",
    "import xgboost\n",
    "from xgboost import XGBClassifier\n",
    "from catboost import CatBoostClassifier\n",
    "\n",
    "\n",
    "seed=2042 \n",
    "\n",
    "\n",
    "plt.style.use(\"seaborn-whitegrid\")\n",
    "plt.rc(\"figure\", autolayout=True)\n",
    "plt.rc(\"axes\", labelweight=\"bold\", labelsize=\"large\", titleweight=\"bold\", titlesize=14, titlepad=10)"
   ]
  },
  {
   "cell_type": "code",
   "execution_count": 2,
   "id": "91657bd3",
   "metadata": {
    "_kg_hide-input": true,
    "execution": {
     "iopub.execute_input": "2023-03-18T10:12:38.275467Z",
     "iopub.status.busy": "2023-03-18T10:12:38.274680Z",
     "iopub.status.idle": "2023-03-18T10:12:38.281349Z",
     "shell.execute_reply": "2023-03-18T10:12:38.281933Z"
    },
    "papermill": {
     "duration": 0.108899,
     "end_time": "2023-03-18T10:12:38.282175",
     "exception": false,
     "start_time": "2023-03-18T10:12:38.173276",
     "status": "completed"
    },
    "tags": []
   },
   "outputs": [
    {
     "name": "stdout",
     "output_type": "stream",
     "text": [
      "/kaggle/input/engineering-placements-prediction/collegePlace.csv\n"
     ]
    }
   ],
   "source": [
    "import os\n",
    "for dirname, _, filenames in os.walk('/kaggle/input'):\n",
    "    for filename in filenames:\n",
    "        print(os.path.join(dirname, filename))"
   ]
  },
  {
   "cell_type": "markdown",
   "id": "7e651a4f",
   "metadata": {
    "papermill": {
     "duration": 0.097643,
     "end_time": "2023-03-18T10:12:38.479564",
     "exception": false,
     "start_time": "2023-03-18T10:12:38.381921",
     "status": "completed"
    },
    "tags": []
   },
   "source": [
    "## Custom functions definition"
   ]
  },
  {
   "cell_type": "code",
   "execution_count": 3,
   "id": "e3fffacd",
   "metadata": {
    "_kg_hide-input": true,
    "execution": {
     "iopub.execute_input": "2023-03-18T10:12:38.687506Z",
     "iopub.status.busy": "2023-03-18T10:12:38.686558Z",
     "iopub.status.idle": "2023-03-18T10:12:38.689265Z",
     "shell.execute_reply": "2023-03-18T10:12:38.689765Z"
    },
    "papermill": {
     "duration": 0.111532,
     "end_time": "2023-03-18T10:12:38.689981",
     "exception": false,
     "start_time": "2023-03-18T10:12:38.578449",
     "status": "completed"
    },
    "tags": []
   },
   "outputs": [],
   "source": [
    "def num_plot(df, col, title, symb):\n",
    "    fig, ax = plt.subplots(2, 1, figsize=(5.2,5),gridspec_kw={\"height_ratios\": (.1, .9)})\n",
    "    ax[0].set_title(title,fontsize=18)\n",
    "    sns.boxplot(y='placed', x=col, data=df, orient='h', palette=palette, ax=ax[0])\n",
    "    ax[0].set(yticks=[])\n",
    "    ax[0].set_ylabel('')\n",
    "    ax[0].set_xlabel('')\n",
    "    sns.countplot(x=col, data=df, ax=ax[1], hue='placed',palette=palette)\n",
    "    ax[1].set_xlabel(col, fontsize=16)\n",
    "    ax[1].set_yticks([])\n",
    "    for container in ax[1].containers:\n",
    "        ax[1].bar_label(container,fmt='%.1f')\n",
    "    plt.legend(title='Placed?', title_fontsize=14, labels=['no', 'yes'], fontsize=13, fancybox=True, shadow=True, frameon=True)\n",
    "    plt.tight_layout()\n",
    "    plt.show()"
   ]
  },
  {
   "cell_type": "code",
   "execution_count": 4,
   "id": "597ee2c4",
   "metadata": {
    "_kg_hide-input": true,
    "_kg_hide-output": true,
    "execution": {
     "iopub.execute_input": "2023-03-18T10:12:38.896948Z",
     "iopub.status.busy": "2023-03-18T10:12:38.896077Z",
     "iopub.status.idle": "2023-03-18T10:12:38.899445Z",
     "shell.execute_reply": "2023-03-18T10:12:38.898840Z"
    },
    "papermill": {
     "duration": 0.109197,
     "end_time": "2023-03-18T10:12:38.899623",
     "exception": false,
     "start_time": "2023-03-18T10:12:38.790426",
     "status": "completed"
    },
    "tags": []
   },
   "outputs": [],
   "source": [
    "def get_scores(y, y_pred):\n",
    "    data={'Accuracy': np.round(accuracy_score(y, y_pred),2),\n",
    "    'Precision':np.round(precision_score(y, y_pred),2),\n",
    "    'Recall':np.round(recall_score(y, y_pred),2),\n",
    "    'F1':np.round(f1_score(y, y_pred),2),\n",
    "    'ROC AUC':np.round(roc_auc_score(y, y_pred),2)}\n",
    "    scores_df = pd.Series(data).to_frame('scores')\n",
    "    return scores_df"
   ]
  },
  {
   "cell_type": "code",
   "execution_count": 5,
   "id": "83e99988",
   "metadata": {
    "_kg_hide-input": true,
    "execution": {
     "iopub.execute_input": "2023-03-18T10:12:39.104212Z",
     "iopub.status.busy": "2023-03-18T10:12:39.103382Z",
     "iopub.status.idle": "2023-03-18T10:12:39.105680Z",
     "shell.execute_reply": "2023-03-18T10:12:39.106180Z"
    },
    "papermill": {
     "duration": 0.108378,
     "end_time": "2023-03-18T10:12:39.106408",
     "exception": false,
     "start_time": "2023-03-18T10:12:38.998030",
     "status": "completed"
    },
    "tags": []
   },
   "outputs": [],
   "source": [
    "def conf_matrix(y, y_pred):\n",
    "    fig, ax =plt.subplots(figsize=(3.5,3.5))\n",
    "    labels=['No','Yes']\n",
    "    ax=sns.heatmap(confusion_matrix(y, y_pred), annot=True, cmap=\"Blues\", fmt='g', cbar=False, annot_kws={\"size\":25})\n",
    "    plt.title('Placed?', fontsize=20)\n",
    "    ax.xaxis.set_ticklabels(labels, fontsize=17) \n",
    "    ax.yaxis.set_ticklabels(labels, fontsize=17)\n",
    "    ax.set_ylabel('Test')\n",
    "    ax.set_xlabel('Predicted')"
   ]
  },
  {
   "cell_type": "markdown",
   "id": "4a081963",
   "metadata": {
    "papermill": {
     "duration": 0.09812,
     "end_time": "2023-03-18T10:12:39.302924",
     "exception": false,
     "start_time": "2023-03-18T10:12:39.204804",
     "status": "completed"
    },
    "tags": []
   },
   "source": [
    "## Importing the Data"
   ]
  },
  {
   "cell_type": "markdown",
   "id": "e021bf44",
   "metadata": {
    "papermill": {
     "duration": 0.100101,
     "end_time": "2023-03-18T10:12:39.502560",
     "exception": false,
     "start_time": "2023-03-18T10:12:39.402459",
     "status": "completed"
    },
    "tags": []
   },
   "source": [
    "The dataset has the following columns:\n",
    "- Age : Age At The Time Of Final Year \n",
    "- Gender : Gender Of Candidate \n",
    "- Stream : Engineering Stream That The Candidate Belongs To\n",
    "- Internships : Number Of Internships Undertaken During The Course Of Studies, Not Necessarily Related To College Studies Or Stream\n",
    "- CGPA : CGPA Till 6th Semester\n",
    "- Hostel : Whether Student Lives In College Accomodation\n",
    "- HistoryOfBacklogs : Whether Student Ever Had Any Backlogs In Any Subjects\n",
    "- PlacedOrNot : Target Variable"
   ]
  },
  {
   "cell_type": "code",
   "execution_count": 6,
   "id": "35b5b780",
   "metadata": {
    "execution": {
     "iopub.execute_input": "2023-03-18T10:12:39.706429Z",
     "iopub.status.busy": "2023-03-18T10:12:39.704273Z",
     "iopub.status.idle": "2023-03-18T10:12:39.724902Z",
     "shell.execute_reply": "2023-03-18T10:12:39.725578Z"
    },
    "papermill": {
     "duration": 0.123796,
     "end_time": "2023-03-18T10:12:39.725841",
     "exception": false,
     "start_time": "2023-03-18T10:12:39.602045",
     "status": "completed"
    },
    "tags": []
   },
   "outputs": [],
   "source": [
    "df = pd.read_csv('/kaggle/input/engineering-placements-prediction/collegePlace.csv')"
   ]
  },
  {
   "cell_type": "code",
   "execution_count": 7,
   "id": "adcad80f",
   "metadata": {
    "execution": {
     "iopub.execute_input": "2023-03-18T10:12:39.927768Z",
     "iopub.status.busy": "2023-03-18T10:12:39.926963Z",
     "iopub.status.idle": "2023-03-18T10:12:39.948467Z",
     "shell.execute_reply": "2023-03-18T10:12:39.948997Z"
    },
    "papermill": {
     "duration": 0.124197,
     "end_time": "2023-03-18T10:12:39.949219",
     "exception": false,
     "start_time": "2023-03-18T10:12:39.825022",
     "status": "completed"
    },
    "tags": []
   },
   "outputs": [
    {
     "data": {
      "text/html": [
       "<div>\n",
       "<style scoped>\n",
       "    .dataframe tbody tr th:only-of-type {\n",
       "        vertical-align: middle;\n",
       "    }\n",
       "\n",
       "    .dataframe tbody tr th {\n",
       "        vertical-align: top;\n",
       "    }\n",
       "\n",
       "    .dataframe thead th {\n",
       "        text-align: right;\n",
       "    }\n",
       "</style>\n",
       "<table border=\"1\" class=\"dataframe\">\n",
       "  <thead>\n",
       "    <tr style=\"text-align: right;\">\n",
       "      <th></th>\n",
       "      <th>Age</th>\n",
       "      <th>Gender</th>\n",
       "      <th>Stream</th>\n",
       "      <th>Internships</th>\n",
       "      <th>CGPA</th>\n",
       "      <th>Hostel</th>\n",
       "      <th>HistoryOfBacklogs</th>\n",
       "      <th>PlacedOrNot</th>\n",
       "    </tr>\n",
       "  </thead>\n",
       "  <tbody>\n",
       "    <tr>\n",
       "      <th>0</th>\n",
       "      <td>22</td>\n",
       "      <td>Male</td>\n",
       "      <td>Electronics And Communication</td>\n",
       "      <td>1</td>\n",
       "      <td>8</td>\n",
       "      <td>1</td>\n",
       "      <td>1</td>\n",
       "      <td>1</td>\n",
       "    </tr>\n",
       "    <tr>\n",
       "      <th>1</th>\n",
       "      <td>21</td>\n",
       "      <td>Female</td>\n",
       "      <td>Computer Science</td>\n",
       "      <td>0</td>\n",
       "      <td>7</td>\n",
       "      <td>1</td>\n",
       "      <td>1</td>\n",
       "      <td>1</td>\n",
       "    </tr>\n",
       "    <tr>\n",
       "      <th>2</th>\n",
       "      <td>22</td>\n",
       "      <td>Female</td>\n",
       "      <td>Information Technology</td>\n",
       "      <td>1</td>\n",
       "      <td>6</td>\n",
       "      <td>0</td>\n",
       "      <td>0</td>\n",
       "      <td>1</td>\n",
       "    </tr>\n",
       "    <tr>\n",
       "      <th>3</th>\n",
       "      <td>21</td>\n",
       "      <td>Male</td>\n",
       "      <td>Information Technology</td>\n",
       "      <td>0</td>\n",
       "      <td>8</td>\n",
       "      <td>0</td>\n",
       "      <td>1</td>\n",
       "      <td>1</td>\n",
       "    </tr>\n",
       "    <tr>\n",
       "      <th>4</th>\n",
       "      <td>22</td>\n",
       "      <td>Male</td>\n",
       "      <td>Mechanical</td>\n",
       "      <td>0</td>\n",
       "      <td>8</td>\n",
       "      <td>1</td>\n",
       "      <td>0</td>\n",
       "      <td>1</td>\n",
       "    </tr>\n",
       "  </tbody>\n",
       "</table>\n",
       "</div>"
      ],
      "text/plain": [
       "   Age  Gender                         Stream  Internships  CGPA  Hostel  \\\n",
       "0   22    Male  Electronics And Communication            1     8       1   \n",
       "1   21  Female               Computer Science            0     7       1   \n",
       "2   22  Female         Information Technology            1     6       0   \n",
       "3   21    Male         Information Technology            0     8       0   \n",
       "4   22    Male                     Mechanical            0     8       1   \n",
       "\n",
       "   HistoryOfBacklogs  PlacedOrNot  \n",
       "0                  1            1  \n",
       "1                  1            1  \n",
       "2                  0            1  \n",
       "3                  1            1  \n",
       "4                  0            1  "
      ]
     },
     "execution_count": 7,
     "metadata": {},
     "output_type": "execute_result"
    }
   ],
   "source": [
    "df.head()"
   ]
  },
  {
   "cell_type": "code",
   "execution_count": 8,
   "id": "a60f0ce7",
   "metadata": {
    "execution": {
     "iopub.execute_input": "2023-03-18T10:12:40.231212Z",
     "iopub.status.busy": "2023-03-18T10:12:40.230321Z",
     "iopub.status.idle": "2023-03-18T10:12:40.251145Z",
     "shell.execute_reply": "2023-03-18T10:12:40.251718Z"
    },
    "papermill": {
     "duration": 0.202562,
     "end_time": "2023-03-18T10:12:40.251926",
     "exception": false,
     "start_time": "2023-03-18T10:12:40.049364",
     "status": "completed"
    },
    "tags": []
   },
   "outputs": [
    {
     "name": "stdout",
     "output_type": "stream",
     "text": [
      "<class 'pandas.core.frame.DataFrame'>\n",
      "RangeIndex: 2966 entries, 0 to 2965\n",
      "Data columns (total 8 columns):\n",
      " #   Column             Non-Null Count  Dtype \n",
      "---  ------             --------------  ----- \n",
      " 0   Age                2966 non-null   int64 \n",
      " 1   Gender             2966 non-null   object\n",
      " 2   Stream             2966 non-null   object\n",
      " 3   Internships        2966 non-null   int64 \n",
      " 4   CGPA               2966 non-null   int64 \n",
      " 5   Hostel             2966 non-null   int64 \n",
      " 6   HistoryOfBacklogs  2966 non-null   int64 \n",
      " 7   PlacedOrNot        2966 non-null   int64 \n",
      "dtypes: int64(6), object(2)\n",
      "memory usage: 185.5+ KB\n"
     ]
    }
   ],
   "source": [
    "df.info()"
   ]
  },
  {
   "cell_type": "markdown",
   "id": "872d4688",
   "metadata": {
    "papermill": {
     "duration": 0.10018,
     "end_time": "2023-03-18T10:12:40.450801",
     "exception": false,
     "start_time": "2023-03-18T10:12:40.350621",
     "status": "completed"
    },
    "tags": []
   },
   "source": [
    "Good, apparently there are no missing values !"
   ]
  },
  {
   "cell_type": "code",
   "execution_count": 9,
   "id": "d0cbf1d1",
   "metadata": {
    "execution": {
     "iopub.execute_input": "2023-03-18T10:12:40.656819Z",
     "iopub.status.busy": "2023-03-18T10:12:40.655662Z",
     "iopub.status.idle": "2023-03-18T10:12:40.687102Z",
     "shell.execute_reply": "2023-03-18T10:12:40.686579Z"
    },
    "papermill": {
     "duration": 0.13678,
     "end_time": "2023-03-18T10:12:40.687288",
     "exception": false,
     "start_time": "2023-03-18T10:12:40.550508",
     "status": "completed"
    },
    "tags": []
   },
   "outputs": [
    {
     "data": {
      "text/html": [
       "<div>\n",
       "<style scoped>\n",
       "    .dataframe tbody tr th:only-of-type {\n",
       "        vertical-align: middle;\n",
       "    }\n",
       "\n",
       "    .dataframe tbody tr th {\n",
       "        vertical-align: top;\n",
       "    }\n",
       "\n",
       "    .dataframe thead th {\n",
       "        text-align: right;\n",
       "    }\n",
       "</style>\n",
       "<table border=\"1\" class=\"dataframe\">\n",
       "  <thead>\n",
       "    <tr style=\"text-align: right;\">\n",
       "      <th></th>\n",
       "      <th>Age</th>\n",
       "      <th>Internships</th>\n",
       "      <th>CGPA</th>\n",
       "      <th>Hostel</th>\n",
       "      <th>HistoryOfBacklogs</th>\n",
       "      <th>PlacedOrNot</th>\n",
       "    </tr>\n",
       "  </thead>\n",
       "  <tbody>\n",
       "    <tr>\n",
       "      <th>count</th>\n",
       "      <td>2966.000000</td>\n",
       "      <td>2966.000000</td>\n",
       "      <td>2966.000000</td>\n",
       "      <td>2966.000000</td>\n",
       "      <td>2966.000000</td>\n",
       "      <td>2966.000000</td>\n",
       "    </tr>\n",
       "    <tr>\n",
       "      <th>mean</th>\n",
       "      <td>21.485840</td>\n",
       "      <td>0.703641</td>\n",
       "      <td>7.073837</td>\n",
       "      <td>0.269049</td>\n",
       "      <td>0.192178</td>\n",
       "      <td>0.552596</td>\n",
       "    </tr>\n",
       "    <tr>\n",
       "      <th>std</th>\n",
       "      <td>1.324933</td>\n",
       "      <td>0.740197</td>\n",
       "      <td>0.967748</td>\n",
       "      <td>0.443540</td>\n",
       "      <td>0.394079</td>\n",
       "      <td>0.497310</td>\n",
       "    </tr>\n",
       "    <tr>\n",
       "      <th>min</th>\n",
       "      <td>19.000000</td>\n",
       "      <td>0.000000</td>\n",
       "      <td>5.000000</td>\n",
       "      <td>0.000000</td>\n",
       "      <td>0.000000</td>\n",
       "      <td>0.000000</td>\n",
       "    </tr>\n",
       "    <tr>\n",
       "      <th>25%</th>\n",
       "      <td>21.000000</td>\n",
       "      <td>0.000000</td>\n",
       "      <td>6.000000</td>\n",
       "      <td>0.000000</td>\n",
       "      <td>0.000000</td>\n",
       "      <td>0.000000</td>\n",
       "    </tr>\n",
       "    <tr>\n",
       "      <th>50%</th>\n",
       "      <td>21.000000</td>\n",
       "      <td>1.000000</td>\n",
       "      <td>7.000000</td>\n",
       "      <td>0.000000</td>\n",
       "      <td>0.000000</td>\n",
       "      <td>1.000000</td>\n",
       "    </tr>\n",
       "    <tr>\n",
       "      <th>75%</th>\n",
       "      <td>22.000000</td>\n",
       "      <td>1.000000</td>\n",
       "      <td>8.000000</td>\n",
       "      <td>1.000000</td>\n",
       "      <td>0.000000</td>\n",
       "      <td>1.000000</td>\n",
       "    </tr>\n",
       "    <tr>\n",
       "      <th>max</th>\n",
       "      <td>30.000000</td>\n",
       "      <td>3.000000</td>\n",
       "      <td>9.000000</td>\n",
       "      <td>1.000000</td>\n",
       "      <td>1.000000</td>\n",
       "      <td>1.000000</td>\n",
       "    </tr>\n",
       "  </tbody>\n",
       "</table>\n",
       "</div>"
      ],
      "text/plain": [
       "               Age  Internships         CGPA       Hostel  HistoryOfBacklogs  \\\n",
       "count  2966.000000  2966.000000  2966.000000  2966.000000        2966.000000   \n",
       "mean     21.485840     0.703641     7.073837     0.269049           0.192178   \n",
       "std       1.324933     0.740197     0.967748     0.443540           0.394079   \n",
       "min      19.000000     0.000000     5.000000     0.000000           0.000000   \n",
       "25%      21.000000     0.000000     6.000000     0.000000           0.000000   \n",
       "50%      21.000000     1.000000     7.000000     0.000000           0.000000   \n",
       "75%      22.000000     1.000000     8.000000     1.000000           0.000000   \n",
       "max      30.000000     3.000000     9.000000     1.000000           1.000000   \n",
       "\n",
       "       PlacedOrNot  \n",
       "count  2966.000000  \n",
       "mean      0.552596  \n",
       "std       0.497310  \n",
       "min       0.000000  \n",
       "25%       0.000000  \n",
       "50%       1.000000  \n",
       "75%       1.000000  \n",
       "max       1.000000  "
      ]
     },
     "execution_count": 9,
     "metadata": {},
     "output_type": "execute_result"
    }
   ],
   "source": [
    "df.describe()"
   ]
  },
  {
   "cell_type": "code",
   "execution_count": 10,
   "id": "73e7ff85",
   "metadata": {
    "execution": {
     "iopub.execute_input": "2023-03-18T10:12:40.899450Z",
     "iopub.status.busy": "2023-03-18T10:12:40.898367Z",
     "iopub.status.idle": "2023-03-18T10:12:40.922312Z",
     "shell.execute_reply": "2023-03-18T10:12:40.921570Z"
    },
    "papermill": {
     "duration": 0.132395,
     "end_time": "2023-03-18T10:12:40.922484",
     "exception": false,
     "start_time": "2023-03-18T10:12:40.790089",
     "status": "completed"
    },
    "tags": []
   },
   "outputs": [
    {
     "data": {
      "text/html": [
       "<div>\n",
       "<style scoped>\n",
       "    .dataframe tbody tr th:only-of-type {\n",
       "        vertical-align: middle;\n",
       "    }\n",
       "\n",
       "    .dataframe tbody tr th {\n",
       "        vertical-align: top;\n",
       "    }\n",
       "\n",
       "    .dataframe thead th {\n",
       "        text-align: right;\n",
       "    }\n",
       "</style>\n",
       "<table border=\"1\" class=\"dataframe\">\n",
       "  <thead>\n",
       "    <tr style=\"text-align: right;\">\n",
       "      <th></th>\n",
       "      <th>Age</th>\n",
       "      <th>Internships</th>\n",
       "      <th>CGPA</th>\n",
       "      <th>Hostel</th>\n",
       "      <th>HistoryOfBacklogs</th>\n",
       "      <th>PlacedOrNot</th>\n",
       "    </tr>\n",
       "  </thead>\n",
       "  <tbody>\n",
       "    <tr>\n",
       "      <th>mean</th>\n",
       "      <td>21.48584</td>\n",
       "      <td>0.703641</td>\n",
       "      <td>7.073837</td>\n",
       "      <td>0.269049</td>\n",
       "      <td>0.192178</td>\n",
       "      <td>0.552596</td>\n",
       "    </tr>\n",
       "    <tr>\n",
       "      <th>min</th>\n",
       "      <td>19.00000</td>\n",
       "      <td>0.000000</td>\n",
       "      <td>5.000000</td>\n",
       "      <td>0.000000</td>\n",
       "      <td>0.000000</td>\n",
       "      <td>0.000000</td>\n",
       "    </tr>\n",
       "    <tr>\n",
       "      <th>max</th>\n",
       "      <td>30.00000</td>\n",
       "      <td>3.000000</td>\n",
       "      <td>9.000000</td>\n",
       "      <td>1.000000</td>\n",
       "      <td>1.000000</td>\n",
       "      <td>1.000000</td>\n",
       "    </tr>\n",
       "  </tbody>\n",
       "</table>\n",
       "</div>"
      ],
      "text/plain": [
       "           Age  Internships      CGPA    Hostel  HistoryOfBacklogs  \\\n",
       "mean  21.48584     0.703641  7.073837  0.269049           0.192178   \n",
       "min   19.00000     0.000000  5.000000  0.000000           0.000000   \n",
       "max   30.00000     3.000000  9.000000  1.000000           1.000000   \n",
       "\n",
       "      PlacedOrNot  \n",
       "mean     0.552596  \n",
       "min      0.000000  \n",
       "max      1.000000  "
      ]
     },
     "execution_count": 10,
     "metadata": {},
     "output_type": "execute_result"
    }
   ],
   "source": [
    "df.describe().loc[['mean', 'min', 'max']]"
   ]
  },
  {
   "cell_type": "markdown",
   "id": "546f9c68",
   "metadata": {
    "papermill": {
     "duration": 0.102624,
     "end_time": "2023-03-18T10:12:41.127185",
     "exception": false,
     "start_time": "2023-03-18T10:12:41.024561",
     "status": "completed"
    },
    "tags": []
   },
   "source": [
    "We can already get useful information about some features !\n",
    "- Age is between 19 and 30\n",
    "- Minimum number of internships is 0 (no internships) while the max is 3\n",
    "- The majority of students in the dataset did not live in a hostel (Hostel mean is lower than 0.5), \n",
    "- The majority of students does not have backlogs (HistoryOfBacklogs mean is lower than 0.5)\n",
    "- The majority of students have been placed (PlacedOrNot mean is higher than 0.5)"
   ]
  },
  {
   "cell_type": "markdown",
   "id": "3a929b75",
   "metadata": {
    "papermill": {
     "duration": 0.10177,
     "end_time": "2023-03-18T10:12:41.329194",
     "exception": false,
     "start_time": "2023-03-18T10:12:41.227424",
     "status": "completed"
    },
    "tags": []
   },
   "source": [
    "Moreover, to simplify further analysis, some columns will be renamed as follows:"
   ]
  },
  {
   "cell_type": "code",
   "execution_count": 11,
   "id": "b93b3871",
   "metadata": {
    "execution": {
     "iopub.execute_input": "2023-03-18T10:12:41.539447Z",
     "iopub.status.busy": "2023-03-18T10:12:41.538220Z",
     "iopub.status.idle": "2023-03-18T10:12:41.541226Z",
     "shell.execute_reply": "2023-03-18T10:12:41.540493Z"
    },
    "papermill": {
     "duration": 0.109731,
     "end_time": "2023-03-18T10:12:41.541398",
     "exception": false,
     "start_time": "2023-03-18T10:12:41.431667",
     "status": "completed"
    },
    "tags": []
   },
   "outputs": [],
   "source": [
    "df.rename(columns={'HistoryOfBacklogs': 'backlogs', 'PlacedOrNot': 'placed'}, inplace=True)"
   ]
  },
  {
   "cell_type": "markdown",
   "id": "1b148076",
   "metadata": {
    "papermill": {
     "duration": 0.099937,
     "end_time": "2023-03-18T10:12:41.742166",
     "exception": false,
     "start_time": "2023-03-18T10:12:41.642229",
     "status": "completed"
    },
    "tags": []
   },
   "source": [
    "And the other columns will be transformed into lowercase"
   ]
  },
  {
   "cell_type": "code",
   "execution_count": 12,
   "id": "f81e49b1",
   "metadata": {
    "execution": {
     "iopub.execute_input": "2023-03-18T10:12:41.951108Z",
     "iopub.status.busy": "2023-03-18T10:12:41.950064Z",
     "iopub.status.idle": "2023-03-18T10:12:41.954034Z",
     "shell.execute_reply": "2023-03-18T10:12:41.953439Z"
    },
    "papermill": {
     "duration": 0.110238,
     "end_time": "2023-03-18T10:12:41.954240",
     "exception": false,
     "start_time": "2023-03-18T10:12:41.844002",
     "status": "completed"
    },
    "tags": []
   },
   "outputs": [],
   "source": [
    "df = df.rename(columns=str.lower)"
   ]
  },
  {
   "cell_type": "markdown",
   "id": "314e3a6a",
   "metadata": {
    "papermill": {
     "duration": 0.100019,
     "end_time": "2023-03-18T10:12:42.154573",
     "exception": false,
     "start_time": "2023-03-18T10:12:42.054554",
     "status": "completed"
    },
    "tags": []
   },
   "source": [
    "# Exploratory Data Analysis and Hypothesis Testing"
   ]
  },
  {
   "cell_type": "markdown",
   "id": "f5086a4f",
   "metadata": {
    "papermill": {
     "duration": 0.103301,
     "end_time": "2023-03-18T10:12:42.358376",
     "exception": false,
     "start_time": "2023-03-18T10:12:42.255075",
     "status": "completed"
    },
    "tags": []
   },
   "source": [
    "We set a palette to improve the following plots readability: we specify the color to be green if the student got placed (placed=1) and red if placed=0."
   ]
  },
  {
   "cell_type": "code",
   "execution_count": 13,
   "id": "ef26a0c3",
   "metadata": {
    "execution": {
     "iopub.execute_input": "2023-03-18T10:12:42.567292Z",
     "iopub.status.busy": "2023-03-18T10:12:42.566378Z",
     "iopub.status.idle": "2023-03-18T10:12:42.569490Z",
     "shell.execute_reply": "2023-03-18T10:12:42.568780Z"
    },
    "papermill": {
     "duration": 0.109673,
     "end_time": "2023-03-18T10:12:42.569670",
     "exception": false,
     "start_time": "2023-03-18T10:12:42.459997",
     "status": "completed"
    },
    "tags": []
   },
   "outputs": [],
   "source": [
    "palette = {1:'#46C646', 0:'#FF0000'}"
   ]
  },
  {
   "cell_type": "markdown",
   "id": "b8b70263",
   "metadata": {
    "papermill": {
     "duration": 0.101597,
     "end_time": "2023-03-18T10:12:42.772285",
     "exception": false,
     "start_time": "2023-03-18T10:12:42.670688",
     "status": "completed"
    },
    "tags": []
   },
   "source": [
    "We start the analysis by checking the linear correlation (Pearson correlation) between the features:"
   ]
  },
  {
   "cell_type": "code",
   "execution_count": 14,
   "id": "da573e9d",
   "metadata": {
    "execution": {
     "iopub.execute_input": "2023-03-18T10:12:42.977420Z",
     "iopub.status.busy": "2023-03-18T10:12:42.976701Z",
     "iopub.status.idle": "2023-03-18T10:12:43.683308Z",
     "shell.execute_reply": "2023-03-18T10:12:43.683908Z"
    },
    "papermill": {
     "duration": 0.811774,
     "end_time": "2023-03-18T10:12:43.684142",
     "exception": false,
     "start_time": "2023-03-18T10:12:42.872368",
     "status": "completed"
    },
    "tags": []
   },
   "outputs": [
    {
     "data": {
      "image/png": "[encoded data removed]",
      "text/plain": [
       "<Figure size 432x288 with 2 Axes>"
      ]
     },
     "metadata": {},
     "output_type": "display_data"
    }
   ],
   "source": [
    "sns.heatmap(df.corr(), cmap='RdBu', annot=True, vmin=-1, vmax=1)\n",
    "plt.title('Correlation Matrix');"
   ]
  },
  {
   "cell_type": "markdown",
   "id": "9557ae05",
   "metadata": {
    "papermill": {
     "duration": 0.104301,
     "end_time": "2023-03-18T10:12:43.893675",
     "exception": false,
     "start_time": "2023-03-18T10:12:43.789374",
     "status": "completed"
    },
    "tags": []
   },
   "source": [
    "By looking at the correlation matrix we can say:\n",
    "- Quite high linear positive correlation between placed and CGPA (0.59): students with higher CGPA tends to be placed\n",
    "- Small linear positive betwen internships and placed (0.18): students with internships tends to be placed\n",
    "\n",
    "The other linear correlations coefficients look somewhat low. Let's investigate more! "
   ]
  },
  {
   "cell_type": "markdown",
   "id": "1c752a33",
   "metadata": {
    "papermill": {
     "duration": 0.102509,
     "end_time": "2023-03-18T10:12:44.099411",
     "exception": false,
     "start_time": "2023-03-18T10:12:43.996902",
     "status": "completed"
    },
    "tags": []
   },
   "source": [
    "# How does CGPA affect job placement?"
   ]
  },
  {
   "cell_type": "code",
   "execution_count": 15,
   "id": "fe147667",
   "metadata": {
    "execution": {
     "iopub.execute_input": "2023-03-18T10:12:44.319316Z",
     "iopub.status.busy": "2023-03-18T10:12:44.318222Z",
     "iopub.status.idle": "2023-03-18T10:12:44.899375Z",
     "shell.execute_reply": "2023-03-18T10:12:44.899888Z"
    },
    "papermill": {
     "duration": 0.695726,
     "end_time": "2023-03-18T10:12:44.900099",
     "exception": false,
     "start_time": "2023-03-18T10:12:44.204373",
     "status": "completed"
    },
    "tags": []
   },
   "outputs": [
    {
     "data": {
      "image/png": "[encoded data removed]",
      "text/plain": [
       "<Figure size 374.4x360 with 2 Axes>"
      ]
     },
     "metadata": {},
     "output_type": "display_data"
    }
   ],
   "source": [
    "num_plot(df, 'cgpa', 'CGPA by Placed', '')"
   ]
  },
  {
   "cell_type": "markdown",
   "id": "48b7597d",
   "metadata": {
    "papermill": {
     "duration": 0.103086,
     "end_time": "2023-03-18T10:12:45.111619",
     "exception": false,
     "start_time": "2023-03-18T10:12:45.008533",
     "status": "completed"
    },
    "tags": []
   },
   "source": [
    "From these plots we can see that the average CGPA of placed students in higher than the CGPA of not placed students.<br>\n",
    "In particular, from the boxplot we can see that there are some students with a low cgpa (cgpa=5) that still got placed.<br>\n",
    "Who are these students?"
   ]
  },
  {
   "cell_type": "code",
   "execution_count": 16,
   "id": "8d9f0d9c",
   "metadata": {
    "execution": {
     "iopub.execute_input": "2023-03-18T10:12:45.324761Z",
     "iopub.status.busy": "2023-03-18T10:12:45.323797Z",
     "iopub.status.idle": "2023-03-18T10:12:45.345308Z",
     "shell.execute_reply": "2023-03-18T10:12:45.346231Z"
    },
    "papermill": {
     "duration": 0.131917,
     "end_time": "2023-03-18T10:12:45.346573",
     "exception": false,
     "start_time": "2023-03-18T10:12:45.214656",
     "status": "completed"
    },
    "tags": []
   },
   "outputs": [
    {
     "data": {
      "text/html": [
       "<div>\n",
       "<style scoped>\n",
       "    .dataframe tbody tr th:only-of-type {\n",
       "        vertical-align: middle;\n",
       "    }\n",
       "\n",
       "    .dataframe tbody tr th {\n",
       "        vertical-align: top;\n",
       "    }\n",
       "\n",
       "    .dataframe thead th {\n",
       "        text-align: right;\n",
       "    }\n",
       "</style>\n",
       "<table border=\"1\" class=\"dataframe\">\n",
       "  <thead>\n",
       "    <tr style=\"text-align: right;\">\n",
       "      <th></th>\n",
       "      <th>age</th>\n",
       "      <th>gender</th>\n",
       "      <th>stream</th>\n",
       "      <th>internships</th>\n",
       "      <th>cgpa</th>\n",
       "      <th>hostel</th>\n",
       "      <th>backlogs</th>\n",
       "      <th>placed</th>\n",
       "    </tr>\n",
       "  </thead>\n",
       "  <tbody>\n",
       "    <tr>\n",
       "      <th>118</th>\n",
       "      <td>24</td>\n",
       "      <td>Male</td>\n",
       "      <td>Information Technology</td>\n",
       "      <td>3</td>\n",
       "      <td>5</td>\n",
       "      <td>0</td>\n",
       "      <td>1</td>\n",
       "      <td>1</td>\n",
       "    </tr>\n",
       "    <tr>\n",
       "      <th>122</th>\n",
       "      <td>23</td>\n",
       "      <td>Male</td>\n",
       "      <td>Information Technology</td>\n",
       "      <td>1</td>\n",
       "      <td>5</td>\n",
       "      <td>0</td>\n",
       "      <td>0</td>\n",
       "      <td>1</td>\n",
       "    </tr>\n",
       "    <tr>\n",
       "      <th>137</th>\n",
       "      <td>24</td>\n",
       "      <td>Male</td>\n",
       "      <td>Information Technology</td>\n",
       "      <td>0</td>\n",
       "      <td>5</td>\n",
       "      <td>0</td>\n",
       "      <td>0</td>\n",
       "      <td>1</td>\n",
       "    </tr>\n",
       "    <tr>\n",
       "      <th>140</th>\n",
       "      <td>23</td>\n",
       "      <td>Male</td>\n",
       "      <td>Computer Science</td>\n",
       "      <td>1</td>\n",
       "      <td>5</td>\n",
       "      <td>0</td>\n",
       "      <td>0</td>\n",
       "      <td>1</td>\n",
       "    </tr>\n",
       "    <tr>\n",
       "      <th>143</th>\n",
       "      <td>24</td>\n",
       "      <td>Male</td>\n",
       "      <td>Computer Science</td>\n",
       "      <td>2</td>\n",
       "      <td>5</td>\n",
       "      <td>0</td>\n",
       "      <td>0</td>\n",
       "      <td>1</td>\n",
       "    </tr>\n",
       "    <tr>\n",
       "      <th>144</th>\n",
       "      <td>24</td>\n",
       "      <td>Male</td>\n",
       "      <td>Computer Science</td>\n",
       "      <td>2</td>\n",
       "      <td>5</td>\n",
       "      <td>0</td>\n",
       "      <td>0</td>\n",
       "      <td>1</td>\n",
       "    </tr>\n",
       "    <tr>\n",
       "      <th>152</th>\n",
       "      <td>23</td>\n",
       "      <td>Male</td>\n",
       "      <td>Computer Science</td>\n",
       "      <td>1</td>\n",
       "      <td>5</td>\n",
       "      <td>0</td>\n",
       "      <td>0</td>\n",
       "      <td>1</td>\n",
       "    </tr>\n",
       "  </tbody>\n",
       "</table>\n",
       "</div>"
      ],
      "text/plain": [
       "     age gender                  stream  internships  cgpa  hostel  backlogs  \\\n",
       "118   24   Male  Information Technology            3     5       0         1   \n",
       "122   23   Male  Information Technology            1     5       0         0   \n",
       "137   24   Male  Information Technology            0     5       0         0   \n",
       "140   23   Male        Computer Science            1     5       0         0   \n",
       "143   24   Male        Computer Science            2     5       0         0   \n",
       "144   24   Male        Computer Science            2     5       0         0   \n",
       "152   23   Male        Computer Science            1     5       0         0   \n",
       "\n",
       "     placed  \n",
       "118       1  \n",
       "122       1  \n",
       "137       1  \n",
       "140       1  \n",
       "143       1  \n",
       "144       1  \n",
       "152       1  "
      ]
     },
     "execution_count": 16,
     "metadata": {},
     "output_type": "execute_result"
    }
   ],
   "source": [
    "df.loc[(df['cgpa'] == 5) & (df['placed'] == 1)]"
   ]
  },
  {
   "cell_type": "markdown",
   "id": "79c3d6c3",
   "metadata": {
    "papermill": {
     "duration": 0.103796,
     "end_time": "2023-03-18T10:12:45.581229",
     "exception": false,
     "start_time": "2023-03-18T10:12:45.477433",
     "status": "completed"
    },
    "tags": []
   },
   "source": [
    "These students have very similar features overall. How do they compare to other placed students with similar features?"
   ]
  },
  {
   "cell_type": "code",
   "execution_count": 17,
   "id": "7c454700",
   "metadata": {
    "execution": {
     "iopub.execute_input": "2023-03-18T10:12:45.796985Z",
     "iopub.status.busy": "2023-03-18T10:12:45.796157Z",
     "iopub.status.idle": "2023-03-18T10:12:45.805837Z",
     "shell.execute_reply": "2023-03-18T10:12:45.805205Z"
    },
    "papermill": {
     "duration": 0.119577,
     "end_time": "2023-03-18T10:12:45.806021",
     "exception": false,
     "start_time": "2023-03-18T10:12:45.686444",
     "status": "completed"
    },
    "tags": []
   },
   "outputs": [],
   "source": [
    "df_1 = df.loc[((df['age'] == 23) | (df['age'] == 24)) & (df['gender'] == 'Male') &\n",
    " ((df['stream'] == 'Information Technology') | (df['stream'] == 'Computer Science')) & (df['placed'] == 1)]"
   ]
  },
  {
   "cell_type": "code",
   "execution_count": 18,
   "id": "488280bc",
   "metadata": {
    "execution": {
     "iopub.execute_input": "2023-03-18T10:12:46.032698Z",
     "iopub.status.busy": "2023-03-18T10:12:46.031904Z",
     "iopub.status.idle": "2023-03-18T10:12:46.558040Z",
     "shell.execute_reply": "2023-03-18T10:12:46.558606Z"
    },
    "papermill": {
     "duration": 0.645997,
     "end_time": "2023-03-18T10:12:46.558812",
     "exception": false,
     "start_time": "2023-03-18T10:12:45.912815",
     "status": "completed"
    },
    "tags": []
   },
   "outputs": [
    {
     "data": {
      "image/png": "[encoded data removed]",
      "text/plain": [
       "<Figure size 864x216 with 2 Axes>"
      ]
     },
     "metadata": {},
     "output_type": "display_data"
    }
   ],
   "source": [
    "fig, ax = plt.subplots(1,2, figsize=(12,3))\n",
    "sns.boxplot(ax=ax[0], x='cgpa', data=df_1)\n",
    "sns.histplot(ax=ax[1], x='cgpa', data=df_1)\n",
    "plt.show()"
   ]
  },
  {
   "cell_type": "markdown",
   "id": "0584f54a",
   "metadata": {
    "papermill": {
     "duration": 0.105201,
     "end_time": "2023-03-18T10:12:46.771629",
     "exception": false,
     "start_time": "2023-03-18T10:12:46.666428",
     "status": "completed"
    },
    "tags": []
   },
   "source": [
    "Indeed it looks like these 7 stuents can be considered as outliers. Also among students with similar features, they result to have a very low cgpa while being still placed. We can remove these students from the dataset."
   ]
  },
  {
   "cell_type": "markdown",
   "id": "758f97f6",
   "metadata": {
    "papermill": {
     "duration": 0.104625,
     "end_time": "2023-03-18T10:12:46.983346",
     "exception": false,
     "start_time": "2023-03-18T10:12:46.878721",
     "status": "completed"
    },
    "tags": []
   },
   "source": [
    "We will then create a new dataframe called df_clean to host a cleaned version of the dataset."
   ]
  },
  {
   "cell_type": "code",
   "execution_count": 19,
   "id": "7da79304",
   "metadata": {
    "execution": {
     "iopub.execute_input": "2023-03-18T10:12:47.198161Z",
     "iopub.status.busy": "2023-03-18T10:12:47.197218Z",
     "iopub.status.idle": "2023-03-18T10:12:47.203731Z",
     "shell.execute_reply": "2023-03-18T10:12:47.204277Z"
    },
    "papermill": {
     "duration": 0.116086,
     "end_time": "2023-03-18T10:12:47.204519",
     "exception": false,
     "start_time": "2023-03-18T10:12:47.088433",
     "status": "completed"
    },
    "tags": []
   },
   "outputs": [],
   "source": [
    "df_clean = df.drop(list(df.loc[(df['cgpa'] == 5) & (df['placed'] == 1)].index))"
   ]
  },
  {
   "cell_type": "code",
   "execution_count": 20,
   "id": "1951384e",
   "metadata": {
    "execution": {
     "iopub.execute_input": "2023-03-18T10:12:47.421431Z",
     "iopub.status.busy": "2023-03-18T10:12:47.420715Z",
     "iopub.status.idle": "2023-03-18T10:12:47.425736Z",
     "shell.execute_reply": "2023-03-18T10:12:47.426290Z"
    },
    "papermill": {
     "duration": 0.11458,
     "end_time": "2023-03-18T10:12:47.426504",
     "exception": false,
     "start_time": "2023-03-18T10:12:47.311924",
     "status": "completed"
    },
    "tags": []
   },
   "outputs": [
    {
     "name": "stdout",
     "output_type": "stream",
     "text": [
      "We Removed 7 outliers !\n"
     ]
    }
   ],
   "source": [
    "print('We Removed {} outliers !'.format(len(df)-len(df_clean)))"
   ]
  },
  {
   "cell_type": "markdown",
   "id": "3f448214",
   "metadata": {
    "papermill": {
     "duration": 0.106137,
     "end_time": "2023-03-18T10:12:47.638155",
     "exception": false,
     "start_time": "2023-03-18T10:12:47.532018",
     "status": "completed"
    },
    "tags": []
   },
   "source": [
    "The plots regarding the cleaned dataset are:"
   ]
  },
  {
   "cell_type": "code",
   "execution_count": 21,
   "id": "05279d4f",
   "metadata": {
    "execution": {
     "iopub.execute_input": "2023-03-18T10:12:47.895733Z",
     "iopub.status.busy": "2023-03-18T10:12:47.853539Z",
     "iopub.status.idle": "2023-03-18T10:12:48.426198Z",
     "shell.execute_reply": "2023-03-18T10:12:48.425543Z"
    },
    "papermill": {
     "duration": 0.68304,
     "end_time": "2023-03-18T10:12:48.426376",
     "exception": false,
     "start_time": "2023-03-18T10:12:47.743336",
     "status": "completed"
    },
    "tags": []
   },
   "outputs": [
    {
     "data": {
      "image/png": "[encoded data removed]",
      "text/plain": [
       "<Figure size 374.4x360 with 2 Axes>"
      ]
     },
     "metadata": {},
     "output_type": "display_data"
    }
   ],
   "source": [
    "num_plot(df_clean, 'cgpa', 'CGPA by Placed', '')"
   ]
  },
  {
   "cell_type": "markdown",
   "id": "7fc1813e",
   "metadata": {
    "papermill": {
     "duration": 0.108382,
     "end_time": "2023-03-18T10:12:48.641880",
     "exception": false,
     "start_time": "2023-03-18T10:12:48.533498",
     "status": "completed"
    },
    "tags": []
   },
   "source": [
    "# Q1 - Is CGPA independent from placement? (Chi-Square test)"
   ]
  },
  {
   "cell_type": "markdown",
   "id": "e53d5db3",
   "metadata": {
    "papermill": {
     "duration": 0.107512,
     "end_time": "2023-03-18T10:12:48.856235",
     "exception": false,
     "start_time": "2023-03-18T10:12:48.748723",
     "status": "completed"
    },
    "tags": []
   },
   "source": [
    "\n",
    "## Hypothesis testing for categeorical variables indepedence"
   ]
  },
  {
   "cell_type": "markdown",
   "id": "11c8fcc4",
   "metadata": {
    "papermill": {
     "duration": 0.118033,
     "end_time": "2023-03-18T10:12:49.082291",
     "exception": false,
     "start_time": "2023-03-18T10:12:48.964258",
     "status": "completed"
    },
    "tags": []
   },
   "source": [
    "- H0: CGPA and placed are independent <br>\n",
    "- H1: CGPA and placed are not independent"
   ]
  },
  {
   "cell_type": "code",
   "execution_count": 22,
   "id": "1696fa38",
   "metadata": {
    "execution": {
     "iopub.execute_input": "2023-03-18T10:12:49.318966Z",
     "iopub.status.busy": "2023-03-18T10:12:49.317868Z",
     "iopub.status.idle": "2023-03-18T10:12:49.343893Z",
     "shell.execute_reply": "2023-03-18T10:12:49.344692Z"
    },
    "papermill": {
     "duration": 0.142657,
     "end_time": "2023-03-18T10:12:49.344932",
     "exception": false,
     "start_time": "2023-03-18T10:12:49.202275",
     "status": "completed"
    },
    "tags": []
   },
   "outputs": [
    {
     "name": "stdout",
     "output_type": "stream",
     "text": [
      "cgpa     5    6    7    8    9\n",
      "placed                        \n",
      "0       89  564  674    0    0\n",
      "1        0  270  282  915  165\n"
     ]
    }
   ],
   "source": [
    "# Create a table of cross-tabulations\n",
    "placed_cgpa = pd.crosstab(df_clean[\"placed\"],df_clean[\"cgpa\"])\n",
    "print(placed_cgpa)"
   ]
  },
  {
   "cell_type": "code",
   "execution_count": 23,
   "id": "0a8c9669",
   "metadata": {
    "execution": {
     "iopub.execute_input": "2023-03-18T10:12:49.576236Z",
     "iopub.status.busy": "2023-03-18T10:12:49.575104Z",
     "iopub.status.idle": "2023-03-18T10:12:49.583139Z",
     "shell.execute_reply": "2023-03-18T10:12:49.583726Z"
    },
    "papermill": {
     "duration": 0.120232,
     "end_time": "2023-03-18T10:12:49.583933",
     "exception": false,
     "start_time": "2023-03-18T10:12:49.463701",
     "status": "completed"
    },
    "tags": []
   },
   "outputs": [
    {
     "name": "stdout",
     "output_type": "stream",
     "text": [
      "Degress of freedom = 4\n",
      "Expected frequencies  [[ 39.91314633 374.0175735  428.72997634 410.34302129  73.99628253]\n",
      " [ 49.08685367 459.9824265  527.27002366 504.65697871  91.00371747]]\n"
     ]
    }
   ],
   "source": [
    "stat, p, dof, expected = chi2_contingency(placed_cgpa)\n",
    "print('Degress of freedom = %d' % dof)\n",
    "print('Expected frequencies ', expected)"
   ]
  },
  {
   "cell_type": "code",
   "execution_count": 24,
   "id": "92edf6a9",
   "metadata": {
    "execution": {
     "iopub.execute_input": "2023-03-18T10:12:49.810067Z",
     "iopub.status.busy": "2023-03-18T10:12:49.808499Z",
     "iopub.status.idle": "2023-03-18T10:12:49.812518Z",
     "shell.execute_reply": "2023-03-18T10:12:49.813026Z"
    },
    "papermill": {
     "duration": 0.120181,
     "end_time": "2023-03-18T10:12:49.813280",
     "exception": false,
     "start_time": "2023-03-18T10:12:49.693099",
     "status": "completed"
    },
    "tags": []
   },
   "outputs": [
    {
     "name": "stdout",
     "output_type": "stream",
     "text": [
      "probability=0.950, critical=9.488, stat=1416.994\n"
     ]
    }
   ],
   "source": [
    "prob = 0.95\n",
    "critical = chi2.ppf(0.95, dof)\n",
    "print('probability=%.3f, critical=%.3f, stat=%.3f' % (prob, critical, stat))"
   ]
  },
  {
   "cell_type": "code",
   "execution_count": 25,
   "id": "74d8b1ba",
   "metadata": {
    "execution": {
     "iopub.execute_input": "2023-03-18T10:12:50.039172Z",
     "iopub.status.busy": "2023-03-18T10:12:50.038038Z",
     "iopub.status.idle": "2023-03-18T10:12:50.043847Z",
     "shell.execute_reply": "2023-03-18T10:12:50.044742Z"
    },
    "papermill": {
     "duration": 0.122619,
     "end_time": "2023-03-18T10:12:50.045011",
     "exception": false,
     "start_time": "2023-03-18T10:12:49.922392",
     "status": "completed"
    },
    "tags": []
   },
   "outputs": [
    {
     "name": "stdout",
     "output_type": "stream",
     "text": [
      "The variables are dependent (We reject H0)\n"
     ]
    }
   ],
   "source": [
    "# interpret test-statistic\n",
    "if abs(stat) >= critical:\n",
    "\tprint('The variables are dependent (We reject H0)')\n",
    "else:\n",
    "\tprint('The variables are independent (We fail to reject H0)')"
   ]
  },
  {
   "cell_type": "code",
   "execution_count": 26,
   "id": "6387d8fe",
   "metadata": {
    "execution": {
     "iopub.execute_input": "2023-03-18T10:12:50.268175Z",
     "iopub.status.busy": "2023-03-18T10:12:50.267081Z",
     "iopub.status.idle": "2023-03-18T10:12:50.273473Z",
     "shell.execute_reply": "2023-03-18T10:12:50.274267Z"
    },
    "papermill": {
     "duration": 0.119005,
     "end_time": "2023-03-18T10:12:50.274593",
     "exception": false,
     "start_time": "2023-03-18T10:12:50.155588",
     "status": "completed"
    },
    "tags": []
   },
   "outputs": [
    {
     "name": "stdout",
     "output_type": "stream",
     "text": [
      "Significance = 0.050, p = 0.000\n",
      "The variables are dependent (We reject H0)\n"
     ]
    }
   ],
   "source": [
    "# interpret p-value\n",
    "alpha = 1.0 - prob\n",
    "print('Significance = %.3f, p = %.3f' % (alpha, p))\n",
    "if p <= alpha:\n",
    "\tprint('The variables are dependent (We reject H0)')\n",
    "else:\n",
    "\tprint('The variables are independent (We fail to reject H0)')"
   ]
  },
  {
   "cell_type": "markdown",
   "id": "c8a2c957",
   "metadata": {
    "papermill": {
     "duration": 0.110659,
     "end_time": "2023-03-18T10:12:50.496957",
     "exception": false,
     "start_time": "2023-03-18T10:12:50.386298",
     "status": "completed"
    },
    "tags": []
   },
   "source": [
    "We can see that :\n",
    "- The P-value is lower than the significance level of 5%, so we can reject the null hypothesis with a confidence of 95%.\n",
    "\n",
    "- The Test-statistic is inferior than the critical value, so we can reject the null hypothesis with a confidence of 95%."
   ]
  },
  {
   "cell_type": "markdown",
   "id": "d44022ed",
   "metadata": {
    "papermill": {
     "duration": 0.110534,
     "end_time": "2023-03-18T10:12:50.717596",
     "exception": false,
     "start_time": "2023-03-18T10:12:50.607062",
     "status": "completed"
    },
    "tags": []
   },
   "source": [
    "**This means, that cgpa and placement are not independent with a confidence level of 95%**"
   ]
  },
  {
   "cell_type": "markdown",
   "id": "e7f93ca0",
   "metadata": {
    "papermill": {
     "duration": 0.111566,
     "end_time": "2023-03-18T10:12:50.940430",
     "exception": false,
     "start_time": "2023-03-18T10:12:50.828864",
     "status": "completed"
    },
    "tags": []
   },
   "source": [
    "# How do internship numbers affect job placement?"
   ]
  },
  {
   "cell_type": "code",
   "execution_count": 27,
   "id": "e2934e61",
   "metadata": {
    "execution": {
     "iopub.execute_input": "2023-03-18T10:12:51.174465Z",
     "iopub.status.busy": "2023-03-18T10:12:51.173670Z",
     "iopub.status.idle": "2023-03-18T10:12:51.695016Z",
     "shell.execute_reply": "2023-03-18T10:12:51.695695Z"
    },
    "papermill": {
     "duration": 0.644667,
     "end_time": "2023-03-18T10:12:51.695930",
     "exception": false,
     "start_time": "2023-03-18T10:12:51.051263",
     "status": "completed"
    },
    "tags": []
   },
   "outputs": [
    {
     "data": {
      "image/png": "[encoded data removed]",
      "text/plain": [
       "<Figure size 374.4x360 with 2 Axes>"
      ]
     },
     "metadata": {},
     "output_type": "display_data"
    }
   ],
   "source": [
    "num_plot(df_clean, 'internships', 'No. Internships by Placed', '')"
   ]
  },
  {
   "cell_type": "markdown",
   "id": "19cfe5fb",
   "metadata": {
    "papermill": {
     "duration": 0.111509,
     "end_time": "2023-03-18T10:12:51.917329",
     "exception": false,
     "start_time": "2023-03-18T10:12:51.805820",
     "status": "completed"
    },
    "tags": []
   },
   "source": [
    "We can see that students who had 2 ore more internships tends to be placed."
   ]
  },
  {
   "cell_type": "markdown",
   "id": "d5d19829",
   "metadata": {
    "papermill": {
     "duration": 0.10939,
     "end_time": "2023-03-18T10:12:52.135997",
     "exception": false,
     "start_time": "2023-03-18T10:12:52.026607",
     "status": "completed"
    },
    "tags": []
   },
   "source": [
    "Moreover, from the boxplots, we can see that students who did 3 internships are labeled as outliers, lets check!"
   ]
  },
  {
   "cell_type": "markdown",
   "id": "55deeb6f",
   "metadata": {
    "papermill": {
     "duration": 0.111296,
     "end_time": "2023-03-18T10:12:52.356367",
     "exception": false,
     "start_time": "2023-03-18T10:12:52.245071",
     "status": "completed"
    },
    "tags": []
   },
   "source": [
    "# Analysis of students with many internships (3 internships)"
   ]
  },
  {
   "cell_type": "code",
   "execution_count": 28,
   "id": "b5492de9",
   "metadata": {
    "execution": {
     "iopub.execute_input": "2023-03-18T10:12:52.578391Z",
     "iopub.status.busy": "2023-03-18T10:12:52.577620Z",
     "iopub.status.idle": "2023-03-18T10:12:52.582261Z",
     "shell.execute_reply": "2023-03-18T10:12:52.582816Z"
    },
    "papermill": {
     "duration": 0.118335,
     "end_time": "2023-03-18T10:12:52.583022",
     "exception": false,
     "start_time": "2023-03-18T10:12:52.464687",
     "status": "completed"
    },
    "tags": []
   },
   "outputs": [],
   "source": [
    "df_int = df.loc[df['internships'] == 3]"
   ]
  },
  {
   "cell_type": "code",
   "execution_count": 29,
   "id": "4b767957",
   "metadata": {
    "_kg_hide-input": true,
    "execution": {
     "iopub.execute_input": "2023-03-18T10:12:52.806776Z",
     "iopub.status.busy": "2023-03-18T10:12:52.806047Z",
     "iopub.status.idle": "2023-03-18T10:12:53.941792Z",
     "shell.execute_reply": "2023-03-18T10:12:53.942409Z"
    },
    "papermill": {
     "duration": 1.249137,
     "end_time": "2023-03-18T10:12:53.942655",
     "exception": false,
     "start_time": "2023-03-18T10:12:52.693518",
     "status": "completed"
    },
    "tags": []
   },
   "outputs": [
    {
     "data": {
      "image/png": "[encoded data removed]",
      "text/plain": [
       "<Figure size 1080x288 with 4 Axes>"
      ]
     },
     "metadata": {},
     "output_type": "display_data"
    }
   ],
   "source": [
    "fig, ax = plt.subplots(1,4, figsize=(15,4))\n",
    "plt.suptitle('Analysis of students with 3 internships')\n",
    "sns.countplot(ax=ax[0], x='placed', data=df_int,palette=palette)\n",
    "for container in ax[0].containers:\n",
    "    ax[0].bar_label(container)\n",
    "sns.countplot(ax=ax[1], x='gender', hue='placed', data=df_int,palette=palette)\n",
    "for container in ax[1].containers:\n",
    "    ax[1].bar_label(container)\n",
    "sns.countplot(ax=ax[2], x='age', data=df_int, hue='placed',palette=palette)\n",
    "for container in ax[2].containers:\n",
    "    ax[2].bar_label(container)\n",
    "sns.countplot(ax=ax[3], x='backlogs', hue='placed', data=df_int,palette=palette)\n",
    "for container in ax[3].containers:\n",
    "    ax[3].bar_label(container)\n",
    "plt.legend(title='placed?', loc='upper right', labels=['no', 'yes'])\n",
    "plt.show()"
   ]
  },
  {
   "cell_type": "markdown",
   "id": "ab93177d",
   "metadata": {
    "papermill": {
     "duration": 0.110906,
     "end_time": "2023-03-18T10:12:54.165851",
     "exception": false,
     "start_time": "2023-03-18T10:12:54.054945",
     "status": "completed"
    },
    "tags": []
   },
   "source": [
    "From these plots about students with 3 internships we can state:\n",
    "- Most of the students are placed\n",
    "- Most of them have no history of backlogs. In particular, the great majority of students with no backlogs got placed.\n",
    "- The mean age is around 21-22 yo, with some students older than 22 who all got placed."
   ]
  },
  {
   "cell_type": "markdown",
   "id": "abd2fea0",
   "metadata": {
    "papermill": {
     "duration": 0.110619,
     "end_time": "2023-03-18T10:12:54.387576",
     "exception": false,
     "start_time": "2023-03-18T10:12:54.276957",
     "status": "completed"
    },
    "tags": []
   },
   "source": [
    "# Q2 - Does the number internships affect the probability of getting placed? (chi square test)"
   ]
  },
  {
   "cell_type": "markdown",
   "id": "443c375d",
   "metadata": {
    "papermill": {
     "duration": 0.112307,
     "end_time": "2023-03-18T10:12:54.612964",
     "exception": false,
     "start_time": "2023-03-18T10:12:54.500657",
     "status": "completed"
    },
    "tags": []
   },
   "source": [
    "## Hypothesis testing for categeorical variables indepedence"
   ]
  },
  {
   "cell_type": "markdown",
   "id": "34dea5ad",
   "metadata": {
    "papermill": {
     "duration": 0.111136,
     "end_time": "2023-03-18T10:12:54.838009",
     "exception": false,
     "start_time": "2023-03-18T10:12:54.726873",
     "status": "completed"
    },
    "tags": []
   },
   "source": [
    "- H0: Number of internships and placed are independent <br>\n",
    "- H1: Number of internships and placed are not independent"
   ]
  },
  {
   "cell_type": "code",
   "execution_count": 30,
   "id": "9d053df1",
   "metadata": {
    "execution": {
     "iopub.execute_input": "2023-03-18T10:12:55.070844Z",
     "iopub.status.busy": "2023-03-18T10:12:55.070097Z",
     "iopub.status.idle": "2023-03-18T10:12:55.085201Z",
     "shell.execute_reply": "2023-03-18T10:12:55.085717Z"
    },
    "papermill": {
     "duration": 0.133457,
     "end_time": "2023-03-18T10:12:55.085948",
     "exception": false,
     "start_time": "2023-03-18T10:12:54.952491",
     "status": "completed"
    },
    "tags": []
   },
   "outputs": [
    {
     "name": "stdout",
     "output_type": "stream",
     "text": [
      "internships    0    1    2   3\n",
      "placed                        \n",
      "0            677  572   68  10\n",
      "1            653  659  280  40\n"
     ]
    }
   ],
   "source": [
    "# Create a table of cross-tabulations\n",
    "table = pd.crosstab(df_clean[\"placed\"],df_clean[\"internships\"])\n",
    "print(table)"
   ]
  },
  {
   "cell_type": "code",
   "execution_count": 31,
   "id": "e29aff25",
   "metadata": {
    "execution": {
     "iopub.execute_input": "2023-03-18T10:12:55.316663Z",
     "iopub.status.busy": "2023-03-18T10:12:55.315588Z",
     "iopub.status.idle": "2023-03-18T10:12:55.321337Z",
     "shell.execute_reply": "2023-03-18T10:12:55.321835Z"
    },
    "papermill": {
     "duration": 0.124618,
     "end_time": "2023-03-18T10:12:55.322054",
     "exception": false,
     "start_time": "2023-03-18T10:12:55.197436",
     "status": "completed"
    },
    "tags": []
   },
   "outputs": [
    {
     "name": "stdout",
     "output_type": "stream",
     "text": [
      "Degress of freedom = 3\n",
      "Expected frequencies  [[596.45488341 552.05711389 156.06488679  22.42311592]\n",
      " [733.54511659 678.94288611 191.93511321  27.57688408]]\n"
     ]
    }
   ],
   "source": [
    "stat, p, dof, expected = chi2_contingency(table)\n",
    "print('Degress of freedom = %d' % dof)\n",
    "print('Expected frequencies ', expected)"
   ]
  },
  {
   "cell_type": "code",
   "execution_count": 32,
   "id": "2c5cf7e1",
   "metadata": {
    "execution": {
     "iopub.execute_input": "2023-03-18T10:12:55.552099Z",
     "iopub.status.busy": "2023-03-18T10:12:55.551354Z",
     "iopub.status.idle": "2023-03-18T10:12:55.554183Z",
     "shell.execute_reply": "2023-03-18T10:12:55.554710Z"
    },
    "papermill": {
     "duration": 0.121412,
     "end_time": "2023-03-18T10:12:55.554923",
     "exception": false,
     "start_time": "2023-03-18T10:12:55.433511",
     "status": "completed"
    },
    "tags": []
   },
   "outputs": [
    {
     "name": "stdout",
     "output_type": "stream",
     "text": [
      "probability=0.950, critical=7.815, stat=123.606\n"
     ]
    }
   ],
   "source": [
    "prob = 0.95\n",
    "critical = chi2.ppf(0.95, dof)\n",
    "print('probability=%.3f, critical=%.3f, stat=%.3f' % (prob, critical, stat))"
   ]
  },
  {
   "cell_type": "code",
   "execution_count": 33,
   "id": "b60265b6",
   "metadata": {
    "execution": {
     "iopub.execute_input": "2023-03-18T10:12:55.788769Z",
     "iopub.status.busy": "2023-03-18T10:12:55.787996Z",
     "iopub.status.idle": "2023-03-18T10:12:55.792267Z",
     "shell.execute_reply": "2023-03-18T10:12:55.791351Z"
    },
    "papermill": {
     "duration": 0.122456,
     "end_time": "2023-03-18T10:12:55.792473",
     "exception": false,
     "start_time": "2023-03-18T10:12:55.670017",
     "status": "completed"
    },
    "tags": []
   },
   "outputs": [
    {
     "name": "stdout",
     "output_type": "stream",
     "text": [
      "The variables are dependent (We reject H0)\n"
     ]
    }
   ],
   "source": [
    "# interpret test-statistic\n",
    "if abs(stat) >= critical:\n",
    "\tprint('The variables are dependent (We reject H0)')\n",
    "else:\n",
    "\tprint('The variables are independent (We fail to reject H0)')"
   ]
  },
  {
   "cell_type": "code",
   "execution_count": 34,
   "id": "d9149478",
   "metadata": {
    "execution": {
     "iopub.execute_input": "2023-03-18T10:12:56.026616Z",
     "iopub.status.busy": "2023-03-18T10:12:56.025777Z",
     "iopub.status.idle": "2023-03-18T10:12:56.029955Z",
     "shell.execute_reply": "2023-03-18T10:12:56.029261Z"
    },
    "papermill": {
     "duration": 0.122269,
     "end_time": "2023-03-18T10:12:56.030133",
     "exception": false,
     "start_time": "2023-03-18T10:12:55.907864",
     "status": "completed"
    },
    "tags": []
   },
   "outputs": [
    {
     "name": "stdout",
     "output_type": "stream",
     "text": [
      "Significance = 0.050, p = 0.000\n",
      "The variables are dependent (We reject H0)\n"
     ]
    }
   ],
   "source": [
    "# interpret p-value\n",
    "alpha = 1.0 - prob\n",
    "print('Significance = %.3f, p = %.3f' % (alpha, p))\n",
    "if p <= alpha:\n",
    "\tprint('The variables are dependent (We reject H0)')\n",
    "else:\n",
    "\tprint('The variables are independent (We fail to reject H0)')"
   ]
  },
  {
   "cell_type": "markdown",
   "id": "56ba7539",
   "metadata": {
    "papermill": {
     "duration": 0.112489,
     "end_time": "2023-03-18T10:12:56.256631",
     "exception": false,
     "start_time": "2023-03-18T10:12:56.144142",
     "status": "completed"
    },
    "tags": []
   },
   "source": [
    "We can see that :\n",
    "- The P-value is lower than the significance level of 5%, so we can reject the null hypothesis with a confidence of 95%.\n",
    "\n",
    "- The Test-statistic is inferior than the critical value, so we can reject the null hypothesis with a confidence of 95%."
   ]
  },
  {
   "cell_type": "markdown",
   "id": "dec1ee0c",
   "metadata": {
    "papermill": {
     "duration": 0.120185,
     "end_time": "2023-03-18T10:12:56.511265",
     "exception": false,
     "start_time": "2023-03-18T10:12:56.391080",
     "status": "completed"
    },
    "tags": []
   },
   "source": [
    "This means, that the number of internships affects placement.<br>\n",
    "In particular, from the plots we could see that students who did 2 or more internships placed a job more than students who did less internships."
   ]
  },
  {
   "cell_type": "markdown",
   "id": "66d63d61",
   "metadata": {
    "papermill": {
     "duration": 0.112578,
     "end_time": "2023-03-18T10:12:56.738955",
     "exception": false,
     "start_time": "2023-03-18T10:12:56.626377",
     "status": "completed"
    },
    "tags": []
   },
   "source": [
    "# Q3 - Is gender indepedent from 'placement'? (chi square test)"
   ]
  },
  {
   "cell_type": "markdown",
   "id": "c44d7c44",
   "metadata": {
    "papermill": {
     "duration": 0.112718,
     "end_time": "2023-03-18T10:12:56.965460",
     "exception": false,
     "start_time": "2023-03-18T10:12:56.852742",
     "status": "completed"
    },
    "tags": []
   },
   "source": [
    "In the following we will carry out a chi square test to test if gender and placed are independent. In other words, we are asking ourselves if placement depends on sex or not.\n"
   ]
  },
  {
   "cell_type": "code",
   "execution_count": 35,
   "id": "444d5023",
   "metadata": {
    "_kg_hide-input": true,
    "execution": {
     "iopub.execute_input": "2023-03-18T10:12:57.227554Z",
     "iopub.status.busy": "2023-03-18T10:12:57.224397Z",
     "iopub.status.idle": "2023-03-18T10:12:57.415344Z",
     "shell.execute_reply": "2023-03-18T10:12:57.415856Z"
    },
    "papermill": {
     "duration": 0.337498,
     "end_time": "2023-03-18T10:12:57.416073",
     "exception": false,
     "start_time": "2023-03-18T10:12:57.078575",
     "status": "completed"
    },
    "tags": []
   },
   "outputs": [
    {
     "data": {
      "image/png": "[encoded data removed]",
      "text/plain": [
       "<Figure size 360x288 with 1 Axes>"
      ]
     },
     "metadata": {},
     "output_type": "display_data"
    }
   ],
   "source": [
    "plt.figure(figsize=(5,4))\n",
    "plt.title('Placed by gender')\n",
    "g = sns.countplot(x='gender', data=df_clean, hue='placed',palette=palette)\n",
    "for container in g.containers:\n",
    "    g.bar_label(container)\n",
    "plt.legend(title='Placed?', title_fontsize=14, labels=['no', 'yes'], fontsize=13, fancybox=True, shadow=True, frameon=True)\n",
    "plt.yticks([])\n",
    "plt.show()"
   ]
  },
  {
   "cell_type": "markdown",
   "id": "c14a2aee",
   "metadata": {
    "papermill": {
     "duration": 0.113621,
     "end_time": "2023-03-18T10:12:57.643044",
     "exception": false,
     "start_time": "2023-03-18T10:12:57.529423",
     "status": "completed"
    },
    "tags": []
   },
   "source": [
    "- H0: gender and placement are independent <br>\n",
    "- H1: gender and placement are not dependent"
   ]
  },
  {
   "cell_type": "code",
   "execution_count": 36,
   "id": "e380f861",
   "metadata": {
    "execution": {
     "iopub.execute_input": "2023-03-18T10:12:57.874209Z",
     "iopub.status.busy": "2023-03-18T10:12:57.873438Z",
     "iopub.status.idle": "2023-03-18T10:12:57.893608Z",
     "shell.execute_reply": "2023-03-18T10:12:57.894178Z"
    },
    "papermill": {
     "duration": 0.138076,
     "end_time": "2023-03-18T10:12:57.894393",
     "exception": false,
     "start_time": "2023-03-18T10:12:57.756317",
     "status": "completed"
    },
    "tags": []
   },
   "outputs": [
    {
     "name": "stdout",
     "output_type": "stream",
     "text": [
      "placed     0     1\n",
      "gender            \n",
      "Female   216   275\n",
      "Male    1111  1357\n"
     ]
    }
   ],
   "source": [
    "# Create a table of cross-tabulations\n",
    "table = pd.crosstab(df_clean[\"gender\"],df_clean[\"placed\"])\n",
    "print(table)"
   ]
  },
  {
   "cell_type": "code",
   "execution_count": 37,
   "id": "c768ed90",
   "metadata": {
    "execution": {
     "iopub.execute_input": "2023-03-18T10:12:58.132730Z",
     "iopub.status.busy": "2023-03-18T10:12:58.128923Z",
     "iopub.status.idle": "2023-03-18T10:12:58.136628Z",
     "shell.execute_reply": "2023-03-18T10:12:58.135836Z"
    },
    "papermill": {
     "duration": 0.125739,
     "end_time": "2023-03-18T10:12:58.136846",
     "exception": false,
     "start_time": "2023-03-18T10:12:58.011107",
     "status": "completed"
    },
    "tags": []
   },
   "outputs": [
    {
     "name": "stdout",
     "output_type": "stream",
     "text": [
      "Degress of freedom = 1\n",
      "Expected frequencies  [[ 220.19499831  270.80500169]\n",
      " [1106.80500169 1361.19499831]]\n"
     ]
    }
   ],
   "source": [
    "stat, p, dof, expected = chi2_contingency(table)\n",
    "print('Degress of freedom = %d' % dof)\n",
    "print('Expected frequencies ', expected)"
   ]
  },
  {
   "cell_type": "code",
   "execution_count": 38,
   "id": "845e9700",
   "metadata": {
    "execution": {
     "iopub.execute_input": "2023-03-18T10:12:58.382891Z",
     "iopub.status.busy": "2023-03-18T10:12:58.380630Z",
     "iopub.status.idle": "2023-03-18T10:12:58.386246Z",
     "shell.execute_reply": "2023-03-18T10:12:58.386914Z"
    },
    "papermill": {
     "duration": 0.128287,
     "end_time": "2023-03-18T10:12:58.387213",
     "exception": false,
     "start_time": "2023-03-18T10:12:58.258926",
     "status": "completed"
    },
    "tags": []
   },
   "outputs": [
    {
     "name": "stdout",
     "output_type": "stream",
     "text": [
      "probability=0.950, critical=3.841, stat=0.135\n"
     ]
    }
   ],
   "source": [
    "prob = 0.95\n",
    "critical = chi2.ppf(0.95, dof)\n",
    "print('probability=%.3f, critical=%.3f, stat=%.3f' % (prob, critical, stat))"
   ]
  },
  {
   "cell_type": "code",
   "execution_count": 39,
   "id": "41ba6af3",
   "metadata": {
    "execution": {
     "iopub.execute_input": "2023-03-18T10:12:58.628712Z",
     "iopub.status.busy": "2023-03-18T10:12:58.626032Z",
     "iopub.status.idle": "2023-03-18T10:12:58.632010Z",
     "shell.execute_reply": "2023-03-18T10:12:58.631305Z"
    },
    "papermill": {
     "duration": 0.126491,
     "end_time": "2023-03-18T10:12:58.632192",
     "exception": false,
     "start_time": "2023-03-18T10:12:58.505701",
     "status": "completed"
    },
    "tags": []
   },
   "outputs": [
    {
     "name": "stdout",
     "output_type": "stream",
     "text": [
      "Significance = 0.050, p = 0.714\n",
      "The variables are independent (We fail to reject H0)\n"
     ]
    }
   ],
   "source": [
    "# interpret p-value\n",
    "alpha = 1.0 - prob\n",
    "print('Significance = %.3f, p = %.3f' % (alpha, p))\n",
    "if p <= alpha:\n",
    "\tprint('The variables are dependent (We reject H0)')\n",
    "else:\n",
    "\tprint('The variables are independent (We fail to reject H0)')"
   ]
  },
  {
   "cell_type": "markdown",
   "id": "ce940d49",
   "metadata": {
    "papermill": {
     "duration": 0.115392,
     "end_time": "2023-03-18T10:12:58.864707",
     "exception": false,
     "start_time": "2023-03-18T10:12:58.749315",
     "status": "completed"
    },
    "tags": []
   },
   "source": [
    "The p-value is definitely higher than 0.05 (0.752), so at a 95% confidence level we cannot reject the null hypothesis of indipendence between gender and sex."
   ]
  },
  {
   "cell_type": "markdown",
   "id": "db6aa723",
   "metadata": {
    "papermill": {
     "duration": 0.114887,
     "end_time": "2023-03-18T10:12:59.095338",
     "exception": false,
     "start_time": "2023-03-18T10:12:58.980451",
     "status": "completed"
    },
    "tags": []
   },
   "source": [
    "**Sex and placement are independent with a confidence of 95%.**"
   ]
  },
  {
   "cell_type": "markdown",
   "id": "9ff88ae7",
   "metadata": {
    "papermill": {
     "duration": 0.114745,
     "end_time": "2023-03-18T10:12:59.325897",
     "exception": false,
     "start_time": "2023-03-18T10:12:59.211152",
     "status": "completed"
    },
    "tags": []
   },
   "source": [
    "# Q4 - Does the number of backlogs affect the placement? (chi square test)"
   ]
  },
  {
   "cell_type": "code",
   "execution_count": 40,
   "id": "c3a42cc1",
   "metadata": {
    "_kg_hide-input": true,
    "execution": {
     "iopub.execute_input": "2023-03-18T10:12:59.568664Z",
     "iopub.status.busy": "2023-03-18T10:12:59.567852Z",
     "iopub.status.idle": "2023-03-18T10:12:59.771231Z",
     "shell.execute_reply": "2023-03-18T10:12:59.771853Z"
    },
    "papermill": {
     "duration": 0.33135,
     "end_time": "2023-03-18T10:12:59.772215",
     "exception": false,
     "start_time": "2023-03-18T10:12:59.440865",
     "status": "completed"
    },
    "tags": []
   },
   "outputs": [
    {
     "data": {
      "image/png": "[encoded data removed]",
      "text/plain": [
       "<Figure size 288x288 with 1 Axes>"
      ]
     },
     "metadata": {},
     "output_type": "display_data"
    }
   ],
   "source": [
    "plt.figure(figsize=(4,4))\n",
    "plt.title('Placed by backlogs')\n",
    "g = sns.countplot(x='backlogs', data=df_clean, hue='placed',palette=palette)\n",
    "for container in g.containers:\n",
    "    g.bar_label(container)\n",
    "plt.legend(title='Placed?', title_fontsize=14, labels=['no', 'yes'], fontsize=13, fancybox=True, shadow=True, frameon=True)\n",
    "plt.yticks([])\n",
    "plt.show()"
   ]
  },
  {
   "cell_type": "markdown",
   "id": "4655eb6f",
   "metadata": {
    "papermill": {
     "duration": 0.116187,
     "end_time": "2023-03-18T10:13:00.007391",
     "exception": false,
     "start_time": "2023-03-18T10:12:59.891204",
     "status": "completed"
    },
    "tags": []
   },
   "source": [
    "It is not clear if backlogs and placed are independent, we will carry out a chi square test to check it !"
   ]
  },
  {
   "cell_type": "markdown",
   "id": "326e353d",
   "metadata": {
    "papermill": {
     "duration": 0.121289,
     "end_time": "2023-03-18T10:13:00.245963",
     "exception": false,
     "start_time": "2023-03-18T10:13:00.124674",
     "status": "completed"
    },
    "tags": []
   },
   "source": [
    "- H0: backlogs and placement are independent <br>\n",
    "- H1: backlogs and placement are not independent"
   ]
  },
  {
   "cell_type": "code",
   "execution_count": 41,
   "id": "dda1b320",
   "metadata": {
    "execution": {
     "iopub.execute_input": "2023-03-18T10:13:00.485472Z",
     "iopub.status.busy": "2023-03-18T10:13:00.484730Z",
     "iopub.status.idle": "2023-03-18T10:13:00.503890Z",
     "shell.execute_reply": "2023-03-18T10:13:00.503047Z"
    },
    "papermill": {
     "duration": 0.140713,
     "end_time": "2023-03-18T10:13:00.504083",
     "exception": false,
     "start_time": "2023-03-18T10:13:00.363370",
     "status": "completed"
    },
    "tags": []
   },
   "outputs": [
    {
     "name": "stdout",
     "output_type": "stream",
     "text": [
      "placed       0     1\n",
      "backlogs            \n",
      "0         1059  1331\n",
      "1          268   301\n"
     ]
    }
   ],
   "source": [
    "logs_plac = pd.crosstab(df_clean[\"backlogs\"],df_clean[\"placed\"])\n",
    "print(logs_plac)"
   ]
  },
  {
   "cell_type": "code",
   "execution_count": 42,
   "id": "b0631d64",
   "metadata": {
    "execution": {
     "iopub.execute_input": "2023-03-18T10:13:00.746356Z",
     "iopub.status.busy": "2023-03-18T10:13:00.745514Z",
     "iopub.status.idle": "2023-03-18T10:13:00.752840Z",
     "shell.execute_reply": "2023-03-18T10:13:00.753427Z"
    },
    "papermill": {
     "duration": 0.130326,
     "end_time": "2023-03-18T10:13:00.753689",
     "exception": false,
     "start_time": "2023-03-18T10:13:00.623363",
     "status": "completed"
    },
    "tags": []
   },
   "outputs": [
    {
     "name": "stdout",
     "output_type": "stream",
     "text": [
      "Degress of freedom = 1\n",
      "Expected frequencies  [[1071.82494086 1318.17505914]\n",
      " [ 255.17505914  313.82494086]]\n"
     ]
    }
   ],
   "source": [
    "stat, p, dof, expected = chi2_contingency(logs_plac)\n",
    "print('Degress of freedom = %d' % dof)\n",
    "print('Expected frequencies ', expected)"
   ]
  },
  {
   "cell_type": "code",
   "execution_count": 43,
   "id": "eb993659",
   "metadata": {
    "execution": {
     "iopub.execute_input": "2023-03-18T10:13:00.995508Z",
     "iopub.status.busy": "2023-03-18T10:13:00.994780Z",
     "iopub.status.idle": "2023-03-18T10:13:01.002502Z",
     "shell.execute_reply": "2023-03-18T10:13:01.003284Z"
    },
    "papermill": {
     "duration": 0.130904,
     "end_time": "2023-03-18T10:13:01.003570",
     "exception": false,
     "start_time": "2023-03-18T10:13:00.872666",
     "status": "completed"
    },
    "tags": []
   },
   "outputs": [
    {
     "name": "stdout",
     "output_type": "stream",
     "text": [
      "probability=0.950, critical=3.841, stat=1.336\n",
      "The variables are independent (We fail to reject H0)\n",
      "Significance = 0.050, p = 0.248\n",
      "The variables are independent (We fail to reject H0)\n"
     ]
    }
   ],
   "source": [
    "prob = 0.95\n",
    "critical = chi2.ppf(prob, dof)\n",
    "print('probability=%.3f, critical=%.3f, stat=%.3f' % (prob, critical, stat))\n",
    "# interpret test-statistic\n",
    "if abs(stat) >= critical:\n",
    "\tprint('The variables are dependent (We reject H0)')\n",
    "else:\n",
    "\tprint('The variables are independent (We fail to reject H0)')\n",
    "# interpret p-value\n",
    "alpha = 1.0 - prob\n",
    "print('Significance = %.3f, p = %.3f' % (alpha, p))\n",
    "if p <= alpha:\n",
    "\tprint('The variables are dependent (We reject H0)')\n",
    "else:\n",
    "\tprint('The variables are independent (We fail to reject H0)')"
   ]
  },
  {
   "cell_type": "markdown",
   "id": "8f8bc384",
   "metadata": {
    "papermill": {
     "duration": 0.119487,
     "end_time": "2023-03-18T10:13:01.241402",
     "exception": false,
     "start_time": "2023-03-18T10:13:01.121915",
     "status": "completed"
    },
    "tags": []
   },
   "source": [
    "\n",
    "\n",
    "**From the test we conclude that we cannot reject the null hypotheis of independence between backlogs and placement with a confidence of 95%**"
   ]
  },
  {
   "cell_type": "markdown",
   "id": "aeae9175",
   "metadata": {
    "papermill": {
     "duration": 0.120262,
     "end_time": "2023-03-18T10:13:01.484298",
     "exception": false,
     "start_time": "2023-03-18T10:13:01.364036",
     "status": "completed"
    },
    "tags": []
   },
   "source": [
    "# Q5 - Does 'Hostel' affect the placement? (chi square test)"
   ]
  },
  {
   "cell_type": "code",
   "execution_count": 44,
   "id": "da8ba359",
   "metadata": {
    "_kg_hide-input": true,
    "execution": {
     "iopub.execute_input": "2023-03-18T10:13:01.756025Z",
     "iopub.status.busy": "2023-03-18T10:13:01.751880Z",
     "iopub.status.idle": "2023-03-18T10:13:01.951038Z",
     "shell.execute_reply": "2023-03-18T10:13:01.950465Z"
    },
    "papermill": {
     "duration": 0.346234,
     "end_time": "2023-03-18T10:13:01.951235",
     "exception": false,
     "start_time": "2023-03-18T10:13:01.605001",
     "status": "completed"
    },
    "tags": []
   },
   "outputs": [
    {
     "data": {
      "image/png": "[encoded data removed]",
      "text/plain": [
       "<Figure size 288x288 with 1 Axes>"
      ]
     },
     "metadata": {},
     "output_type": "display_data"
    }
   ],
   "source": [
    "plt.figure(figsize=(4,4))\n",
    "plt.title('Hostel by placed')\n",
    "g = sns.countplot(x='hostel', data=df_clean, hue='placed',palette=palette)\n",
    "for container in g.containers:\n",
    "    g.bar_label(container)\n",
    "plt.legend(title='Placed?', title_fontsize=14, labels=['no', 'yes'], fontsize=13, fancybox=True, shadow=True, frameon=True)\n",
    "plt.yticks([])\n",
    "plt.show()"
   ]
  },
  {
   "cell_type": "markdown",
   "id": "2141eb9a",
   "metadata": {
    "papermill": {
     "duration": 0.120597,
     "end_time": "2023-03-18T10:13:02.196990",
     "exception": false,
     "start_time": "2023-03-18T10:13:02.076393",
     "status": "completed"
    },
    "tags": []
   },
   "source": [
    "It is not clear if hostel and placed are independent, we will carry out a chi square test to check it !"
   ]
  },
  {
   "cell_type": "markdown",
   "id": "86da30e6",
   "metadata": {
    "papermill": {
     "duration": 0.122263,
     "end_time": "2023-03-18T10:13:02.439160",
     "exception": false,
     "start_time": "2023-03-18T10:13:02.316897",
     "status": "completed"
    },
    "tags": []
   },
   "source": [
    "- H0: hostel and placement are independent <br>\n",
    "- H1: hostel and placement are not independent"
   ]
  },
  {
   "cell_type": "code",
   "execution_count": 45,
   "id": "20536ab6",
   "metadata": {
    "execution": {
     "iopub.execute_input": "2023-03-18T10:13:02.687403Z",
     "iopub.status.busy": "2023-03-18T10:13:02.686626Z",
     "iopub.status.idle": "2023-03-18T10:13:02.700746Z",
     "shell.execute_reply": "2023-03-18T10:13:02.701360Z"
    },
    "papermill": {
     "duration": 0.142763,
     "end_time": "2023-03-18T10:13:02.701595",
     "exception": false,
     "start_time": "2023-03-18T10:13:02.558832",
     "status": "completed"
    },
    "tags": []
   },
   "outputs": [
    {
     "name": "stdout",
     "output_type": "stream",
     "text": [
      "placed    0     1\n",
      "hostel           \n",
      "0       945  1216\n",
      "1       382   416\n"
     ]
    }
   ],
   "source": [
    "host_plac = pd.crosstab(df_clean[\"hostel\"],df_clean[\"placed\"])\n",
    "print(host_plac)"
   ]
  },
  {
   "cell_type": "code",
   "execution_count": 46,
   "id": "9ef5c18b",
   "metadata": {
    "execution": {
     "iopub.execute_input": "2023-03-18T10:13:02.950626Z",
     "iopub.status.busy": "2023-03-18T10:13:02.949542Z",
     "iopub.status.idle": "2023-03-18T10:13:02.954348Z",
     "shell.execute_reply": "2023-03-18T10:13:02.954824Z"
    },
    "papermill": {
     "duration": 0.132839,
     "end_time": "2023-03-18T10:13:02.955041",
     "exception": false,
     "start_time": "2023-03-18T10:13:02.822202",
     "status": "completed"
    },
    "tags": []
   },
   "outputs": [
    {
     "name": "stdout",
     "output_type": "stream",
     "text": [
      "Degress of freedom = 1\n",
      "Expected frequencies  [[ 969.12706996 1191.87293004]\n",
      " [ 357.87293004  440.12706996]]\n"
     ]
    }
   ],
   "source": [
    "stat, p, dof, expected = chi2_contingency(host_plac)\n",
    "print('Degress of freedom = %d' % dof)\n",
    "print('Expected frequencies ', expected)"
   ]
  },
  {
   "cell_type": "code",
   "execution_count": 47,
   "id": "5091f618",
   "metadata": {
    "execution": {
     "iopub.execute_input": "2023-03-18T10:13:03.208391Z",
     "iopub.status.busy": "2023-03-18T10:13:03.207301Z",
     "iopub.status.idle": "2023-03-18T10:13:03.215736Z",
     "shell.execute_reply": "2023-03-18T10:13:03.216271Z"
    },
    "papermill": {
     "duration": 0.137269,
     "end_time": "2023-03-18T10:13:03.216516",
     "exception": false,
     "start_time": "2023-03-18T10:13:03.079247",
     "status": "completed"
    },
    "tags": []
   },
   "outputs": [
    {
     "name": "stdout",
     "output_type": "stream",
     "text": [
      "probability=0.950, critical=3.841, stat=3.873\n",
      "The variables are dependent (We reject H0)\n",
      "Significance = 0.050, p = 0.049\n",
      "The variables are dependent (We reject H0)\n"
     ]
    }
   ],
   "source": [
    "prob = 0.95\n",
    "critical = chi2.ppf(prob, dof)\n",
    "print('probability=%.3f, critical=%.3f, stat=%.3f' % (prob, critical, stat))\n",
    "# interpret test-statistic\n",
    "if abs(stat) >= critical:\n",
    "\tprint('The variables are dependent (We reject H0)')\n",
    "else:\n",
    "\tprint('The variables are independent (We fail to reject H0)')\n",
    "# interpret p-value\n",
    "alpha = 1.0 - prob\n",
    "print('Significance = %.3f, p = %.3f' % (alpha, p))\n",
    "if p <= alpha:\n",
    "\tprint('The variables are dependent (We reject H0)')\n",
    "else:\n",
    "\tprint('The variables are independent (We fail to reject H0)')"
   ]
  },
  {
   "cell_type": "markdown",
   "id": "ebb3d6ef",
   "metadata": {
    "papermill": {
     "duration": 0.124137,
     "end_time": "2023-03-18T10:13:03.460977",
     "exception": false,
     "start_time": "2023-03-18T10:13:03.336840",
     "status": "completed"
    },
    "tags": []
   },
   "source": [
    "**We can conclude that the feature 'hostel' affects the placement. In particular, it looks like that students who didnt live in a college accomodation tended to be placed.**"
   ]
  },
  {
   "cell_type": "markdown",
   "id": "507fa36e",
   "metadata": {
    "papermill": {
     "duration": 0.12078,
     "end_time": "2023-03-18T10:13:03.703558",
     "exception": false,
     "start_time": "2023-03-18T10:13:03.582778",
     "status": "completed"
    },
    "tags": []
   },
   "source": [
    "# Q6 - Does age affect job placement?"
   ]
  },
  {
   "cell_type": "code",
   "execution_count": 48,
   "id": "9f30de98",
   "metadata": {
    "_kg_hide-input": true,
    "execution": {
     "iopub.execute_input": "2023-03-18T10:13:03.978269Z",
     "iopub.status.busy": "2023-03-18T10:13:03.975538Z",
     "iopub.status.idle": "2023-03-18T10:13:04.918065Z",
     "shell.execute_reply": "2023-03-18T10:13:04.917310Z"
    },
    "papermill": {
     "duration": 1.094865,
     "end_time": "2023-03-18T10:13:04.918269",
     "exception": false,
     "start_time": "2023-03-18T10:13:03.823404",
     "status": "completed"
    },
    "tags": []
   },
   "outputs": [
    {
     "data": {
      "image/png": "[encoded data removed]",
      "text/plain": [
       "<Figure size 1080x288 with 4 Axes>"
      ]
     },
     "metadata": {},
     "output_type": "display_data"
    }
   ],
   "source": [
    "fig, ax = plt.subplots(1,4, figsize=(15,4))\n",
    "sns.countplot(ax=ax[0], x='age', data=df_clean)\n",
    "sns.barplot(ax=ax[1], x='placed', y='age', data=df_clean,palette=palette)\n",
    "sns.boxplot(ax=ax[2], x='placed', y='age', data=df_clean,palette=palette)\n",
    "sns.countplot(ax=ax[3], x='age', data=df_clean, hue='placed',palette=palette)\n",
    "plt.show()"
   ]
  },
  {
   "cell_type": "markdown",
   "id": "e2a086fd",
   "metadata": {
    "papermill": {
     "duration": 0.126771,
     "end_time": "2023-03-18T10:13:05.171316",
     "exception": false,
     "start_time": "2023-03-18T10:13:05.044545",
     "status": "completed"
    },
    "tags": []
   },
   "source": [
    "It seems like there is no clear relationship between age and 'placed'. For placed students, there are some outlier values of 'age' consisted of students with an age higher than 26.<br>\n",
    "Who are these students?"
   ]
  },
  {
   "cell_type": "code",
   "execution_count": 49,
   "id": "fd199353",
   "metadata": {
    "execution": {
     "iopub.execute_input": "2023-03-18T10:13:05.434985Z",
     "iopub.status.busy": "2023-03-18T10:13:05.434242Z",
     "iopub.status.idle": "2023-03-18T10:13:05.438846Z",
     "shell.execute_reply": "2023-03-18T10:13:05.438257Z"
    },
    "papermill": {
     "duration": 0.141951,
     "end_time": "2023-03-18T10:13:05.439011",
     "exception": false,
     "start_time": "2023-03-18T10:13:05.297060",
     "status": "completed"
    },
    "tags": []
   },
   "outputs": [
    {
     "data": {
      "text/html": [
       "<div>\n",
       "<style scoped>\n",
       "    .dataframe tbody tr th:only-of-type {\n",
       "        vertical-align: middle;\n",
       "    }\n",
       "\n",
       "    .dataframe tbody tr th {\n",
       "        vertical-align: top;\n",
       "    }\n",
       "\n",
       "    .dataframe thead th {\n",
       "        text-align: right;\n",
       "    }\n",
       "</style>\n",
       "<table border=\"1\" class=\"dataframe\">\n",
       "  <thead>\n",
       "    <tr style=\"text-align: right;\">\n",
       "      <th></th>\n",
       "      <th>age</th>\n",
       "      <th>gender</th>\n",
       "      <th>stream</th>\n",
       "      <th>internships</th>\n",
       "      <th>cgpa</th>\n",
       "      <th>hostel</th>\n",
       "      <th>backlogs</th>\n",
       "      <th>placed</th>\n",
       "    </tr>\n",
       "  </thead>\n",
       "  <tbody>\n",
       "    <tr>\n",
       "      <th>448</th>\n",
       "      <td>28</td>\n",
       "      <td>Male</td>\n",
       "      <td>Civil</td>\n",
       "      <td>0</td>\n",
       "      <td>8</td>\n",
       "      <td>1</td>\n",
       "      <td>0</td>\n",
       "      <td>1</td>\n",
       "    </tr>\n",
       "    <tr>\n",
       "      <th>550</th>\n",
       "      <td>30</td>\n",
       "      <td>Male</td>\n",
       "      <td>Computer Science</td>\n",
       "      <td>1</td>\n",
       "      <td>8</td>\n",
       "      <td>0</td>\n",
       "      <td>0</td>\n",
       "      <td>1</td>\n",
       "    </tr>\n",
       "    <tr>\n",
       "      <th>1444</th>\n",
       "      <td>28</td>\n",
       "      <td>Female</td>\n",
       "      <td>Computer Science</td>\n",
       "      <td>3</td>\n",
       "      <td>8</td>\n",
       "      <td>1</td>\n",
       "      <td>0</td>\n",
       "      <td>1</td>\n",
       "    </tr>\n",
       "    <tr>\n",
       "      <th>2333</th>\n",
       "      <td>29</td>\n",
       "      <td>Female</td>\n",
       "      <td>Mechanical</td>\n",
       "      <td>1</td>\n",
       "      <td>8</td>\n",
       "      <td>1</td>\n",
       "      <td>0</td>\n",
       "      <td>1</td>\n",
       "    </tr>\n",
       "    <tr>\n",
       "      <th>2446</th>\n",
       "      <td>28</td>\n",
       "      <td>Male</td>\n",
       "      <td>Computer Science</td>\n",
       "      <td>0</td>\n",
       "      <td>6</td>\n",
       "      <td>0</td>\n",
       "      <td>0</td>\n",
       "      <td>1</td>\n",
       "    </tr>\n",
       "  </tbody>\n",
       "</table>\n",
       "</div>"
      ],
      "text/plain": [
       "      age  gender            stream  internships  cgpa  hostel  backlogs  \\\n",
       "448    28    Male             Civil            0     8       1         0   \n",
       "550    30    Male  Computer Science            1     8       0         0   \n",
       "1444   28  Female  Computer Science            3     8       1         0   \n",
       "2333   29  Female        Mechanical            1     8       1         0   \n",
       "2446   28    Male  Computer Science            0     6       0         0   \n",
       "\n",
       "      placed  \n",
       "448        1  \n",
       "550        1  \n",
       "1444       1  \n",
       "2333       1  \n",
       "2446       1  "
      ]
     },
     "execution_count": 49,
     "metadata": {},
     "output_type": "execute_result"
    }
   ],
   "source": [
    "df_clean.loc[(df_clean['age'] >26) & (df_clean['placed']==1)]"
   ]
  },
  {
   "cell_type": "markdown",
   "id": "ee0c5174",
   "metadata": {
    "papermill": {
     "duration": 0.1229,
     "end_time": "2023-03-18T10:13:05.684682",
     "exception": false,
     "start_time": "2023-03-18T10:13:05.561782",
     "status": "completed"
    },
    "tags": []
   },
   "source": [
    "It looks like that among these 5 students, all of them do not have any historical backlogs, 4 of them are from 'Computer Science, 4 of them have a quite high cgpa,one of them did 3 internships."
   ]
  },
  {
   "cell_type": "markdown",
   "id": "fcb4283b",
   "metadata": {
    "papermill": {
     "duration": 0.123533,
     "end_time": "2023-03-18T10:13:05.933503",
     "exception": false,
     "start_time": "2023-03-18T10:13:05.809970",
     "status": "completed"
    },
    "tags": []
   },
   "source": [
    "We will remove these outliers."
   ]
  },
  {
   "cell_type": "code",
   "execution_count": 50,
   "id": "3fd12599",
   "metadata": {
    "execution": {
     "iopub.execute_input": "2023-03-18T10:13:06.189766Z",
     "iopub.status.busy": "2023-03-18T10:13:06.188961Z",
     "iopub.status.idle": "2023-03-18T10:13:06.192970Z",
     "shell.execute_reply": "2023-03-18T10:13:06.192219Z"
    },
    "papermill": {
     "duration": 0.13614,
     "end_time": "2023-03-18T10:13:06.193217",
     "exception": false,
     "start_time": "2023-03-18T10:13:06.057077",
     "status": "completed"
    },
    "tags": []
   },
   "outputs": [
    {
     "name": "stdout",
     "output_type": "stream",
     "text": [
      "In total we removed 12 outliers !\n"
     ]
    }
   ],
   "source": [
    "df_clean = df_clean.drop(list(df_clean.loc[(df_clean['age'] > 26) & (df_clean['placed']==1)].index))\n",
    "print('In total we removed {} outliers !'.format(len(df)-len(df_clean)))"
   ]
  },
  {
   "cell_type": "code",
   "execution_count": 51,
   "id": "dad99721",
   "metadata": {
    "_kg_hide-input": true,
    "execution": {
     "iopub.execute_input": "2023-03-18T10:13:06.512700Z",
     "iopub.status.busy": "2023-03-18T10:13:06.474808Z",
     "iopub.status.idle": "2023-03-18T10:13:07.424529Z",
     "shell.execute_reply": "2023-03-18T10:13:07.423695Z"
    },
    "papermill": {
     "duration": 1.107294,
     "end_time": "2023-03-18T10:13:07.424712",
     "exception": false,
     "start_time": "2023-03-18T10:13:06.317418",
     "status": "completed"
    },
    "tags": []
   },
   "outputs": [
    {
     "data": {
      "image/png": "[encoded data removed]",
      "text/plain": [
       "<Figure size 1080x288 with 4 Axes>"
      ]
     },
     "metadata": {},
     "output_type": "display_data"
    }
   ],
   "source": [
    "fig, ax = plt.subplots(1,4, figsize=(15,4))\n",
    "sns.countplot(ax=ax[0], x='age', data=df_clean)\n",
    "sns.barplot(ax=ax[1], x='placed', y='age', data=df_clean,palette=palette)\n",
    "sns.boxplot(ax=ax[2], x='placed', y='age', data=df_clean,palette=palette)\n",
    "sns.countplot(ax=ax[3], x='age', data=df_clean, hue='placed',palette=palette)\n",
    "plt.legend(title='placed?', loc='upper right', labels=['no', 'yes'])\n",
    "plt.title('Age by placement')\n",
    "plt.tight_layout()\n",
    "plt.show()"
   ]
  },
  {
   "cell_type": "markdown",
   "id": "3c06bbc6",
   "metadata": {
    "papermill": {
     "duration": 0.123904,
     "end_time": "2023-03-18T10:13:07.673393",
     "exception": false,
     "start_time": "2023-03-18T10:13:07.549489",
     "status": "completed"
    },
    "tags": []
   },
   "source": [
    "Age looks somewhat normal, we can check its normality though Wilk-Shapiro test!"
   ]
  },
  {
   "cell_type": "code",
   "execution_count": 52,
   "id": "4c486bfc",
   "metadata": {
    "execution": {
     "iopub.execute_input": "2023-03-18T10:13:07.933358Z",
     "iopub.status.busy": "2023-03-18T10:13:07.932075Z",
     "iopub.status.idle": "2023-03-18T10:13:07.936238Z",
     "shell.execute_reply": "2023-03-18T10:13:07.935610Z"
    },
    "papermill": {
     "duration": 0.138755,
     "end_time": "2023-03-18T10:13:07.936408",
     "exception": false,
     "start_time": "2023-03-18T10:13:07.797653",
     "status": "completed"
    },
    "tags": []
   },
   "outputs": [
    {
     "name": "stdout",
     "output_type": "stream",
     "text": [
      "Statistics=0.895, p=0.000\n",
      "Sample does not look Gaussian at 5% significance level  (reject H0)\n"
     ]
    }
   ],
   "source": [
    "stat, p = shapiro(df_clean.age)\n",
    "print('Statistics=%.3f, p=%.3f' % (stat, p))\n",
    "alpha = 0.05\n",
    "if p > alpha:\n",
    "\tprint('Sample looks Gaussian at 5% significance level (fail to reject H0)')\n",
    "else:\n",
    "\tprint('Sample does not look Gaussian at 5% significance level  (reject H0)')"
   ]
  },
  {
   "cell_type": "markdown",
   "id": "e48b4014",
   "metadata": {
    "papermill": {
     "duration": 0.122327,
     "end_time": "2023-03-18T10:13:08.181587",
     "exception": false,
     "start_time": "2023-03-18T10:13:08.059260",
     "status": "completed"
    },
    "tags": []
   },
   "source": [
    "The test tells us that the data is not normal, what if we would not consider students with an age equal or higher than 25?"
   ]
  },
  {
   "cell_type": "code",
   "execution_count": 53,
   "id": "cf4b6233",
   "metadata": {
    "execution": {
     "iopub.execute_input": "2023-03-18T10:13:08.437205Z",
     "iopub.status.busy": "2023-03-18T10:13:08.433025Z",
     "iopub.status.idle": "2023-03-18T10:13:08.441945Z",
     "shell.execute_reply": "2023-03-18T10:13:08.442501Z"
    },
    "papermill": {
     "duration": 0.138492,
     "end_time": "2023-03-18T10:13:08.442709",
     "exception": false,
     "start_time": "2023-03-18T10:13:08.304217",
     "status": "completed"
    },
    "tags": []
   },
   "outputs": [
    {
     "name": "stdout",
     "output_type": "stream",
     "text": [
      "Statistics=0.914, p=0.000\n",
      "Sample does not look Gaussian at 5% significance level  (reject H0)\n"
     ]
    }
   ],
   "source": [
    "stat, p = shapiro(df_clean.loc[df_clean['age']<25].age)\n",
    "print('Statistics=%.3f, p=%.3f' % (stat, p))\n",
    "alpha = 0.05\n",
    "if p > alpha:\n",
    "\tprint('Sample looks Gaussian at 5% significance level (fail to reject H0)')\n",
    "else:\n",
    "\tprint('Sample does not look Gaussian at 5% significance level  (reject H0)')"
   ]
  },
  {
   "cell_type": "markdown",
   "id": "b0ed4085",
   "metadata": {
    "papermill": {
     "duration": 0.122893,
     "end_time": "2023-03-18T10:13:08.688926",
     "exception": false,
     "start_time": "2023-03-18T10:13:08.566033",
     "status": "completed"
    },
    "tags": []
   },
   "source": [
    "The statistics value increases a little bit, meaning that the distribution is more \"normal\" but still it is not normal at 5% significance level."
   ]
  },
  {
   "cell_type": "markdown",
   "id": "126ff632",
   "metadata": {
    "papermill": {
     "duration": 0.124255,
     "end_time": "2023-03-18T10:13:08.940032",
     "exception": false,
     "start_time": "2023-03-18T10:13:08.815777",
     "status": "completed"
    },
    "tags": []
   },
   "source": [
    "Next, it could be interesting to see who are these students with an age higher than 25, did they apply to jobs this late because they did lots of internships and graduated later?"
   ]
  },
  {
   "cell_type": "markdown",
   "id": "f55689a4",
   "metadata": {
    "papermill": {
     "duration": 0.123946,
     "end_time": "2023-03-18T10:13:09.188001",
     "exception": false,
     "start_time": "2023-03-18T10:13:09.064055",
     "status": "completed"
    },
    "tags": []
   },
   "source": [
    "# Q7 - Are the number of internships and age independent? (chi square test)\n",
    "- H0: Age and internships are independent <br>\n",
    "- H1: Age and internships are not independent"
   ]
  },
  {
   "cell_type": "code",
   "execution_count": 54,
   "id": "cce6f2ea",
   "metadata": {
    "execution": {
     "iopub.execute_input": "2023-03-18T10:13:09.443022Z",
     "iopub.status.busy": "2023-03-18T10:13:09.441936Z",
     "iopub.status.idle": "2023-03-18T10:13:09.462314Z",
     "shell.execute_reply": "2023-03-18T10:13:09.462969Z"
    },
    "papermill": {
     "duration": 0.150036,
     "end_time": "2023-03-18T10:13:09.463191",
     "exception": false,
     "start_time": "2023-03-18T10:13:09.313155",
     "status": "completed"
    },
    "tags": []
   },
   "outputs": [
    {
     "name": "stdout",
     "output_type": "stream",
     "text": [
      "age          19   20   21   22  23  24  25  26\n",
      "internships                                   \n",
      "0            71  187  498  384  93  58  15  22\n",
      "1            64  147  421  420  85  58  10  24\n",
      "2            18   33  150  118  12  10   4   3\n",
      "3             3    8   15   19   2   1   0   1\n"
     ]
    }
   ],
   "source": [
    "age_intern = pd.crosstab(df_clean[\"internships\"],df_clean[\"age\"])\n",
    "print(age_intern)"
   ]
  },
  {
   "cell_type": "code",
   "execution_count": 55,
   "id": "b80b490c",
   "metadata": {
    "execution": {
     "iopub.execute_input": "2023-03-18T10:13:09.719971Z",
     "iopub.status.busy": "2023-03-18T10:13:09.716166Z",
     "iopub.status.idle": "2023-03-18T10:13:09.722626Z",
     "shell.execute_reply": "2023-03-18T10:13:09.723274Z"
    },
    "papermill": {
     "duration": 0.136094,
     "end_time": "2023-03-18T10:13:09.723476",
     "exception": false,
     "start_time": "2023-03-18T10:13:09.587382",
     "status": "completed"
    },
    "tags": []
   },
   "outputs": [
    {
     "name": "stdout",
     "output_type": "stream",
     "text": [
      "Degress of freedom = 21\n",
      "Expected frequencies  [[7.01313473e+01 1.68584970e+02 4.87322952e+02 4.23035884e+02\n",
      "  8.63155044e+01 5.70941097e+01 1.30372376e+01 2.24779959e+01]\n",
      " [6.49031821e+01 1.56017265e+02 4.50993907e+02 3.91499323e+02\n",
      "  7.98808395e+01 5.28378470e+01 1.20653351e+01 2.08023020e+01]\n",
      " [1.83777928e+01 4.41773866e+01 1.27702099e+02 1.10855789e+02\n",
      "  2.26188219e+01 1.49614083e+01 3.41638456e+00 5.89031821e+00]\n",
      " [2.58767773e+00 6.22037915e+00 1.79810427e+01 1.56090047e+01\n",
      "  3.18483412e+00 2.10663507e+00 4.81042654e-01 8.29383886e-01]]\n"
     ]
    }
   ],
   "source": [
    "stat, p, dof, expected = chi2_contingency(age_intern)\n",
    "print('Degress of freedom = %d' % dof)\n",
    "print('Expected frequencies ', expected)"
   ]
  },
  {
   "cell_type": "code",
   "execution_count": 56,
   "id": "ffac74cc",
   "metadata": {
    "execution": {
     "iopub.execute_input": "2023-03-18T10:13:09.984804Z",
     "iopub.status.busy": "2023-03-18T10:13:09.983547Z",
     "iopub.status.idle": "2023-03-18T10:13:09.986936Z",
     "shell.execute_reply": "2023-03-18T10:13:09.987688Z"
    },
    "papermill": {
     "duration": 0.139645,
     "end_time": "2023-03-18T10:13:09.987906",
     "exception": false,
     "start_time": "2023-03-18T10:13:09.848261",
     "status": "completed"
    },
    "tags": []
   },
   "outputs": [
    {
     "name": "stdout",
     "output_type": "stream",
     "text": [
      "probability=0.950, critical=32.671, stat=31.659\n",
      "The variables are independent (We fail to reject H0)\n",
      "Significance = 0.050, p = 0.063\n",
      "The variables are independent (We fail to reject H0)\n"
     ]
    }
   ],
   "source": [
    "prob = 0.95\n",
    "critical = chi2.ppf(prob, dof)\n",
    "print('probability=%.3f, critical=%.3f, stat=%.3f' % (prob, critical, stat))\n",
    "# interpret test-statistic\n",
    "if abs(stat) >= critical:\n",
    "\tprint('The variables are dependent (We reject H0)')\n",
    "else:\n",
    "\tprint('The variables are independent (We fail to reject H0)')\n",
    "# interpret p-value\n",
    "alpha = 1.0 - prob\n",
    "print('Significance = %.3f, p = %.3f' % (alpha, p))\n",
    "if p <= alpha:\n",
    "\tprint('The variables are dependent (We reject H0)')\n",
    "else:\n",
    "\tprint('The variables are independent (We fail to reject H0)')"
   ]
  },
  {
   "cell_type": "markdown",
   "id": "bd69b43c",
   "metadata": {
    "papermill": {
     "duration": 0.128281,
     "end_time": "2023-03-18T10:13:10.244287",
     "exception": false,
     "start_time": "2023-03-18T10:13:10.116006",
     "status": "completed"
    },
    "tags": []
   },
   "source": [
    "**The p-value is close to 0.05, so it means that age and the number of internships are somewhat dependent.**"
   ]
  },
  {
   "cell_type": "markdown",
   "id": "d542a744",
   "metadata": {
    "papermill": {
     "duration": 0.125423,
     "end_time": "2023-03-18T10:13:10.496022",
     "exception": false,
     "start_time": "2023-03-18T10:13:10.370599",
     "status": "completed"
    },
    "tags": []
   },
   "source": [
    "# Q8 - Does stream affect placement?"
   ]
  },
  {
   "cell_type": "code",
   "execution_count": 57,
   "id": "a038aaa4",
   "metadata": {
    "execution": {
     "iopub.execute_input": "2023-03-18T10:13:10.752798Z",
     "iopub.status.busy": "2023-03-18T10:13:10.751692Z",
     "iopub.status.idle": "2023-03-18T10:13:10.760846Z",
     "shell.execute_reply": "2023-03-18T10:13:10.760287Z"
    },
    "papermill": {
     "duration": 0.1381,
     "end_time": "2023-03-18T10:13:10.761053",
     "exception": false,
     "start_time": "2023-03-18T10:13:10.622953",
     "status": "completed"
    },
    "tags": []
   },
   "outputs": [
    {
     "data": {
      "text/plain": [
       "Computer Science                 769\n",
       "Information Technology           688\n",
       "Electronics And Communication    424\n",
       "Mechanical                       423\n",
       "Electrical                       334\n",
       "Civil                            316\n",
       "Name: stream, dtype: int64"
      ]
     },
     "execution_count": 57,
     "metadata": {},
     "output_type": "execute_result"
    }
   ],
   "source": [
    "df_clean['stream'].value_counts()"
   ]
  },
  {
   "cell_type": "markdown",
   "id": "3619abcd",
   "metadata": {
    "papermill": {
     "duration": 0.126492,
     "end_time": "2023-03-18T10:13:11.014337",
     "exception": false,
     "start_time": "2023-03-18T10:13:10.887845",
     "status": "completed"
    },
    "tags": []
   },
   "source": [
    "There are 6 different streams in this dataset, which look somewhat balanced."
   ]
  },
  {
   "cell_type": "markdown",
   "id": "338735a6",
   "metadata": {
    "papermill": {
     "duration": 0.124853,
     "end_time": "2023-03-18T10:13:11.265020",
     "exception": false,
     "start_time": "2023-03-18T10:13:11.140167",
     "status": "completed"
    },
    "tags": []
   },
   "source": [
    "We will rename some of these streams to improve the readability of the following plots."
   ]
  },
  {
   "cell_type": "code",
   "execution_count": 58,
   "id": "cc433ec0",
   "metadata": {
    "execution": {
     "iopub.execute_input": "2023-03-18T10:13:11.527911Z",
     "iopub.status.busy": "2023-03-18T10:13:11.526839Z",
     "iopub.status.idle": "2023-03-18T10:13:11.528753Z",
     "shell.execute_reply": "2023-03-18T10:13:11.529292Z"
    },
    "papermill": {
     "duration": 0.138527,
     "end_time": "2023-03-18T10:13:11.529523",
     "exception": false,
     "start_time": "2023-03-18T10:13:11.390996",
     "status": "completed"
    },
    "tags": []
   },
   "outputs": [],
   "source": [
    "df_clean['stream']=df_clean['stream'].replace('Computer Science','CS')\n",
    "df_clean['stream']=df_clean['stream'].replace('Information Technology','IT')\n",
    "df_clean['stream']=df_clean['stream'].replace('Electronics And Communication','Electronic')"
   ]
  },
  {
   "cell_type": "code",
   "execution_count": 59,
   "id": "476920fe",
   "metadata": {
    "_kg_hide-input": true,
    "execution": {
     "iopub.execute_input": "2023-03-18T10:13:11.789523Z",
     "iopub.status.busy": "2023-03-18T10:13:11.788460Z",
     "iopub.status.idle": "2023-03-18T10:13:12.112015Z",
     "shell.execute_reply": "2023-03-18T10:13:12.112564Z"
    },
    "papermill": {
     "duration": 0.455181,
     "end_time": "2023-03-18T10:13:12.112773",
     "exception": false,
     "start_time": "2023-03-18T10:13:11.657592",
     "status": "completed"
    },
    "tags": []
   },
   "outputs": [
    {
     "data": {
      "image/png": "[encoded data removed]",
      "text/plain": [
       "<Figure size 468x324 with 1 Axes>"
      ]
     },
     "metadata": {},
     "output_type": "display_data"
    }
   ],
   "source": [
    "plt.figure(figsize=(6.5,4.5))\n",
    "g=sns.countplot(x='stream', data=df_clean, hue='placed',palette=palette)\n",
    "plt.yticks([])\n",
    "plt.xlabel('')\n",
    "for container in g.containers:\n",
    "    g.bar_label(container,fmt='%.1f')\n",
    "plt.legend(title='Placed?', title_fontsize=14, labels=['no', 'yes'], fontsize=13, fancybox=True, shadow=True, frameon=True)\n",
    "plt.title('Placement by Major', fontsize=17)\n",
    "plt.show()"
   ]
  },
  {
   "cell_type": "markdown",
   "id": "c19e4938",
   "metadata": {
    "papermill": {
     "duration": 0.126639,
     "end_time": "2023-03-18T10:13:12.365855",
     "exception": false,
     "start_time": "2023-03-18T10:13:12.239216",
     "status": "completed"
    },
    "tags": []
   },
   "source": [
    "It looks like the majority of students from Computer Science, IT and Electronics and communication got placed.<br>\n",
    "Since the situation looks more delicate with mechanical, civil and electrical engineering students, we will carry out chi square tests."
   ]
  },
  {
   "cell_type": "markdown",
   "id": "cdc8977c",
   "metadata": {
    "papermill": {
     "duration": 0.126147,
     "end_time": "2023-03-18T10:13:12.620685",
     "exception": false,
     "start_time": "2023-03-18T10:13:12.494538",
     "status": "completed"
    },
    "tags": []
   },
   "source": [
    "## Do Mechanical Engineers get placed less?"
   ]
  },
  {
   "cell_type": "code",
   "execution_count": 60,
   "id": "187dd5da",
   "metadata": {
    "execution": {
     "iopub.execute_input": "2023-03-18T10:13:12.880754Z",
     "iopub.status.busy": "2023-03-18T10:13:12.880043Z",
     "iopub.status.idle": "2023-03-18T10:13:12.888273Z",
     "shell.execute_reply": "2023-03-18T10:13:12.888843Z"
    },
    "papermill": {
     "duration": 0.14002,
     "end_time": "2023-03-18T10:13:12.889068",
     "exception": false,
     "start_time": "2023-03-18T10:13:12.749048",
     "status": "completed"
    },
    "tags": []
   },
   "outputs": [
    {
     "data": {
      "text/plain": [
       "0    224\n",
       "1    199\n",
       "Name: placed, dtype: int64"
      ]
     },
     "execution_count": 60,
     "metadata": {},
     "output_type": "execute_result"
    }
   ],
   "source": [
    "mechanical_ratio = df_clean.loc[df_clean['stream']=='Mechanical']['placed'].value_counts()\n",
    "mechanical_ratio"
   ]
  },
  {
   "cell_type": "code",
   "execution_count": 61,
   "id": "479c1604",
   "metadata": {
    "execution": {
     "iopub.execute_input": "2023-03-18T10:13:13.154322Z",
     "iopub.status.busy": "2023-03-18T10:13:13.153535Z",
     "iopub.status.idle": "2023-03-18T10:13:13.159996Z",
     "shell.execute_reply": "2023-03-18T10:13:13.159377Z"
    },
    "papermill": {
     "duration": 0.139606,
     "end_time": "2023-03-18T10:13:13.160181",
     "exception": false,
     "start_time": "2023-03-18T10:13:13.020575",
     "status": "completed"
    },
    "tags": []
   },
   "outputs": [
    {
     "name": "stdout",
     "output_type": "stream",
     "text": [
      "Power_divergenceResult(statistic=1.4775413711583925, pvalue=0.2241595941323075)\n"
     ]
    }
   ],
   "source": [
    "# Perform Chi-square test\n",
    "chi= stats.chisquare(mechanical_ratio)\n",
    "print(chi)"
   ]
  },
  {
   "cell_type": "code",
   "execution_count": 62,
   "id": "fc5c6cf1",
   "metadata": {
    "execution": {
     "iopub.execute_input": "2023-03-18T10:13:13.428580Z",
     "iopub.status.busy": "2023-03-18T10:13:13.427700Z",
     "iopub.status.idle": "2023-03-18T10:13:13.431087Z",
     "shell.execute_reply": "2023-03-18T10:13:13.431632Z"
    },
    "papermill": {
     "duration": 0.141051,
     "end_time": "2023-03-18T10:13:13.431852",
     "exception": false,
     "start_time": "2023-03-18T10:13:13.290801",
     "status": "completed"
    },
    "tags": []
   },
   "outputs": [
    {
     "name": "stdout",
     "output_type": "stream",
     "text": [
      "No significant difference with a 95% confidence\n"
     ]
    }
   ],
   "source": [
    "# Test significance\n",
    "alpha= 0.05\n",
    "if chi[1] < alpha:\n",
    "    print(\"Difference is statistically significant with a 95% confidence\")\n",
    "else:\n",
    "    print(\"No significant difference with a 95% confidence\")"
   ]
  },
  {
   "cell_type": "markdown",
   "id": "a470605f",
   "metadata": {
    "papermill": {
     "duration": 0.130494,
     "end_time": "2023-03-18T10:13:13.694979",
     "exception": false,
     "start_time": "2023-03-18T10:13:13.564485",
     "status": "completed"
    },
    "tags": []
   },
   "source": [
    "**The p-value is well above 5% (around 22.4%), so we fail to state statistical difference between job placement = 0 or 1 among Mechanical Engineers.<br>**"
   ]
  },
  {
   "cell_type": "markdown",
   "id": "9ffecac4",
   "metadata": {
    "papermill": {
     "duration": 0.127196,
     "end_time": "2023-03-18T10:13:13.950507",
     "exception": false,
     "start_time": "2023-03-18T10:13:13.823311",
     "status": "completed"
    },
    "tags": []
   },
   "source": [
    "## Do Civil Engineers get placed less?"
   ]
  },
  {
   "cell_type": "code",
   "execution_count": 63,
   "id": "c3414ae8",
   "metadata": {
    "execution": {
     "iopub.execute_input": "2023-03-18T10:13:14.217542Z",
     "iopub.status.busy": "2023-03-18T10:13:14.216186Z",
     "iopub.status.idle": "2023-03-18T10:13:14.220994Z",
     "shell.execute_reply": "2023-03-18T10:13:14.220352Z"
    },
    "papermill": {
     "duration": 0.141832,
     "end_time": "2023-03-18T10:13:14.221202",
     "exception": false,
     "start_time": "2023-03-18T10:13:14.079370",
     "status": "completed"
    },
    "tags": []
   },
   "outputs": [
    {
     "data": {
      "text/plain": [
       "0    171\n",
       "1    145\n",
       "Name: placed, dtype: int64"
      ]
     },
     "execution_count": 63,
     "metadata": {},
     "output_type": "execute_result"
    }
   ],
   "source": [
    "civil_ratio = df_clean.loc[df_clean['stream']=='Civil']['placed'].value_counts()\n",
    "civil_ratio"
   ]
  },
  {
   "cell_type": "code",
   "execution_count": 64,
   "id": "3a770844",
   "metadata": {
    "execution": {
     "iopub.execute_input": "2023-03-18T10:13:14.488323Z",
     "iopub.status.busy": "2023-03-18T10:13:14.487508Z",
     "iopub.status.idle": "2023-03-18T10:13:14.491455Z",
     "shell.execute_reply": "2023-03-18T10:13:14.490793Z"
    },
    "papermill": {
     "duration": 0.140413,
     "end_time": "2023-03-18T10:13:14.491646",
     "exception": false,
     "start_time": "2023-03-18T10:13:14.351233",
     "status": "completed"
    },
    "tags": []
   },
   "outputs": [
    {
     "name": "stdout",
     "output_type": "stream",
     "text": [
      "Power_divergenceResult(statistic=2.1392405063291138, pvalue=0.14357295597764955)\n"
     ]
    }
   ],
   "source": [
    "# Perform Chi-square test\n",
    "chi= stats.chisquare(civil_ratio)\n",
    "print(chi)"
   ]
  },
  {
   "cell_type": "code",
   "execution_count": 65,
   "id": "7aa03b6c",
   "metadata": {
    "execution": {
     "iopub.execute_input": "2023-03-18T10:13:14.761083Z",
     "iopub.status.busy": "2023-03-18T10:13:14.760003Z",
     "iopub.status.idle": "2023-03-18T10:13:14.763610Z",
     "shell.execute_reply": "2023-03-18T10:13:14.764337Z"
    },
    "papermill": {
     "duration": 0.142315,
     "end_time": "2023-03-18T10:13:14.764602",
     "exception": false,
     "start_time": "2023-03-18T10:13:14.622287",
     "status": "completed"
    },
    "tags": []
   },
   "outputs": [
    {
     "name": "stdout",
     "output_type": "stream",
     "text": [
      "No significant difference with a 95% confidence\n"
     ]
    }
   ],
   "source": [
    "# Test significance\n",
    "alpha= 0.05\n",
    "if chi[1] < alpha:\n",
    "    print(\"Difference is statistically significant with a 95% confidence\")\n",
    "else:\n",
    "    print(\"No significant difference with a 95% confidence\")"
   ]
  },
  {
   "cell_type": "markdown",
   "id": "8f150329",
   "metadata": {
    "papermill": {
     "duration": 0.132572,
     "end_time": "2023-03-18T10:13:15.028408",
     "exception": false,
     "start_time": "2023-03-18T10:13:14.895836",
     "status": "completed"
    },
    "tags": []
   },
   "source": [
    "**The p-value is higher than 5% (14%), so we fail to state statistical difference between job placement = 0 or 1 among Civil Engineers. It is interesting to notice that the p value is smaller in this case compared to the previous test about mechanical engineering.**"
   ]
  },
  {
   "cell_type": "markdown",
   "id": "6cc59b8f",
   "metadata": {
    "papermill": {
     "duration": 0.133943,
     "end_time": "2023-03-18T10:13:15.295200",
     "exception": false,
     "start_time": "2023-03-18T10:13:15.161257",
     "status": "completed"
    },
    "tags": []
   },
   "source": [
    "## What about Electrical Engineers?"
   ]
  },
  {
   "cell_type": "code",
   "execution_count": 66,
   "id": "0432a916",
   "metadata": {
    "execution": {
     "iopub.execute_input": "2023-03-18T10:13:15.564436Z",
     "iopub.status.busy": "2023-03-18T10:13:15.563403Z",
     "iopub.status.idle": "2023-03-18T10:13:15.566375Z",
     "shell.execute_reply": "2023-03-18T10:13:15.565652Z"
    },
    "papermill": {
     "duration": 0.140645,
     "end_time": "2023-03-18T10:13:15.566671",
     "exception": false,
     "start_time": "2023-03-18T10:13:15.426026",
     "status": "completed"
    },
    "tags": []
   },
   "outputs": [],
   "source": [
    "electrical_ratio = df_clean.loc[df_clean['stream']=='Electrical']['placed'].value_counts()"
   ]
  },
  {
   "cell_type": "code",
   "execution_count": 67,
   "id": "47356181",
   "metadata": {
    "execution": {
     "iopub.execute_input": "2023-03-18T10:13:15.833620Z",
     "iopub.status.busy": "2023-03-18T10:13:15.830935Z",
     "iopub.status.idle": "2023-03-18T10:13:15.837373Z",
     "shell.execute_reply": "2023-03-18T10:13:15.836793Z"
    },
    "papermill": {
     "duration": 0.14022,
     "end_time": "2023-03-18T10:13:15.837548",
     "exception": false,
     "start_time": "2023-03-18T10:13:15.697328",
     "status": "completed"
    },
    "tags": []
   },
   "outputs": [
    {
     "data": {
      "text/plain": [
       "Power_divergenceResult(statistic=2.3473053892215567, pvalue=0.12549977446847638)"
      ]
     },
     "execution_count": 67,
     "metadata": {},
     "output_type": "execute_result"
    }
   ],
   "source": [
    "chi = stats.chisquare(electrical_ratio)\n",
    "chi"
   ]
  },
  {
   "cell_type": "code",
   "execution_count": 68,
   "id": "ff7c1090",
   "metadata": {
    "execution": {
     "iopub.execute_input": "2023-03-18T10:13:16.111588Z",
     "iopub.status.busy": "2023-03-18T10:13:16.110849Z",
     "iopub.status.idle": "2023-03-18T10:13:16.114687Z",
     "shell.execute_reply": "2023-03-18T10:13:16.113924Z"
    },
    "papermill": {
     "duration": 0.146503,
     "end_time": "2023-03-18T10:13:16.114874",
     "exception": false,
     "start_time": "2023-03-18T10:13:15.968371",
     "status": "completed"
    },
    "tags": []
   },
   "outputs": [
    {
     "name": "stdout",
     "output_type": "stream",
     "text": [
      "No significant difference with a 95% confidence\n"
     ]
    }
   ],
   "source": [
    "# Test significance\n",
    "alpha= 0.05\n",
    "if chi[1] < alpha:\n",
    "    print(\"Difference is statistically significant with a 95% confidence\")\n",
    "else:\n",
    "    print(\"No significant difference with a 95% confidence\")"
   ]
  },
  {
   "cell_type": "markdown",
   "id": "f4112ef6",
   "metadata": {
    "papermill": {
     "duration": 0.13177,
     "end_time": "2023-03-18T10:13:16.378978",
     "exception": false,
     "start_time": "2023-03-18T10:13:16.247208",
     "status": "completed"
    },
    "tags": []
   },
   "source": [
    "**Also for Electrical Engineers, no difference could be found with a 95% confidence.**"
   ]
  },
  {
   "cell_type": "markdown",
   "id": "d59b2712",
   "metadata": {
    "papermill": {
     "duration": 0.133784,
     "end_time": "2023-03-18T10:13:16.644086",
     "exception": false,
     "start_time": "2023-03-18T10:13:16.510302",
     "status": "completed"
    },
    "tags": []
   },
   "source": [
    "We can conclude that only for Computer Science, IT, Electronics and communication there is a statstical difference between job placement. "
   ]
  },
  {
   "cell_type": "markdown",
   "id": "717d08b1",
   "metadata": {
    "papermill": {
     "duration": 0.12987,
     "end_time": "2023-03-18T10:13:16.905271",
     "exception": false,
     "start_time": "2023-03-18T10:13:16.775401",
     "status": "completed"
    },
    "tags": []
   },
   "source": [
    "# Q9 - Is there a relationship between stream and the other features?"
   ]
  },
  {
   "cell_type": "markdown",
   "id": "523cd1d4",
   "metadata": {
    "papermill": {
     "duration": 0.130675,
     "end_time": "2023-03-18T10:13:17.168268",
     "exception": false,
     "start_time": "2023-03-18T10:13:17.037593",
     "status": "completed"
    },
    "tags": []
   },
   "source": [
    "## Stream VS Hostel"
   ]
  },
  {
   "cell_type": "code",
   "execution_count": 69,
   "id": "4b3b87b5",
   "metadata": {
    "execution": {
     "iopub.execute_input": "2023-03-18T10:13:17.440833Z",
     "iopub.status.busy": "2023-03-18T10:13:17.439350Z",
     "iopub.status.idle": "2023-03-18T10:13:18.192858Z",
     "shell.execute_reply": "2023-03-18T10:13:18.192284Z"
    },
    "papermill": {
     "duration": 0.893968,
     "end_time": "2023-03-18T10:13:18.193029",
     "exception": false,
     "start_time": "2023-03-18T10:13:17.299061",
     "status": "completed"
    },
    "tags": []
   },
   "outputs": [
    {
     "data": {
      "image/png": "[encoded data removed]",
      "text/plain": [
       "<Figure size 360x324 with 1 Axes>"
      ]
     },
     "metadata": {},
     "output_type": "display_data"
    }
   ],
   "source": [
    "plt.figure(figsize=(5,4.5))\n",
    "sns.barplot(y='stream', x='hostel',data=df_clean, hue='placed')\n",
    "plt.xticks(rotation=90);\n",
    "plt.ylabel('');"
   ]
  },
  {
   "cell_type": "markdown",
   "id": "02fae7ba",
   "metadata": {
    "papermill": {
     "duration": 0.146141,
     "end_time": "2023-03-18T10:13:18.471382",
     "exception": false,
     "start_time": "2023-03-18T10:13:18.325241",
     "status": "completed"
    },
    "tags": []
   },
   "source": [
    "**It looks like the vast majority of Mechanical Engineers lives in a college accomodation**"
   ]
  },
  {
   "cell_type": "markdown",
   "id": "2bf55ec4",
   "metadata": {
    "papermill": {
     "duration": 0.130892,
     "end_time": "2023-03-18T10:13:18.732964",
     "exception": false,
     "start_time": "2023-03-18T10:13:18.602072",
     "status": "completed"
    },
    "tags": []
   },
   "source": [
    "## Stream VS gender"
   ]
  },
  {
   "cell_type": "code",
   "execution_count": 70,
   "id": "187f9d10",
   "metadata": {
    "execution": {
     "iopub.execute_input": "2023-03-18T10:13:19.014418Z",
     "iopub.status.busy": "2023-03-18T10:13:19.013482Z",
     "iopub.status.idle": "2023-03-18T10:13:19.429786Z",
     "shell.execute_reply": "2023-03-18T10:13:19.429104Z"
    },
    "papermill": {
     "duration": 0.565372,
     "end_time": "2023-03-18T10:13:19.429960",
     "exception": false,
     "start_time": "2023-03-18T10:13:18.864588",
     "status": "completed"
    },
    "tags": []
   },
   "outputs": [
    {
     "data": {
      "image/png": "[encoded data removed]",
      "text/plain": [
       "<Figure size 360x324 with 1 Axes>"
      ]
     },
     "metadata": {},
     "output_type": "display_data"
    }
   ],
   "source": [
    "plt.figure(figsize=(5,4.5))\n",
    "sns.countplot(y='stream',data=df_clean, hue='gender')\n",
    "plt.xticks(rotation=90);\n",
    "plt.ylabel('');"
   ]
  },
  {
   "cell_type": "markdown",
   "id": "35d5168e",
   "metadata": {
    "papermill": {
     "duration": 0.133648,
     "end_time": "2023-03-18T10:13:19.700890",
     "exception": false,
     "start_time": "2023-03-18T10:13:19.567242",
     "status": "completed"
    },
    "tags": []
   },
   "source": [
    "**We can see that overall the majority of students is male for every Stream.**"
   ]
  },
  {
   "cell_type": "code",
   "execution_count": 71,
   "id": "6fe830b3",
   "metadata": {
    "execution": {
     "iopub.execute_input": "2023-03-18T10:13:19.975615Z",
     "iopub.status.busy": "2023-03-18T10:13:19.974351Z",
     "iopub.status.idle": "2023-03-18T10:13:19.982711Z",
     "shell.execute_reply": "2023-03-18T10:13:19.982072Z"
    },
    "papermill": {
     "duration": 0.149583,
     "end_time": "2023-03-18T10:13:19.982895",
     "exception": false,
     "start_time": "2023-03-18T10:13:19.833312",
     "status": "completed"
    },
    "tags": []
   },
   "outputs": [],
   "source": [
    "x, y = 'stream', 'internships'\n",
    "df1 = df_clean.groupby(x)[y].value_counts(normalize=True)\n",
    "df1 = df1.mul(100)\n",
    "df1 = df1.rename('percent(%)').reset_index()"
   ]
  },
  {
   "cell_type": "code",
   "execution_count": 72,
   "id": "70505375",
   "metadata": {
    "_kg_hide-input": true,
    "execution": {
     "iopub.execute_input": "2023-03-18T10:13:20.282578Z",
     "iopub.status.busy": "2023-03-18T10:13:20.281583Z",
     "iopub.status.idle": "2023-03-18T10:13:20.829508Z",
     "shell.execute_reply": "2023-03-18T10:13:20.830281Z"
    },
    "papermill": {
     "duration": 0.699535,
     "end_time": "2023-03-18T10:13:20.830557",
     "exception": false,
     "start_time": "2023-03-18T10:13:20.131022",
     "status": "completed"
    },
    "tags": []
   },
   "outputs": [
    {
     "data": {
      "image/png": "[encoded data removed]",
      "text/plain": [
       "<Figure size 1080x360 with 1 Axes>"
      ]
     },
     "metadata": {},
     "output_type": "display_data"
    }
   ],
   "source": [
    "plt.figure(figsize=(15,5))\n",
    "g = sns.barplot(x=x,y='percent(%)',hue=y,data=df1, palette='Blues_r')\n",
    "plt.legend(title='No. \\nInternsips',bbox_to_anchor=(1, 1), ncol=1, fancybox=True, shadow=True,fontsize=20,title_fontsize=17)\n",
    "plt.xlabel('')\n",
    "plt.ylim(0, 65)\n",
    "plt.ylabel('students percent (%)',fontsize=20)\n",
    "for container in g.containers:\n",
    "    g.bar_label(container, padding = 4, fmt='%.1f', fontsize=10.5)\n",
    "plt.yticks([])\n",
    "plt.xticks(fontsize=18)\n",
    "plt.title('No. Internships by Major', fontsize=20)\n",
    "plt.show()"
   ]
  },
  {
   "cell_type": "markdown",
   "id": "c5231ba9",
   "metadata": {
    "papermill": {
     "duration": 0.140817,
     "end_time": "2023-03-18T10:13:21.113562",
     "exception": false,
     "start_time": "2023-03-18T10:13:20.972745",
     "status": "completed"
    },
    "tags": []
   },
   "source": [
    "**We can see the major where most students did at least one internship is Computer Science (67%), while for Civil, Electrical and Mechanical engineering more than half of the students did not do any internship. Morevoer, Electronic and IT are the majors where most students did 2 or more internships.**"
   ]
  },
  {
   "cell_type": "code",
   "execution_count": 73,
   "id": "73d3560b",
   "metadata": {
    "execution": {
     "iopub.execute_input": "2023-03-18T10:13:21.394378Z",
     "iopub.status.busy": "2023-03-18T10:13:21.393316Z",
     "iopub.status.idle": "2023-03-18T10:13:21.400893Z",
     "shell.execute_reply": "2023-03-18T10:13:21.401416Z"
    },
    "papermill": {
     "duration": 0.152371,
     "end_time": "2023-03-18T10:13:21.401649",
     "exception": false,
     "start_time": "2023-03-18T10:13:21.249278",
     "status": "completed"
    },
    "tags": []
   },
   "outputs": [],
   "source": [
    "x, y = 'stream', 'cgpa'\n",
    "df1 = df_clean.groupby(x)[y].value_counts(normalize=True)\n",
    "df1 = df1.mul(100)\n",
    "df1 = df1.rename('percent(%)').reset_index()"
   ]
  },
  {
   "cell_type": "code",
   "execution_count": 74,
   "id": "0ad65f1a",
   "metadata": {
    "_kg_hide-input": true,
    "execution": {
     "iopub.execute_input": "2023-03-18T10:13:21.737724Z",
     "iopub.status.busy": "2023-03-18T10:13:21.690044Z",
     "iopub.status.idle": "2023-03-18T10:13:22.423666Z",
     "shell.execute_reply": "2023-03-18T10:13:22.423073Z"
    },
    "papermill": {
     "duration": 0.884021,
     "end_time": "2023-03-18T10:13:22.423840",
     "exception": false,
     "start_time": "2023-03-18T10:13:21.539819",
     "status": "completed"
    },
    "tags": []
   },
   "outputs": [
    {
     "data": {
      "image/png": "[encoded data removed]",
      "text/plain": [
       "<Figure size 1080x324 with 1 Axes>"
      ]
     },
     "metadata": {},
     "output_type": "display_data"
    }
   ],
   "source": [
    "plt.figure(figsize=(15,4.5))\n",
    "g = sns.barplot(x='stream', y='percent(%)',hue='cgpa',data=df1, palette='mako_r')\n",
    "plt.legend(title='CGPA',bbox_to_anchor=(1, 1), ncol=1, fancybox=True, shadow=True, fontsize=20,title_fontsize=30)\n",
    "plt.xlabel('')\n",
    "plt.ylim(0, 40)\n",
    "plt.ylabel('students percent (%)',fontsize=20)\n",
    "for container in g.containers:\n",
    "    g.bar_label(container, padding = 4, fmt='%.1f', fontsize=10.5)\n",
    "plt.yticks([])\n",
    "plt.xticks(fontsize=18)\n",
    "plt.title('CGPA by Major', fontsize=20)\n",
    "plt.show()"
   ]
  },
  {
   "cell_type": "markdown",
   "id": "049ca487",
   "metadata": {
    "papermill": {
     "duration": 0.197066,
     "end_time": "2023-03-18T10:13:22.758779",
     "exception": false,
     "start_time": "2023-03-18T10:13:22.561713",
     "status": "completed"
    },
    "tags": []
   },
   "source": [
    "**We can see that Civil and Mechanical are the majors where over 7% of the students have CGPA=9, whereas students from Electrical engineering are those with most CGPA=8 or CGPA=7.**"
   ]
  },
  {
   "cell_type": "markdown",
   "id": "575bb68d",
   "metadata": {
    "papermill": {
     "duration": 0.136936,
     "end_time": "2023-03-18T10:13:23.033276",
     "exception": false,
     "start_time": "2023-03-18T10:13:22.896340",
     "status": "completed"
    },
    "tags": []
   },
   "source": [
    "In the following, ML algorithms will be trained to predict the placement of students."
   ]
  },
  {
   "cell_type": "markdown",
   "id": "6ac406d2",
   "metadata": {
    "papermill": {
     "duration": 0.136135,
     "end_time": "2023-03-18T10:13:23.309885",
     "exception": false,
     "start_time": "2023-03-18T10:13:23.173750",
     "status": "completed"
    },
    "tags": []
   },
   "source": [
    "# Data preprocessing"
   ]
  },
  {
   "cell_type": "code",
   "execution_count": 75,
   "id": "f8d23241",
   "metadata": {
    "execution": {
     "iopub.execute_input": "2023-03-18T10:13:23.588433Z",
     "iopub.status.busy": "2023-03-18T10:13:23.587673Z",
     "iopub.status.idle": "2023-03-18T10:13:23.601556Z",
     "shell.execute_reply": "2023-03-18T10:13:23.602236Z"
    },
    "papermill": {
     "duration": 0.15649,
     "end_time": "2023-03-18T10:13:23.602499",
     "exception": false,
     "start_time": "2023-03-18T10:13:23.446009",
     "status": "completed"
    },
    "tags": []
   },
   "outputs": [
    {
     "name": "stdout",
     "output_type": "stream",
     "text": [
      "<class 'pandas.core.frame.DataFrame'>\n",
      "Int64Index: 2954 entries, 0 to 2965\n",
      "Data columns (total 8 columns):\n",
      " #   Column       Non-Null Count  Dtype \n",
      "---  ------       --------------  ----- \n",
      " 0   age          2954 non-null   int64 \n",
      " 1   gender       2954 non-null   object\n",
      " 2   stream       2954 non-null   object\n",
      " 3   internships  2954 non-null   int64 \n",
      " 4   cgpa         2954 non-null   int64 \n",
      " 5   hostel       2954 non-null   int64 \n",
      " 6   backlogs     2954 non-null   int64 \n",
      " 7   placed       2954 non-null   int64 \n",
      "dtypes: int64(6), object(2)\n",
      "memory usage: 272.2+ KB\n"
     ]
    }
   ],
   "source": [
    "df_clean.info()"
   ]
  },
  {
   "cell_type": "markdown",
   "id": "ac4d8617",
   "metadata": {
    "papermill": {
     "duration": 0.136452,
     "end_time": "2023-03-18T10:13:23.876476",
     "exception": false,
     "start_time": "2023-03-18T10:13:23.740024",
     "status": "completed"
    },
    "tags": []
   },
   "source": [
    "## Encoding"
   ]
  },
  {
   "cell_type": "markdown",
   "id": "59f0f479",
   "metadata": {
    "papermill": {
     "duration": 0.13983,
     "end_time": "2023-03-18T10:13:24.153628",
     "exception": false,
     "start_time": "2023-03-18T10:13:24.013798",
     "status": "completed"
    },
    "tags": []
   },
   "source": [
    "Since there is no order/hierarchy among the categorical features, they will be encoded by One hot encoding (using pd.get_dummies)"
   ]
  },
  {
   "cell_type": "code",
   "execution_count": 76,
   "id": "fc2ca8cc",
   "metadata": {
    "execution": {
     "iopub.execute_input": "2023-03-18T10:13:24.433349Z",
     "iopub.status.busy": "2023-03-18T10:13:24.432581Z",
     "iopub.status.idle": "2023-03-18T10:13:24.442727Z",
     "shell.execute_reply": "2023-03-18T10:13:24.443358Z"
    },
    "papermill": {
     "duration": 0.151738,
     "end_time": "2023-03-18T10:13:24.443606",
     "exception": false,
     "start_time": "2023-03-18T10:13:24.291868",
     "status": "completed"
    },
    "tags": []
   },
   "outputs": [],
   "source": [
    "df_encoded = pd.get_dummies(df_clean, drop_first=True)"
   ]
  },
  {
   "cell_type": "code",
   "execution_count": 77,
   "id": "1403ada3",
   "metadata": {
    "execution": {
     "iopub.execute_input": "2023-03-18T10:13:24.728954Z",
     "iopub.status.busy": "2023-03-18T10:13:24.728082Z",
     "iopub.status.idle": "2023-03-18T10:13:24.741532Z",
     "shell.execute_reply": "2023-03-18T10:13:24.742100Z"
    },
    "papermill": {
     "duration": 0.159971,
     "end_time": "2023-03-18T10:13:24.742346",
     "exception": false,
     "start_time": "2023-03-18T10:13:24.582375",
     "status": "completed"
    },
    "tags": []
   },
   "outputs": [
    {
     "data": {
      "text/html": [
       "<div>\n",
       "<style scoped>\n",
       "    .dataframe tbody tr th:only-of-type {\n",
       "        vertical-align: middle;\n",
       "    }\n",
       "\n",
       "    .dataframe tbody tr th {\n",
       "        vertical-align: top;\n",
       "    }\n",
       "\n",
       "    .dataframe thead th {\n",
       "        text-align: right;\n",
       "    }\n",
       "</style>\n",
       "<table border=\"1\" class=\"dataframe\">\n",
       "  <thead>\n",
       "    <tr style=\"text-align: right;\">\n",
       "      <th></th>\n",
       "      <th>age</th>\n",
       "      <th>internships</th>\n",
       "      <th>cgpa</th>\n",
       "      <th>hostel</th>\n",
       "      <th>backlogs</th>\n",
       "      <th>placed</th>\n",
       "      <th>gender_Male</th>\n",
       "      <th>stream_Civil</th>\n",
       "      <th>stream_Electrical</th>\n",
       "      <th>stream_Electronic</th>\n",
       "      <th>stream_IT</th>\n",
       "      <th>stream_Mechanical</th>\n",
       "    </tr>\n",
       "  </thead>\n",
       "  <tbody>\n",
       "    <tr>\n",
       "      <th>0</th>\n",
       "      <td>22</td>\n",
       "      <td>1</td>\n",
       "      <td>8</td>\n",
       "      <td>1</td>\n",
       "      <td>1</td>\n",
       "      <td>1</td>\n",
       "      <td>1</td>\n",
       "      <td>0</td>\n",
       "      <td>0</td>\n",
       "      <td>1</td>\n",
       "      <td>0</td>\n",
       "      <td>0</td>\n",
       "    </tr>\n",
       "    <tr>\n",
       "      <th>1</th>\n",
       "      <td>21</td>\n",
       "      <td>0</td>\n",
       "      <td>7</td>\n",
       "      <td>1</td>\n",
       "      <td>1</td>\n",
       "      <td>1</td>\n",
       "      <td>0</td>\n",
       "      <td>0</td>\n",
       "      <td>0</td>\n",
       "      <td>0</td>\n",
       "      <td>0</td>\n",
       "      <td>0</td>\n",
       "    </tr>\n",
       "    <tr>\n",
       "      <th>2</th>\n",
       "      <td>22</td>\n",
       "      <td>1</td>\n",
       "      <td>6</td>\n",
       "      <td>0</td>\n",
       "      <td>0</td>\n",
       "      <td>1</td>\n",
       "      <td>0</td>\n",
       "      <td>0</td>\n",
       "      <td>0</td>\n",
       "      <td>0</td>\n",
       "      <td>1</td>\n",
       "      <td>0</td>\n",
       "    </tr>\n",
       "    <tr>\n",
       "      <th>3</th>\n",
       "      <td>21</td>\n",
       "      <td>0</td>\n",
       "      <td>8</td>\n",
       "      <td>0</td>\n",
       "      <td>1</td>\n",
       "      <td>1</td>\n",
       "      <td>1</td>\n",
       "      <td>0</td>\n",
       "      <td>0</td>\n",
       "      <td>0</td>\n",
       "      <td>1</td>\n",
       "      <td>0</td>\n",
       "    </tr>\n",
       "    <tr>\n",
       "      <th>4</th>\n",
       "      <td>22</td>\n",
       "      <td>0</td>\n",
       "      <td>8</td>\n",
       "      <td>1</td>\n",
       "      <td>0</td>\n",
       "      <td>1</td>\n",
       "      <td>1</td>\n",
       "      <td>0</td>\n",
       "      <td>0</td>\n",
       "      <td>0</td>\n",
       "      <td>0</td>\n",
       "      <td>1</td>\n",
       "    </tr>\n",
       "  </tbody>\n",
       "</table>\n",
       "</div>"
      ],
      "text/plain": [
       "   age  internships  cgpa  hostel  backlogs  placed  gender_Male  \\\n",
       "0   22            1     8       1         1       1            1   \n",
       "1   21            0     7       1         1       1            0   \n",
       "2   22            1     6       0         0       1            0   \n",
       "3   21            0     8       0         1       1            1   \n",
       "4   22            0     8       1         0       1            1   \n",
       "\n",
       "   stream_Civil  stream_Electrical  stream_Electronic  stream_IT  \\\n",
       "0             0                  0                  1          0   \n",
       "1             0                  0                  0          0   \n",
       "2             0                  0                  0          1   \n",
       "3             0                  0                  0          1   \n",
       "4             0                  0                  0          0   \n",
       "\n",
       "   stream_Mechanical  \n",
       "0                  0  \n",
       "1                  0  \n",
       "2                  0  \n",
       "3                  0  \n",
       "4                  1  "
      ]
     },
     "execution_count": 77,
     "metadata": {},
     "output_type": "execute_result"
    }
   ],
   "source": [
    "df_encoded.head()"
   ]
  },
  {
   "cell_type": "code",
   "execution_count": 78,
   "id": "b8546361",
   "metadata": {
    "execution": {
     "iopub.execute_input": "2023-03-18T10:13:25.020876Z",
     "iopub.status.busy": "2023-03-18T10:13:25.020017Z",
     "iopub.status.idle": "2023-03-18T10:13:25.025432Z",
     "shell.execute_reply": "2023-03-18T10:13:25.026015Z"
    },
    "papermill": {
     "duration": 0.146073,
     "end_time": "2023-03-18T10:13:25.026244",
     "exception": false,
     "start_time": "2023-03-18T10:13:24.880171",
     "status": "completed"
    },
    "tags": []
   },
   "outputs": [],
   "source": [
    "X = df_encoded.drop('placed', axis=1)\n",
    "y = df_encoded['placed']"
   ]
  },
  {
   "cell_type": "markdown",
   "id": "46a32d62",
   "metadata": {
    "papermill": {
     "duration": 0.137518,
     "end_time": "2023-03-18T10:13:25.304535",
     "exception": false,
     "start_time": "2023-03-18T10:13:25.167017",
     "status": "completed"
    },
    "tags": []
   },
   "source": [
    "## Train test split"
   ]
  },
  {
   "cell_type": "code",
   "execution_count": 79,
   "id": "2d72152d",
   "metadata": {
    "execution": {
     "iopub.execute_input": "2023-03-18T10:13:25.589721Z",
     "iopub.status.busy": "2023-03-18T10:13:25.588936Z",
     "iopub.status.idle": "2023-03-18T10:13:25.595904Z",
     "shell.execute_reply": "2023-03-18T10:13:25.596412Z"
    },
    "papermill": {
     "duration": 0.151081,
     "end_time": "2023-03-18T10:13:25.596641",
     "exception": false,
     "start_time": "2023-03-18T10:13:25.445560",
     "status": "completed"
    },
    "tags": []
   },
   "outputs": [],
   "source": [
    "X_train, X_test, y_train, y_test = train_test_split(X, y, test_size = 0.3, stratify=y, random_state=seed)"
   ]
  },
  {
   "cell_type": "markdown",
   "id": "09c861a2",
   "metadata": {
    "papermill": {
     "duration": 0.138381,
     "end_time": "2023-03-18T10:13:25.873884",
     "exception": false,
     "start_time": "2023-03-18T10:13:25.735503",
     "status": "completed"
    },
    "tags": []
   },
   "source": [
    "# XGBOOST CLASSIFIER"
   ]
  },
  {
   "cell_type": "code",
   "execution_count": 80,
   "id": "d87a4e47",
   "metadata": {
    "execution": {
     "iopub.execute_input": "2023-03-18T10:13:26.165466Z",
     "iopub.status.busy": "2023-03-18T10:13:26.164651Z",
     "iopub.status.idle": "2023-03-18T10:13:26.170073Z",
     "shell.execute_reply": "2023-03-18T10:13:26.170637Z"
    },
    "papermill": {
     "duration": 0.15823,
     "end_time": "2023-03-18T10:13:26.170876",
     "exception": false,
     "start_time": "2023-03-18T10:13:26.012646",
     "status": "completed"
    },
    "tags": []
   },
   "outputs": [],
   "source": [
    "def objective(trial):\n",
    "    params = {\n",
    "        'objective': 'reg:squarederror',\n",
    "        'eval_metric': 'rmse',\n",
    "        'random_state': seed,\n",
    "        'n_estimators': 5000,\n",
    "        'reg_alpha': trial.suggest_float('reg_alpha', 1e-4, 10.0, log=True),\n",
    "        'reg_lambda': trial.suggest_float('reg_lambda', 1e-4, 10.0, log=True),\n",
    "        'colsample_bytree': trial.suggest_float('colsample_bytree', 0.4, 1.0),\n",
    "        'subsample': trial.suggest_float('subsample', 0.4, 1.0),\n",
    "        'learning_rate': trial.suggest_float('learning_rate', 0.005, 0.2, log=True),\n",
    "        'max_depth': trial.suggest_int('max_depth', 4, 10),\n",
    "        'min_child_weight': trial.suggest_float('min_child_weight', 1e-3, 10.0, log=True),\n",
    "        'gamma': trial.suggest_float('gamma', 1e-3, 10.0, log=True),\n",
    "        'n_jobs': -1\n",
    "    }\n",
    "    \n",
    "    kf = StratifiedKFold(n_splits=5, shuffle=True, random_state=seed)\n",
    "    rmse_scores = []\n",
    "    \n",
    "    for train_idx, val_idx in kf.split(X_train,y_train):\n",
    "        X_train_cv, X_val = X_train.iloc[train_idx], X_train.iloc[val_idx]\n",
    "        y_train_cv, y_val = y_train.iloc[train_idx], y_train.iloc[val_idx]\n",
    "        \n",
    "        model = xgboost.XGBClassifier(**params,use_label_encoder=False)\n",
    "        model.fit(X_train_cv, y_train_cv, eval_set=[(X_val, y_val)],\n",
    "                verbose=False,callbacks=[xgboost.callback.EarlyStopping(100)]\n",
    "                  )\n",
    "        \n",
    "        preds = model.predict_proba(X_val)[:,1]\n",
    "        rmse = roc_auc_score(y_val, preds)\n",
    "        rmse_scores.append(rmse)\n",
    "    best_iteration = model.best_iteration\n",
    "    trial.set_user_attr('best_iteration', best_iteration)\n",
    "    #print(f\"Num trees {best_iteration}\")\n",
    "        \n",
    "    return np.mean(rmse_scores)"
   ]
  },
  {
   "cell_type": "code",
   "execution_count": 81,
   "id": "43fb8e52",
   "metadata": {
    "_kg_hide-output": true,
    "execution": {
     "iopub.execute_input": "2023-03-18T10:13:26.451298Z",
     "iopub.status.busy": "2023-03-18T10:13:26.450494Z",
     "iopub.status.idle": "2023-03-18T10:27:11.969395Z",
     "shell.execute_reply": "2023-03-18T10:27:11.970221Z"
    },
    "papermill": {
     "duration": 825.660755,
     "end_time": "2023-03-18T10:27:11.970531",
     "exception": false,
     "start_time": "2023-03-18T10:13:26.309776",
     "status": "completed"
    },
    "tags": []
   },
   "outputs": [
    {
     "name": "stderr",
     "output_type": "stream",
     "text": [
      "\u001b[32m[I 2023-03-18 10:13:26,452]\u001b[0m A new study created in memory with name: xgb_opt\u001b[0m\n",
      "\u001b[32m[I 2023-03-18 10:13:33,911]\u001b[0m Trial 0 finished with value: 0.9448232725219778 and parameters: {'reg_alpha': 2.6664526162194813, 'reg_lambda': 0.0015855422294353634, 'colsample_bytree': 0.8157234065041499, 'subsample': 0.8769652809976339, 'learning_rate': 0.021003090859088674, 'max_depth': 7, 'min_child_weight': 0.016101652347259857, 'gamma': 0.00218529969492391}. Best is trial 0 with value: 0.9448232725219778.\u001b[0m\n",
      "\u001b[32m[I 2023-03-18 10:13:48,066]\u001b[0m Trial 1 finished with value: 0.9174707764052992 and parameters: {'reg_alpha': 9.015795757968077, 'reg_lambda': 0.14354027040015033, 'colsample_bytree': 0.7794856816151492, 'subsample': 0.6170251821905532, 'learning_rate': 0.010606784810496955, 'max_depth': 6, 'min_child_weight': 2.8225809586096045, 'gamma': 0.5465299619225887}. Best is trial 0 with value: 0.9448232725219778.\u001b[0m\n",
      "\u001b[32m[I 2023-03-18 10:14:06,406]\u001b[0m Trial 2 finished with value: 0.9450255753760537 and parameters: {'reg_alpha': 0.1140336776717468, 'reg_lambda': 0.11456660385121312, 'colsample_bytree': 0.7890753869706437, 'subsample': 0.7877074150648302, 'learning_rate': 0.006234306587873885, 'max_depth': 8, 'min_child_weight': 0.6594064874785803, 'gamma': 0.33206650307654234}. Best is trial 2 with value: 0.9450255753760537.\u001b[0m\n",
      "\u001b[32m[I 2023-03-18 10:14:10,548]\u001b[0m Trial 3 finished with value: 0.9423742444343329 and parameters: {'reg_alpha': 0.307995647745023, 'reg_lambda': 0.03947733775048917, 'colsample_bytree': 0.9839577954947026, 'subsample': 0.48401054286170747, 'learning_rate': 0.014578989605102491, 'max_depth': 9, 'min_child_weight': 1.5017625046891876, 'gamma': 0.0040873767523413864}. Best is trial 2 with value: 0.9450255753760537.\u001b[0m\n",
      "\u001b[32m[I 2023-03-18 10:14:28,735]\u001b[0m Trial 4 finished with value: 0.942212326123121 and parameters: {'reg_alpha': 0.16099173189075394, 'reg_lambda': 0.00021832205598570334, 'colsample_bytree': 0.4304481806296343, 'subsample': 0.687799061456674, 'learning_rate': 0.011735175372182093, 'max_depth': 10, 'min_child_weight': 0.10581066546876502, 'gamma': 0.5047104550790613}. Best is trial 2 with value: 0.9450255753760537.\u001b[0m\n",
      "\u001b[32m[I 2023-03-18 10:14:32,323]\u001b[0m Trial 5 finished with value: 0.9255590408250782 and parameters: {'reg_alpha': 9.393526705800102, 'reg_lambda': 0.00028491107916512394, 'colsample_bytree': 0.9365967353523604, 'subsample': 0.8170573372015908, 'learning_rate': 0.11101533197117952, 'max_depth': 8, 'min_child_weight': 0.38025551210785524, 'gamma': 0.4762508567259337}. Best is trial 2 with value: 0.9450255753760537.\u001b[0m\n",
      "\u001b[32m[I 2023-03-18 10:14:34,720]\u001b[0m Trial 6 finished with value: 0.9407084248560504 and parameters: {'reg_alpha': 0.02021888349306587, 'reg_lambda': 4.488158485795683, 'colsample_bytree': 0.8488660701511996, 'subsample': 0.795899926827939, 'learning_rate': 0.09195609782579048, 'max_depth': 10, 'min_child_weight': 0.05108892392370703, 'gamma': 0.004011000384778554}. Best is trial 2 with value: 0.9450255753760537.\u001b[0m\n",
      "\u001b[32m[I 2023-03-18 10:14:38,887]\u001b[0m Trial 7 finished with value: 0.9427999413293311 and parameters: {'reg_alpha': 0.00020207508116146578, 'reg_lambda': 0.012771442799403438, 'colsample_bytree': 0.9004933667025834, 'subsample': 0.68758404533993, 'learning_rate': 0.06160008433350778, 'max_depth': 6, 'min_child_weight': 0.048387814801760555, 'gamma': 0.8156239083123907}. Best is trial 2 with value: 0.9450255753760537.\u001b[0m\n",
      "\u001b[32m[I 2023-03-18 10:14:42,113]\u001b[0m Trial 8 finished with value: 0.943569156765121 and parameters: {'reg_alpha': 0.006715633240088428, 'reg_lambda': 0.10603006488765729, 'colsample_bytree': 0.8246388247183332, 'subsample': 0.9423424728601253, 'learning_rate': 0.027844423627599584, 'max_depth': 5, 'min_child_weight': 0.001358114011910683, 'gamma': 0.11514038432486427}. Best is trial 2 with value: 0.9450255753760537.\u001b[0m\n",
      "\u001b[32m[I 2023-03-18 10:14:52,853]\u001b[0m Trial 9 finished with value: 0.9394382880895151 and parameters: {'reg_alpha': 0.2729981440370688, 'reg_lambda': 0.052803935279932386, 'colsample_bytree': 0.957394800538474, 'subsample': 0.6325949880883306, 'learning_rate': 0.01527142875689655, 'max_depth': 5, 'min_child_weight': 0.0017365338822664111, 'gamma': 0.8037186783020845}. Best is trial 2 with value: 0.9450255753760537.\u001b[0m\n",
      "\u001b[32m[I 2023-03-18 10:15:00,648]\u001b[0m Trial 10 finished with value: 0.8993976795056426 and parameters: {'reg_alpha': 0.0018112174654513265, 'reg_lambda': 3.2127347303591796, 'colsample_bytree': 0.6272502009848051, 'subsample': 0.9918706270194516, 'learning_rate': 0.005118819962895518, 'max_depth': 8, 'min_child_weight': 8.940797888396583, 'gamma': 7.3431091876525585}. Best is trial 2 with value: 0.9450255753760537.\u001b[0m\n",
      "\u001b[32m[I 2023-03-18 10:15:17,656]\u001b[0m Trial 11 finished with value: 0.9443878699908108 and parameters: {'reg_alpha': 1.352999936481191, 'reg_lambda': 0.0032652891368636864, 'colsample_bytree': 0.6763459951178258, 'subsample': 0.8206929530271426, 'learning_rate': 0.005741023320784057, 'max_depth': 7, 'min_child_weight': 0.009314731880547508, 'gamma': 0.027915931735986083}. Best is trial 2 with value: 0.9450255753760537.\u001b[0m\n",
      "\u001b[32m[I 2023-03-18 10:15:21,189]\u001b[0m Trial 12 finished with value: 0.9450202133279177 and parameters: {'reg_alpha': 1.4323208426830725, 'reg_lambda': 0.002925924023632224, 'colsample_bytree': 0.7469320005057443, 'subsample': 0.8879053092635677, 'learning_rate': 0.036914002647362, 'max_depth': 8, 'min_child_weight': 0.012115219821853084, 'gamma': 0.0013555686920599295}. Best is trial 2 with value: 0.9450255753760537.\u001b[0m\n",
      "\u001b[32m[I 2023-03-18 10:15:23,794]\u001b[0m Trial 13 finished with value: 0.9428798117803974 and parameters: {'reg_alpha': 0.1104789686184951, 'reg_lambda': 0.4408134135007816, 'colsample_bytree': 0.5461864233682273, 'subsample': 0.9009964921730172, 'learning_rate': 0.047072216960562095, 'max_depth': 8, 'min_child_weight': 0.32792920205075154, 'gamma': 0.027025172316937025}. Best is trial 2 with value: 0.9450255753760537.\u001b[0m\n",
      "\u001b[32m[I 2023-03-18 10:15:26,503]\u001b[0m Trial 14 finished with value: 0.8993976795056426 and parameters: {'reg_alpha': 1.3256865932072561, 'reg_lambda': 0.007065336654593036, 'colsample_bytree': 0.7282572222067387, 'subsample': 0.7545623341683996, 'learning_rate': 0.1735626863307739, 'max_depth': 9, 'min_child_weight': 0.00736116891966118, 'gamma': 7.4121011917641635}. Best is trial 2 with value: 0.9450255753760537.\u001b[0m\n",
      "\u001b[32m[I 2023-03-18 10:15:29,247]\u001b[0m Trial 15 finished with value: 0.9401830473435823 and parameters: {'reg_alpha': 0.041208393073935694, 'reg_lambda': 0.6632171857137065, 'colsample_bytree': 0.5977346360676505, 'subsample': 0.4023586957012628, 'learning_rate': 0.04003280217955324, 'max_depth': 4, 'min_child_weight': 0.35105417899382124, 'gamma': 0.0010654147550262791}. Best is trial 2 with value: 0.9450255753760537.\u001b[0m\n",
      "\u001b[32m[I 2023-03-18 10:15:41,148]\u001b[0m Trial 16 finished with value: 0.9434078904750093 and parameters: {'reg_alpha': 0.6585264275154917, 'reg_lambda': 0.0014396957238800453, 'colsample_bytree': 0.7224106429274085, 'subsample': 0.9984086094190695, 'learning_rate': 0.007563432214426272, 'max_depth': 9, 'min_child_weight': 1.1849658189026449, 'gamma': 0.020625498538162333}. Best is trial 2 with value: 0.9450255753760537.\u001b[0m\n",
      "\u001b[32m[I 2023-03-18 10:15:48,482]\u001b[0m Trial 17 finished with value: 0.942668926976534 and parameters: {'reg_alpha': 0.03523246930660586, 'reg_lambda': 0.013626021367344456, 'colsample_bytree': 0.49919729749863656, 'subsample': 0.8810031918788004, 'learning_rate': 0.022204319524821093, 'max_depth': 8, 'min_child_weight': 0.003625302659735861, 'gamma': 0.11527495477921271}. Best is trial 2 with value: 0.9450255753760537.\u001b[0m\n",
      "\u001b[32m[I 2023-03-18 10:15:55,329]\u001b[0m Trial 18 finished with value: 0.9371233956558145 and parameters: {'reg_alpha': 0.004105433808169682, 'reg_lambda': 0.9531525078834452, 'colsample_bytree': 0.7568742214470731, 'subsample': 0.7528167546197673, 'learning_rate': 0.0648643626153537, 'max_depth': 7, 'min_child_weight': 0.022488659741166053, 'gamma': 1.9392786620474332}. Best is trial 2 with value: 0.9450255753760537.\u001b[0m\n",
      "\u001b[32m[I 2023-03-18 10:15:59,514]\u001b[0m Trial 19 finished with value: 0.9412203056665035 and parameters: {'reg_alpha': 0.0005223975005194818, 'reg_lambda': 0.0006989679088828075, 'colsample_bytree': 0.6665268801462986, 'subsample': 0.570529301256316, 'learning_rate': 0.02878586098684579, 'max_depth': 6, 'min_child_weight': 0.10600842398971382, 'gamma': 0.011142921342248}. Best is trial 2 with value: 0.9450255753760537.\u001b[0m\n",
      "\u001b[32m[I 2023-03-18 10:16:17,362]\u001b[0m Trial 20 finished with value: 0.9423332698606627 and parameters: {'reg_alpha': 2.820523666557155, 'reg_lambda': 0.006047787689708778, 'colsample_bytree': 0.8859260176679822, 'subsample': 0.7595406453295573, 'learning_rate': 0.008310534273728845, 'max_depth': 9, 'min_child_weight': 0.19000859565386485, 'gamma': 0.17961360117855563}. Best is trial 2 with value: 0.9450255753760537.\u001b[0m\n",
      "\u001b[32m[I 2023-03-18 10:16:24,433]\u001b[0m Trial 21 finished with value: 0.9439123965741917 and parameters: {'reg_alpha': 3.0890891452104605, 'reg_lambda': 0.0018838432387320986, 'colsample_bytree': 0.7920903801642633, 'subsample': 0.8767189761173407, 'learning_rate': 0.018063093917828885, 'max_depth': 7, 'min_child_weight': 0.025725403541290187, 'gamma': 0.001037517513331833}. Best is trial 2 with value: 0.9450255753760537.\u001b[0m\n",
      "\u001b[32m[I 2023-03-18 10:16:26,940]\u001b[0m Trial 22 finished with value: 0.9429260463203606 and parameters: {'reg_alpha': 0.49594402275295313, 'reg_lambda': 0.0006906403592865656, 'colsample_bytree': 0.8357865700798037, 'subsample': 0.9272992450605708, 'learning_rate': 0.037937133645886335, 'max_depth': 8, 'min_child_weight': 0.013195161288452845, 'gamma': 0.003408689189488816}. Best is trial 2 with value: 0.9450255753760537.\u001b[0m\n",
      "\u001b[32m[I 2023-03-18 10:16:30,848]\u001b[0m Trial 23 finished with value: 0.9425487534010155 and parameters: {'reg_alpha': 0.07880253736225562, 'reg_lambda': 0.016866573327456627, 'colsample_bytree': 0.7840342565773315, 'subsample': 0.8484708804700719, 'learning_rate': 0.023614665788394044, 'max_depth': 7, 'min_child_weight': 0.00424687121619671, 'gamma': 0.0023464291622011645}. Best is trial 2 with value: 0.9450255753760537.\u001b[0m\n",
      "\u001b[32m[I 2023-03-18 10:16:34,862]\u001b[0m Trial 24 finished with value: 0.9437234055742616 and parameters: {'reg_alpha': 3.3649764387661665, 'reg_lambda': 0.18234506254364483, 'colsample_bytree': 0.8742933342412188, 'subsample': 0.9513983087757091, 'learning_rate': 0.050710836117188865, 'max_depth': 7, 'min_child_weight': 0.0286484260258595, 'gamma': 0.010754648291443772}. Best is trial 2 with value: 0.9450255753760537.\u001b[0m\n",
      "\u001b[32m[I 2023-03-18 10:16:46,397]\u001b[0m Trial 25 finished with value: 0.9443637307232364 and parameters: {'reg_alpha': 0.9894725821086694, 'reg_lambda': 0.0006180019353138935, 'colsample_bytree': 0.7051342551835684, 'subsample': 0.7908709663852656, 'learning_rate': 0.008269557767095675, 'max_depth': 8, 'min_child_weight': 0.003505864748731406, 'gamma': 0.04463716444503979}. Best is trial 2 with value: 0.9450255753760537.\u001b[0m\n",
      "\u001b[32m[I 2023-03-18 10:16:51,242]\u001b[0m Trial 26 finished with value: 0.9420170344611456 and parameters: {'reg_alpha': 4.295346448601896, 'reg_lambda': 0.003859162884187402, 'colsample_bytree': 0.6284662719597741, 'subsample': 0.8643578416622733, 'learning_rate': 0.08746097100682157, 'max_depth': 6, 'min_child_weight': 0.6266140352577415, 'gamma': 0.007124747170581066}. Best is trial 2 with value: 0.9450255753760537.\u001b[0m\n",
      "\u001b[32m[I 2023-03-18 10:16:54,745]\u001b[0m Trial 27 finished with value: 0.9412075257834142 and parameters: {'reg_alpha': 0.01650963825506964, 'reg_lambda': 0.00011417492697853439, 'colsample_bytree': 0.8129611420481697, 'subsample': 0.7298357957470143, 'learning_rate': 0.019372325102658763, 'max_depth': 7, 'min_child_weight': 0.04909566660281689, 'gamma': 0.0022178195516799845}. Best is trial 2 with value: 0.9450255753760537.\u001b[0m\n",
      "\u001b[32m[I 2023-03-18 10:17:03,105]\u001b[0m Trial 28 finished with value: 0.9359990308064585 and parameters: {'reg_alpha': 0.26494567011381814, 'reg_lambda': 0.001756194003324008, 'colsample_bytree': 0.7436835616778497, 'subsample': 0.9102750462921417, 'learning_rate': 0.03031012351469212, 'max_depth': 9, 'min_child_weight': 6.4969561484066185, 'gamma': 2.2305945786390824}. Best is trial 2 with value: 0.9450255753760537.\u001b[0m\n",
      "\u001b[32m[I 2023-03-18 10:17:16,362]\u001b[0m Trial 29 finished with value: 0.9316319471607309 and parameters: {'reg_alpha': 7.256905371453971, 'reg_lambda': 0.09571730225426418, 'colsample_bytree': 0.7671818549954033, 'subsample': 0.8446173949461054, 'learning_rate': 0.013422563186101829, 'max_depth': 5, 'min_child_weight': 0.013183810103428645, 'gamma': 0.26512359699383053}. Best is trial 2 with value: 0.9450255753760537.\u001b[0m\n",
      "\u001b[32m[I 2023-03-18 10:17:28,060]\u001b[0m Trial 30 finished with value: 0.9443215455420118 and parameters: {'reg_alpha': 1.9271185773676798, 'reg_lambda': 0.19342564002422502, 'colsample_bytree': 0.922797518745685, 'subsample': 0.6181696582253613, 'learning_rate': 0.0092685141017581, 'max_depth': 10, 'min_child_weight': 0.16504080803057897, 'gamma': 0.06588873644733069}. Best is trial 2 with value: 0.9450255753760537.\u001b[0m\n",
      "\u001b[32m[I 2023-03-18 10:17:45,013]\u001b[0m Trial 31 finished with value: 0.9444198212707521 and parameters: {'reg_alpha': 0.9721361927519722, 'reg_lambda': 0.0028858442051699997, 'colsample_bytree': 0.6724871471102508, 'subsample': 0.818136338437687, 'learning_rate': 0.00500539706131948, 'max_depth': 7, 'min_child_weight': 0.010714994142576244, 'gamma': 0.0017267285566975462}. Best is trial 2 with value: 0.9450255753760537.\u001b[0m\n",
      "\u001b[32m[I 2023-03-18 10:17:56,722]\u001b[0m Trial 32 finished with value: 0.9434738901485723 and parameters: {'reg_alpha': 0.5404210300467929, 'reg_lambda': 0.030283650997465147, 'colsample_bytree': 0.6937167277903645, 'subsample': 0.8239240653346874, 'learning_rate': 0.00652904514672046, 'max_depth': 7, 'min_child_weight': 2.570713084656122, 'gamma': 0.001774460999971181}. Best is trial 2 with value: 0.9450255753760537.\u001b[0m\n",
      "\u001b[32m[I 2023-03-18 10:18:03,648]\u001b[0m Trial 33 finished with value: 0.9410439289053082 and parameters: {'reg_alpha': 0.06881508481260094, 'reg_lambda': 0.03332870492456046, 'colsample_bytree': 0.6423812985325771, 'subsample': 0.7799607668239873, 'learning_rate': 0.01026074604142543, 'max_depth': 8, 'min_child_weight': 0.006580932549727802, 'gamma': 0.007148195096450975}. Best is trial 2 with value: 0.9450255753760537.\u001b[0m\n",
      "\u001b[32m[I 2023-03-18 10:18:15,422]\u001b[0m Trial 34 finished with value: 0.9423307620612842 and parameters: {'reg_alpha': 0.20242735720100072, 'reg_lambda': 0.0004235879144312576, 'colsample_bytree': 0.5827957360085025, 'subsample': 0.7131844280706157, 'learning_rate': 0.006594340660666642, 'max_depth': 6, 'min_child_weight': 0.0022210842374737988, 'gamma': 0.0016603676694680945}. Best is trial 2 with value: 0.9450255753760537.\u001b[0m\n",
      "\u001b[32m[I 2023-03-18 10:18:30,370]\u001b[0m Trial 35 finished with value: 0.9388541714043759 and parameters: {'reg_alpha': 7.36265379175046, 'reg_lambda': 0.003224504303781199, 'colsample_bytree': 0.9921728458766119, 'subsample': 0.6640279703068674, 'learning_rate': 0.01521804479577987, 'max_depth': 8, 'min_child_weight': 0.015614025809480089, 'gamma': 0.007301894740184934}. Best is trial 2 with value: 0.9450255753760537.\u001b[0m\n",
      "\u001b[32m[I 2023-03-18 10:18:36,225]\u001b[0m Trial 36 finished with value: 0.9434639421662897 and parameters: {'reg_alpha': 0.6196589438533391, 'reg_lambda': 0.001134012668490674, 'colsample_bytree': 0.8036768583193028, 'subsample': 0.5746213113043755, 'learning_rate': 0.012246344604869881, 'max_depth': 9, 'min_child_weight': 0.07253862598657994, 'gamma': 0.0033284478927676575}. Best is trial 2 with value: 0.9450255753760537.\u001b[0m\n",
      "\u001b[32m[I 2023-03-18 10:18:48,601]\u001b[0m Trial 37 finished with value: 0.9439705341490268 and parameters: {'reg_alpha': 0.9764915367320066, 'reg_lambda': 0.00020754542445689897, 'colsample_bytree': 0.8455449941461476, 'subsample': 0.8100221930274246, 'learning_rate': 0.005081460878540921, 'max_depth': 7, 'min_child_weight': 0.7217811254646016, 'gamma': 0.00414144314428082}. Best is trial 2 with value: 0.9450255753760537.\u001b[0m\n",
      "\u001b[32m[I 2023-03-18 10:18:59,307]\u001b[0m Trial 38 finished with value: 0.9439579038512121 and parameters: {'reg_alpha': 0.34243219270211916, 'reg_lambda': 0.007237375441492704, 'colsample_bytree': 0.41154661406276793, 'subsample': 0.9727096752028523, 'learning_rate': 0.03552968280126449, 'max_depth': 6, 'min_child_weight': 0.03585026855481, 'gamma': 0.34886871872191166}. Best is trial 2 with value: 0.9450255753760537.\u001b[0m\n",
      "\u001b[32m[I 2023-03-18 10:19:08,560]\u001b[0m Trial 39 finished with value: 0.9304665799431436 and parameters: {'reg_alpha': 1.926807740793604, 'reg_lambda': 9.554813213353102, 'colsample_bytree': 0.7569536162609406, 'subsample': 0.8408088527512774, 'learning_rate': 0.01066126364333307, 'max_depth': 8, 'min_child_weight': 0.0048476144536634645, 'gamma': 1.4960029845591007}. Best is trial 2 with value: 0.9450255753760537.\u001b[0m\n",
      "\u001b[32m[I 2023-03-18 10:19:16,734]\u001b[0m Trial 40 finished with value: 0.9390229512101124 and parameters: {'reg_alpha': 0.1183564403599799, 'reg_lambda': 0.06255185299626974, 'colsample_bytree': 0.8654705455850947, 'subsample': 0.8840732163665825, 'learning_rate': 0.00646158573701314, 'max_depth': 10, 'min_child_weight': 0.07913974258932104, 'gamma': 0.0010034153125051304}. Best is trial 2 with value: 0.9450255753760537.\u001b[0m\n",
      "\u001b[32m[I 2023-03-18 10:19:33,800]\u001b[0m Trial 41 finished with value: 0.9440657650537757 and parameters: {'reg_alpha': 1.583400989766399, 'reg_lambda': 0.003560894466053274, 'colsample_bytree': 0.6776044882424963, 'subsample': 0.8153049716205303, 'learning_rate': 0.005932973403438603, 'max_depth': 7, 'min_child_weight': 0.009028842746202307, 'gamma': 0.0161842088316606}. Best is trial 2 with value: 0.9450255753760537.\u001b[0m\n",
      "\u001b[32m[I 2023-03-18 10:19:57,117]\u001b[0m Trial 42 finished with value: 0.9396250647332524 and parameters: {'reg_alpha': 4.824455712883232, 'reg_lambda': 0.00249949111612793, 'colsample_bytree': 0.6525539247771059, 'subsample': 0.9129094226307117, 'learning_rate': 0.0050849534203627235, 'max_depth': 7, 'min_child_weight': 0.018933054139738843, 'gamma': 0.041804943196391844}. Best is trial 2 with value: 0.9450255753760537.\u001b[0m\n",
      "\u001b[32m[I 2023-03-18 10:20:09,520]\u001b[0m Trial 43 finished with value: 0.9443828904407574 and parameters: {'reg_alpha': 1.0886172545725425, 'reg_lambda': 0.007606507847369874, 'colsample_bytree': 0.7240918232062885, 'subsample': 0.7740980747165418, 'learning_rate': 0.007209421190165217, 'max_depth': 8, 'min_child_weight': 0.011363554020962688, 'gamma': 0.005192389616996507}. Best is trial 2 with value: 0.9450255753760537.\u001b[0m\n",
      "\u001b[32m[I 2023-03-18 10:20:12,422]\u001b[0m Trial 44 finished with value: 0.9411862043789899 and parameters: {'reg_alpha': 0.16731250124842784, 'reg_lambda': 0.0010417912795566298, 'colsample_bytree': 0.60170181636265, 'subsample': 0.9543720535995163, 'learning_rate': 0.16471192315282523, 'max_depth': 7, 'min_child_weight': 0.0010834275085410182, 'gamma': 0.8395560883363472}. Best is trial 2 with value: 0.9450255753760537.\u001b[0m\n",
      "\u001b[32m[I 2023-03-18 10:20:16,170]\u001b[0m Trial 45 finished with value: 0.9446540368854379 and parameters: {'reg_alpha': 0.4235454577984186, 'reg_lambda': 0.014215425083502127, 'colsample_bytree': 0.5607626469075725, 'subsample': 0.7270022152093453, 'learning_rate': 0.06598414153789063, 'max_depth': 8, 'min_child_weight': 0.002819471760083703, 'gamma': 0.18094173520378565}. Best is trial 2 with value: 0.9450255753760537.\u001b[0m\n",
      "\u001b[32m[I 2023-03-18 10:20:19,856]\u001b[0m Trial 46 finished with value: 0.9440576307368003 and parameters: {'reg_alpha': 0.3521356910077078, 'reg_lambda': 0.02354134765982015, 'colsample_bytree': 0.5352299896298345, 'subsample': 0.6754497360214519, 'learning_rate': 0.06717640997541374, 'max_depth': 8, 'min_child_weight': 0.0022544504128958623, 'gamma': 0.18241400093743043}. Best is trial 2 with value: 0.9450255753760537.\u001b[0m\n",
      "\u001b[32m[I 2023-03-18 10:20:21,838]\u001b[0m Trial 47 finished with value: 0.9425633058471513 and parameters: {'reg_alpha': 0.01784709620199111, 'reg_lambda': 0.009108038241374876, 'colsample_bytree': 0.5769371693879254, 'subsample': 0.733871264776074, 'learning_rate': 0.08405159400880839, 'max_depth': 8, 'min_child_weight': 0.006599342450538285, 'gamma': 0.09052665420695184}. Best is trial 2 with value: 0.9450255753760537.\u001b[0m\n",
      "\u001b[32m[I 2023-03-18 10:20:25,159]\u001b[0m Trial 48 finished with value: 0.9460083062726607 and parameters: {'reg_alpha': 0.06495058902210771, 'reg_lambda': 0.27395049818266504, 'colsample_bytree': 0.4957506371235658, 'subsample': 0.6959603654073179, 'learning_rate': 0.10844952249962504, 'max_depth': 9, 'min_child_weight': 0.0027653946910972003, 'gamma': 0.33402667521451357}. Best is trial 48 with value: 0.9460083062726607.\u001b[0m\n",
      "\u001b[32m[I 2023-03-18 10:20:29,367]\u001b[0m Trial 49 finished with value: 0.9428845198983116 and parameters: {'reg_alpha': 0.010395470593935445, 'reg_lambda': 0.3127628979783962, 'colsample_bytree': 0.44728325973975736, 'subsample': 0.6539033286116752, 'learning_rate': 0.11952500022281531, 'max_depth': 9, 'min_child_weight': 0.0015283856483178423, 'gamma': 0.5746239205776942}. Best is trial 48 with value: 0.9460083062726607.\u001b[0m\n",
      "\u001b[32m[I 2023-03-18 10:20:32,265]\u001b[0m Trial 50 finished with value: 0.9426808147384351 and parameters: {'reg_alpha': 0.00010450415250126471, 'reg_lambda': 0.06307802915631096, 'colsample_bytree': 0.4880308561766336, 'subsample': 0.7028026333638352, 'learning_rate': 0.12294158477293167, 'max_depth': 9, 'min_child_weight': 0.0029515311740546256, 'gamma': 0.23891924427858297}. Best is trial 48 with value: 0.9460083062726607.\u001b[0m\n",
      "\u001b[32m[I 2023-03-18 10:20:39,440]\u001b[0m Trial 51 finished with value: 0.9435250658315585 and parameters: {'reg_alpha': 0.07423882057728437, 'reg_lambda': 0.808335258112682, 'colsample_bytree': 0.48445791569987334, 'subsample': 0.5821503234697812, 'learning_rate': 0.051237806003190195, 'max_depth': 10, 'min_child_weight': 0.005444974102554171, 'gamma': 0.4380715268647342}. Best is trial 48 with value: 0.9460083062726607.\u001b[0m\n",
      "\u001b[32m[I 2023-03-18 10:20:42,236]\u001b[0m Trial 52 finished with value: 0.94317335480174 and parameters: {'reg_alpha': 0.03129087780073762, 'reg_lambda': 0.3676377176809779, 'colsample_bytree': 0.537820438758202, 'subsample': 0.7294865717908418, 'learning_rate': 0.07510968838737246, 'max_depth': 9, 'min_child_weight': 0.002447408452461815, 'gamma': 0.13194881172703296}. Best is trial 48 with value: 0.9460083062726607.\u001b[0m\n",
      "\u001b[32m[I 2023-03-18 10:20:43,785]\u001b[0m Trial 53 finished with value: 0.94142155199035 and parameters: {'reg_alpha': 0.04830287304065862, 'reg_lambda': 0.09135562455188852, 'colsample_bytree': 0.5615696641383232, 'subsample': 0.5197989846800612, 'learning_rate': 0.1424278338581163, 'max_depth': 8, 'min_child_weight': 0.001030303688900219, 'gamma': 0.0015306838929508917}. Best is trial 48 with value: 0.9460083062726607.\u001b[0m\n",
      "\u001b[32m[I 2023-03-18 10:20:47,595]\u001b[0m Trial 54 finished with value: 0.9421800463620018 and parameters: {'reg_alpha': 0.1355532170795271, 'reg_lambda': 0.015063188790348151, 'colsample_bytree': 0.7769368748806695, 'subsample': 0.7982806318052017, 'learning_rate': 0.09569250533882849, 'max_depth': 8, 'min_child_weight': 0.008610245569371655, 'gamma': 1.0518816110299551}. Best is trial 48 with value: 0.9460083062726607.\u001b[0m\n",
      "\u001b[32m[I 2023-03-18 10:20:51,142]\u001b[0m Trial 55 finished with value: 0.9230231521507519 and parameters: {'reg_alpha': 0.636857105102425, 'reg_lambda': 1.258957718418053, 'colsample_bytree': 0.5113967720248631, 'subsample': 0.7527641184241068, 'learning_rate': 0.058474392800636564, 'max_depth': 9, 'min_child_weight': 0.0016287649673210089, 'gamma': 3.5344994513036525}. Best is trial 48 with value: 0.9460083062726607.\u001b[0m\n",
      "\u001b[32m[I 2023-03-18 10:20:58,406]\u001b[0m Trial 56 finished with value: 0.9429167272251198 and parameters: {'reg_alpha': 2.265922580191534, 'reg_lambda': 0.1403893514819751, 'colsample_bytree': 0.4557884633478833, 'subsample': 0.890641188138416, 'learning_rate': 0.04128179907007078, 'max_depth': 6, 'min_child_weight': 0.038936814670092405, 'gamma': 0.06984788536022495}. Best is trial 48 with value: 0.9460083062726607.\u001b[0m\n",
      "\u001b[32m[I 2023-03-18 10:21:06,397]\u001b[0m Trial 57 finished with value: 0.9438462217106676 and parameters: {'reg_alpha': 0.8443022104787306, 'reg_lambda': 0.004170176437571521, 'colsample_bytree': 0.8306678957765582, 'subsample': 0.860880078864155, 'learning_rate': 0.022915100091833687, 'max_depth': 7, 'min_child_weight': 0.019047749724966836, 'gamma': 0.3841964447530064}. Best is trial 48 with value: 0.9460083062726607.\u001b[0m\n",
      "\u001b[32m[I 2023-03-18 10:21:08,190]\u001b[0m Trial 58 finished with value: 0.9417240237477629 and parameters: {'reg_alpha': 0.37486497814517294, 'reg_lambda': 0.020812109730728435, 'colsample_bytree': 0.8052644080604092, 'subsample': 0.6893705411925632, 'learning_rate': 0.10306244580704717, 'max_depth': 8, 'min_child_weight': 0.2193947832744889, 'gamma': 0.0026554664921090705}. Best is trial 48 with value: 0.9460083062726607.\u001b[0m\n",
      "\u001b[32m[I 2023-03-18 10:21:19,650]\u001b[0m Trial 59 finished with value: 0.944292962850587 and parameters: {'reg_alpha': 0.2243293596601548, 'reg_lambda': 0.010443921430529753, 'colsample_bytree': 0.7412362762618755, 'subsample': 0.9281851179488207, 'learning_rate': 0.017794414422471806, 'max_depth': 8, 'min_child_weight': 0.003836203692844982, 'gamma': 0.5721353904940657}. Best is trial 48 with value: 0.9460083062726607.\u001b[0m\n",
      "\u001b[32m[I 2023-03-18 10:21:29,224]\u001b[0m Trial 60 finished with value: 0.9389268782705354 and parameters: {'reg_alpha': 4.694634184948458, 'reg_lambda': 1.6961410988228989, 'colsample_bytree': 0.6926135495582328, 'subsample': 0.8249570876248364, 'learning_rate': 0.026194652579892952, 'max_depth': 9, 'min_child_weight': 1.5530999413505127, 'gamma': 0.1816410558464079}. Best is trial 48 with value: 0.9460083062726607.\u001b[0m\n",
      "\u001b[32m[I 2023-03-18 10:21:36,425]\u001b[0m Trial 61 finished with value: 0.9428892055559744 and parameters: {'reg_alpha': 1.2465654590430815, 'reg_lambda': 0.004848813105373687, 'colsample_bytree': 0.6090824405750992, 'subsample': 0.7807841020379579, 'learning_rate': 0.044706256851242, 'max_depth': 7, 'min_child_weight': 0.01105372036554885, 'gamma': 0.2963674417553684}. Best is trial 48 with value: 0.9460083062726607.\u001b[0m\n",
      "\u001b[32m[I 2023-03-18 10:21:56,507]\u001b[0m Trial 62 finished with value: 0.93327299252013 and parameters: {'reg_alpha': 9.92285282535906, 'reg_lambda': 0.002188054860172552, 'colsample_bytree': 0.9021207429547777, 'subsample': 0.8363524210517044, 'learning_rate': 0.00814994138477121, 'max_depth': 7, 'min_child_weight': 0.005732763516702815, 'gamma': 0.0013297531695259629}. Best is trial 48 with value: 0.9460083062726607.\u001b[0m\n",
      "\u001b[32m[I 2023-03-18 10:22:03,462]\u001b[0m Trial 63 finished with value: 0.9441725408646869 and parameters: {'reg_alpha': 2.7095532567646643, 'reg_lambda': 0.0012744725724237623, 'colsample_bytree': 0.7136115093137899, 'subsample': 0.8671163111904571, 'learning_rate': 0.03420115925842097, 'max_depth': 7, 'min_child_weight': 0.009004698170697217, 'gamma': 0.030934489381490606}. Best is trial 48 with value: 0.9460083062726607.\u001b[0m\n",
      "\u001b[32m[I 2023-03-18 10:22:19,773]\u001b[0m Trial 64 finished with value: 0.9440098368938784 and parameters: {'reg_alpha': 0.4471714886923372, 'reg_lambda': 0.5383442420796974, 'colsample_bytree': 0.6602408512903196, 'subsample': 0.7618638548238483, 'learning_rate': 0.005849891939351417, 'max_depth': 6, 'min_child_weight': 0.0028289350554647655, 'gamma': 0.1385951438228107}. Best is trial 48 with value: 0.9460083062726607.\u001b[0m\n",
      "\u001b[32m[I 2023-03-18 10:22:39,886]\u001b[0m Trial 65 finished with value: 0.9433023382985987 and parameters: {'reg_alpha': 1.4602753229445589, 'reg_lambda': 0.27725521967953465, 'colsample_bytree': 0.627260603202831, 'subsample': 0.8056175952771287, 'learning_rate': 0.005612898908996874, 'max_depth': 5, 'min_child_weight': 0.016954423369446817, 'gamma': 0.0021864086734841325}. Best is trial 48 with value: 0.9460083062726607.\u001b[0m\n",
      "\u001b[32m[I 2023-03-18 10:22:42,132]\u001b[0m Trial 66 finished with value: 0.9417357477744306 and parameters: {'reg_alpha': 0.09452825254286953, 'reg_lambda': 0.046193426795735335, 'colsample_bytree': 0.6799282945525124, 'subsample': 0.7203065511432225, 'learning_rate': 0.055470244941490644, 'max_depth': 4, 'min_child_weight': 0.028038021030834286, 'gamma': 0.0057502772520547935}. Best is trial 48 with value: 0.9460083062726607.\u001b[0m\n",
      "\u001b[32m[I 2023-03-18 10:22:51,378]\u001b[0m Trial 67 finished with value: 0.9442036380935658 and parameters: {'reg_alpha': 0.0014728538739828634, 'reg_lambda': 0.000672557774201242, 'colsample_bytree': 0.7426954585218989, 'subsample': 0.6376486921875801, 'learning_rate': 0.009664588079931816, 'max_depth': 8, 'min_child_weight': 0.5603155068974696, 'gamma': 0.23181431040318873}. Best is trial 48 with value: 0.9460083062726607.\u001b[0m\n",
      "\u001b[32m[I 2023-03-18 10:22:53,108]\u001b[0m Trial 68 finished with value: 0.9421833751958731 and parameters: {'reg_alpha': 0.050517107556454395, 'reg_lambda': 0.0003730560731810009, 'colsample_bytree': 0.7884224163571408, 'subsample': 0.7409291854991917, 'learning_rate': 0.07159097653461789, 'max_depth': 7, 'min_child_weight': 0.0047164444625787975, 'gamma': 0.015245603642627743}. Best is trial 48 with value: 0.9460083062726607.\u001b[0m\n",
      "\u001b[32m[I 2023-03-18 10:23:00,915]\u001b[0m Trial 69 finished with value: 0.9436727508568081 and parameters: {'reg_alpha': 0.7530948120826133, 'reg_lambda': 0.0008869094634820941, 'colsample_bytree': 0.9625912933677938, 'subsample': 0.8525634177049087, 'learning_rate': 0.007309326000279248, 'max_depth': 7, 'min_child_weight': 0.007568833714175807, 'gamma': 0.002791664344967188}. Best is trial 48 with value: 0.9460083062726607.\u001b[0m\n",
      "\u001b[32m[I 2023-03-18 10:23:02,215]\u001b[0m Trial 70 finished with value: 0.9402697288659085 and parameters: {'reg_alpha': 0.027475329238183223, 'reg_lambda': 0.005461539110579751, 'colsample_bytree': 0.8168026758783528, 'subsample': 0.7920589347662053, 'learning_rate': 0.14323985924772448, 'max_depth': 6, 'min_child_weight': 0.013242527464818165, 'gamma': 0.001292360346731821}. Best is trial 48 with value: 0.9460083062726607.\u001b[0m\n",
      "\u001b[32m[I 2023-03-18 10:23:15,651]\u001b[0m Trial 71 finished with value: 0.9446568251010559 and parameters: {'reg_alpha': 1.101276769911541, 'reg_lambda': 0.0030358069319034965, 'colsample_bytree': 0.7233499563035116, 'subsample': 0.7706786068203592, 'learning_rate': 0.007290773265714595, 'max_depth': 8, 'min_child_weight': 0.012601365341806536, 'gamma': 0.004262824929574868}. Best is trial 48 with value: 0.9460083062726607.\u001b[0m\n",
      "\u001b[32m[I 2023-03-18 10:23:32,421]\u001b[0m Trial 72 finished with value: 0.9424279519491667 and parameters: {'reg_alpha': 3.5304354219672205, 'reg_lambda': 0.0027175996940008, 'colsample_bytree': 0.7070940956719092, 'subsample': 0.7694573586105664, 'learning_rate': 0.008893729308903989, 'max_depth': 8, 'min_child_weight': 0.03981480152589485, 'gamma': 0.01030513050655314}. Best is trial 48 with value: 0.9460083062726607.\u001b[0m\n",
      "\u001b[32m[I 2023-03-18 10:23:49,802]\u001b[0m Trial 73 finished with value: 0.9439565207489263 and parameters: {'reg_alpha': 1.8858520297297234, 'reg_lambda': 0.0015180467225216821, 'colsample_bytree': 0.7717214467419078, 'subsample': 0.8986108061480502, 'learning_rate': 0.0056092609050491194, 'max_depth': 8, 'min_child_weight': 4.528951840485539, 'gamma': 0.003978348324296811}. Best is trial 48 with value: 0.9460083062726607.\u001b[0m\n",
      "\u001b[32m[I 2023-03-18 10:23:51,307]\u001b[0m Trial 74 finished with value: 0.9387065379254036 and parameters: {'reg_alpha': 0.2596257121716447, 'reg_lambda': 0.0020056512794035843, 'colsample_bytree': 0.749581655926103, 'subsample': 0.7101266377123081, 'learning_rate': 0.18987521365957113, 'max_depth': 9, 'min_child_weight': 0.026430581143345455, 'gamma': 0.0018372529308042541}. Best is trial 48 with value: 0.9460083062726607.\u001b[0m\n",
      "\u001b[32m[I 2023-03-18 10:24:05,855]\u001b[0m Trial 75 finished with value: 0.9430636946453346 and parameters: {'reg_alpha': 0.49586325464311143, 'reg_lambda': 0.011134277356906436, 'colsample_bytree': 0.5189835376990751, 'subsample': 0.8215567759993322, 'learning_rate': 0.007187657466619418, 'max_depth': 7, 'min_child_weight': 0.06547799882081408, 'gamma': 0.002129864139538065}. Best is trial 48 with value: 0.9460083062726607.\u001b[0m\n",
      "\u001b[32m[I 2023-03-18 10:24:27,659]\u001b[0m Trial 76 finished with value: 0.9389206427432196 and parameters: {'reg_alpha': 6.6232787596172855, 'reg_lambda': 0.0029886284955669223, 'colsample_bytree': 0.7272934201659607, 'subsample': 0.831357670333728, 'learning_rate': 0.006429213216200282, 'max_depth': 8, 'min_child_weight': 0.010429884057859665, 'gamma': 0.0012442466122907184}. Best is trial 48 with value: 0.9460083062726607.\u001b[0m\n",
      "\u001b[32m[I 2023-03-18 10:24:37,479]\u001b[0m Trial 77 finished with value: 0.9444158983632294 and parameters: {'reg_alpha': 1.030088554142853, 'reg_lambda': 0.20354893548556646, 'colsample_bytree': 0.6444659958961099, 'subsample': 0.6910062076787677, 'learning_rate': 0.012188012003211048, 'max_depth': 8, 'min_child_weight': 0.11296292815810953, 'gamma': 0.0855473601577137}. Best is trial 48 with value: 0.9460083062726607.\u001b[0m\n",
      "\u001b[32m[I 2023-03-18 10:24:44,067]\u001b[0m Trial 78 finished with value: 0.9430482673724037 and parameters: {'reg_alpha': 0.17028254447637622, 'reg_lambda': 0.1309318798447302, 'colsample_bytree': 0.6445571044776806, 'subsample': 0.6879669643995581, 'learning_rate': 0.011907773505401054, 'max_depth': 9, 'min_child_weight': 0.11147292075651187, 'gamma': 0.09250163527429557}. Best is trial 48 with value: 0.9460083062726607.\u001b[0m\n",
      "\u001b[32m[I 2023-03-18 10:24:58,294]\u001b[0m Trial 79 finished with value: 0.9405897095123589 and parameters: {'reg_alpha': 1.0468417382304405, 'reg_lambda': 0.20486257280308195, 'colsample_bytree': 0.8578378247174798, 'subsample': 0.6648491528865844, 'learning_rate': 0.013803702772978863, 'max_depth': 8, 'min_child_weight': 0.397712342803036, 'gamma': 0.6894901899745856}. Best is trial 48 with value: 0.9460083062726607.\u001b[0m\n",
      "\u001b[32m[I 2023-03-18 10:25:04,175]\u001b[0m Trial 80 finished with value: 0.9435449334962062 and parameters: {'reg_alpha': 0.743950036142337, 'reg_lambda': 0.2429080354932914, 'colsample_bytree': 0.5570496687587058, 'subsample': 0.7403566882587809, 'learning_rate': 0.01984535776382979, 'max_depth': 8, 'min_child_weight': 0.14358955065009235, 'gamma': 0.0031658295935838372}. Best is trial 48 with value: 0.9460083062726607.\u001b[0m\n",
      "\u001b[32m[I 2023-03-18 10:25:12,147]\u001b[0m Trial 81 finished with value: 0.9444165992353767 and parameters: {'reg_alpha': 1.3898643354709561, 'reg_lambda': 0.07270396554710709, 'colsample_bytree': 0.6733982869534114, 'subsample': 0.8777764780014256, 'learning_rate': 0.017067914750081115, 'max_depth': 7, 'min_child_weight': 0.2446933490741918, 'gamma': 0.056426943702421746}. Best is trial 48 with value: 0.9460083062726607.\u001b[0m\n",
      "\u001b[32m[I 2023-03-18 10:25:23,793]\u001b[0m Trial 82 finished with value: 0.9438550955314231 and parameters: {'reg_alpha': 1.4373862544475964, 'reg_lambda': 0.07766576198188527, 'colsample_bytree': 0.6890560519970399, 'subsample': 0.8729986703438781, 'learning_rate': 0.017045989027356153, 'max_depth': 7, 'min_child_weight': 0.4383493654955395, 'gamma': 0.1572557125961663}. Best is trial 48 with value: 0.9460083062726607.\u001b[0m\n",
      "\u001b[32m[I 2023-03-18 10:25:31,219]\u001b[0m Trial 83 finished with value: 0.9418459264257415 and parameters: {'reg_alpha': 2.2024622902565616, 'reg_lambda': 0.11959782352336407, 'colsample_bytree': 0.6641466350800255, 'subsample': 0.4315504729912782, 'learning_rate': 0.019937491589972454, 'max_depth': 8, 'min_child_weight': 0.9411022323768744, 'gamma': 0.05981771799091965}. Best is trial 48 with value: 0.9460083062726607.\u001b[0m\n",
      "\u001b[32m[I 2023-03-18 10:25:44,832]\u001b[0m Trial 84 finished with value: 0.9388576336521408 and parameters: {'reg_alpha': 3.076655466496631, 'reg_lambda': 0.039216500518312866, 'colsample_bytree': 0.6135036706426321, 'subsample': 0.9290373859510886, 'learning_rate': 0.01625400133551716, 'max_depth': 7, 'min_child_weight': 0.12230538964662376, 'gamma': 0.2942818721135566}. Best is trial 48 with value: 0.9460083062726607.\u001b[0m\n",
      "\u001b[32m[I 2023-03-18 10:25:49,305]\u001b[0m Trial 85 finished with value: 0.9443349075948195 and parameters: {'reg_alpha': 0.8894589490792331, 'reg_lambda': 0.5504592497270987, 'colsample_bytree': 0.6392409737193511, 'subsample': 0.7486396784592227, 'learning_rate': 0.026355860805864023, 'max_depth': 10, 'min_child_weight': 0.2596815201403471, 'gamma': 0.046260984480271584}. Best is trial 48 with value: 0.9460083062726607.\u001b[0m\n",
      "\u001b[32m[I 2023-03-18 10:25:57,817]\u001b[0m Trial 86 finished with value: 0.9440745860929403 and parameters: {'reg_alpha': 0.44665850045658706, 'reg_lambda': 0.07649594499098399, 'colsample_bytree': 0.7951865667825462, 'subsample': 0.7852257392555371, 'learning_rate': 0.010591587387643741, 'max_depth': 8, 'min_child_weight': 0.058648222878343044, 'gamma': 0.1126690102167016}. Best is trial 48 with value: 0.9460083062726607.\u001b[0m\n",
      "\u001b[32m[I 2023-03-18 10:26:15,084]\u001b[0m Trial 87 finished with value: 0.9436214107647809 and parameters: {'reg_alpha': 1.2411315412883188, 'reg_lambda': 0.16743703945493793, 'colsample_bytree': 0.578273722260162, 'subsample': 0.9041806424455768, 'learning_rate': 0.012892089284397374, 'max_depth': 7, 'min_child_weight': 0.3084194361296929, 'gamma': 0.21905741232020762}. Best is trial 48 with value: 0.9460083062726607.\u001b[0m\n",
      "\u001b[32m[I 2023-03-18 10:26:19,955]\u001b[0m Trial 88 finished with value: 0.9453242557307163 and parameters: {'reg_alpha': 1.7366034343937902, 'reg_lambda': 0.020362781009821966, 'colsample_bytree': 0.7653201969604703, 'subsample': 0.6993631252608079, 'learning_rate': 0.030434667108634534, 'max_depth': 9, 'min_child_weight': 1.6062743710465093, 'gamma': 0.005162903366491338}. Best is trial 48 with value: 0.9460083062726607.\u001b[0m\n",
      "\u001b[32m[I 2023-03-18 10:26:24,686]\u001b[0m Trial 89 finished with value: 0.94442487089679 and parameters: {'reg_alpha': 1.668791203413414, 'reg_lambda': 0.029032878193752443, 'colsample_bytree': 0.8451702671934188, 'subsample': 0.8529578032926649, 'learning_rate': 0.032501353723470065, 'max_depth': 9, 'min_child_weight': 2.0131503438674887, 'gamma': 0.005599915697558419}. Best is trial 48 with value: 0.9460083062726607.\u001b[0m\n",
      "\u001b[32m[I 2023-03-18 10:26:31,242]\u001b[0m Trial 90 finished with value: 0.9427450601540561 and parameters: {'reg_alpha': 4.3463049702940575, 'reg_lambda': 0.02793016615120798, 'colsample_bytree': 0.7636490154364819, 'subsample': 0.7180293496672983, 'learning_rate': 0.031989366060971205, 'max_depth': 9, 'min_child_weight': 1.7440596223239409, 'gamma': 0.005688846183799379}. Best is trial 48 with value: 0.9460083062726607.\u001b[0m\n",
      "\u001b[32m[I 2023-03-18 10:26:35,855]\u001b[0m Trial 91 finished with value: 0.9439507802455529 and parameters: {'reg_alpha': 1.6637578341950165, 'reg_lambda': 0.017588965981148647, 'colsample_bytree': 0.8385689160951819, 'subsample': 0.8549325548293596, 'learning_rate': 0.024997804086038782, 'max_depth': 9, 'min_child_weight': 3.6424238370876223, 'gamma': 0.00431930146009906}. Best is trial 48 with value: 0.9460083062726607.\u001b[0m\n",
      "\u001b[32m[I 2023-03-18 10:26:43,135]\u001b[0m Trial 92 finished with value: 0.9428680034154855 and parameters: {'reg_alpha': 2.644716198925775, 'reg_lambda': 0.05192134771707305, 'colsample_bytree': 0.463112012093188, 'subsample': 0.8837873945323581, 'learning_rate': 0.02926559977632676, 'max_depth': 9, 'min_child_weight': 2.0883211509944037, 'gamma': 0.007504980161837857}. Best is trial 48 with value: 0.9460083062726607.\u001b[0m\n",
      "\u001b[32m[I 2023-03-18 10:26:47,182]\u001b[0m Trial 93 finished with value: 0.9451924581889504 and parameters: {'reg_alpha': 2.116016339285514, 'reg_lambda': 0.006389702078738703, 'colsample_bytree': 0.886466100673397, 'subsample': 0.8059236873651503, 'learning_rate': 0.03839793748712277, 'max_depth': 10, 'min_child_weight': 0.7846673987446792, 'gamma': 0.002706545537592189}. Best is trial 48 with value: 0.9460083062726607.\u001b[0m\n",
      "\u001b[32m[I 2023-03-18 10:26:54,082]\u001b[0m Trial 94 finished with value: 0.9410378565517192 and parameters: {'reg_alpha': 6.023333807066578, 'reg_lambda': 0.008323661238680422, 'colsample_bytree': 0.8840205757433899, 'subsample': 0.7954005313751208, 'learning_rate': 0.04117190111498332, 'max_depth': 10, 'min_child_weight': 1.1878707759095462, 'gamma': 0.0018118215554816133}. Best is trial 48 with value: 0.9460083062726607.\u001b[0m\n",
      "\u001b[32m[I 2023-03-18 10:26:58,557]\u001b[0m Trial 95 finished with value: 0.94423285483789 and parameters: {'reg_alpha': 3.839685676376415, 'reg_lambda': 0.014444716026358398, 'colsample_bytree': 0.9183562394339669, 'subsample': 0.8092783302812333, 'learning_rate': 0.045418904487706836, 'max_depth': 10, 'min_child_weight': 2.8085114182466393, 'gamma': 0.0033689202702660765}. Best is trial 48 with value: 0.9460083062726607.\u001b[0m\n",
      "\u001b[32m[I 2023-03-18 10:27:02,158]\u001b[0m Trial 96 finished with value: 0.9443063700484998 and parameters: {'reg_alpha': 1.902457715662015, 'reg_lambda': 0.004957570375336331, 'colsample_bytree': 0.8537988006784817, 'subsample': 0.7704501953457927, 'learning_rate': 0.03389073722383895, 'max_depth': 10, 'min_child_weight': 1.2729618458623255, 'gamma': 0.004273412744046935}. Best is trial 48 with value: 0.9460083062726607.\u001b[0m\n",
      "\u001b[32m[I 2023-03-18 10:27:04,249]\u001b[0m Trial 97 finished with value: 0.9422078280085581 and parameters: {'reg_alpha': 0.5589296222912146, 'reg_lambda': 0.006734199609177939, 'colsample_bytree': 0.8108990130790544, 'subsample': 0.8425435959624678, 'learning_rate': 0.04942695746059132, 'max_depth': 9, 'min_child_weight': 4.4670411953134375, 'gamma': 0.0024869479537720078}. Best is trial 48 with value: 0.9460083062726607.\u001b[0m\n",
      "\u001b[32m[I 2023-03-18 10:27:08,502]\u001b[0m Trial 98 finished with value: 0.9441439973664008 and parameters: {'reg_alpha': 2.69138796812332, 'reg_lambda': 0.0037841576597032497, 'colsample_bytree': 0.8712206739942882, 'subsample': 0.702780214105229, 'learning_rate': 0.037288031905536236, 'max_depth': 10, 'min_child_weight': 9.11739082761947, 'gamma': 0.0015328629893660017}. Best is trial 48 with value: 0.9460083062726607.\u001b[0m\n",
      "\u001b[32m[I 2023-03-18 10:27:11,942]\u001b[0m Trial 99 finished with value: 0.9390471105796119 and parameters: {'reg_alpha': 0.062144545783313215, 'reg_lambda': 0.023919848623547135, 'colsample_bytree': 0.8249701048397723, 'subsample': 0.9172863321172974, 'learning_rate': 0.021250034206055136, 'max_depth': 9, 'min_child_weight': 0.876478502334559, 'gamma': 0.008391900146970964}. Best is trial 48 with value: 0.9460083062726607.\u001b[0m\n"
     ]
    },
    {
     "name": "stdout",
     "output_type": "stream",
     "text": [
      "Number of finished trials:  100\n",
      "Best trial:\n",
      "  Value: 0.9460083062726607\n",
      "  Params: \n",
      "    reg_alpha: 0.06495058902210771\n",
      "    reg_lambda: 0.27395049818266504\n",
      "    colsample_bytree: 0.4957506371235658\n",
      "    subsample: 0.6959603654073179\n",
      "    learning_rate: 0.10844952249962504\n",
      "    max_depth: 9\n",
      "    min_child_weight: 0.0027653946910972003\n",
      "    gamma: 0.33402667521451357\n"
     ]
    }
   ],
   "source": [
    "study = optuna.create_study(direction=\"maximize\",study_name=\"xgb_opt\")\n",
    "study.optimize(objective, n_trials=100)\n",
    "\n",
    "print(\"Number of finished trials: \", len(study.trials))\n",
    "print(\"Best trial:\")\n",
    "trial = study.best_trial\n",
    "\n",
    "print(\"  Value: {}\".format(trial.value))\n",
    "print(\"  Params: \")\n",
    "\n",
    "hp_xgb = study.best_params\n",
    "\n",
    "hp_xgb[\"n_estimators\"] = study.best_trial.user_attrs['best_iteration']\n",
    "\n",
    "for key, value in trial.params.items():\n",
    "    print(\"    {}: {}\".format(key, value))"
   ]
  },
  {
   "cell_type": "code",
   "execution_count": 82,
   "id": "a5517fb5",
   "metadata": {
    "_kg_hide-output": true,
    "execution": {
     "iopub.execute_input": "2023-03-18T10:27:12.313065Z",
     "iopub.status.busy": "2023-03-18T10:27:12.312314Z",
     "iopub.status.idle": "2023-03-18T10:27:12.921063Z",
     "shell.execute_reply": "2023-03-18T10:27:12.921633Z"
    },
    "papermill": {
     "duration": 0.781333,
     "end_time": "2023-03-18T10:27:12.921866",
     "exception": false,
     "start_time": "2023-03-18T10:27:12.140533",
     "status": "completed"
    },
    "tags": []
   },
   "outputs": [
    {
     "name": "stdout",
     "output_type": "stream",
     "text": [
      "[10:27:12] WARNING: ../src/learner.cc:1095: Starting in XGBoost 1.3.0, the default evaluation metric used with the objective 'binary:logistic' was changed from 'error' to 'logloss'. Explicitly set eval_metric if you'd like to restore the old behavior.\n"
     ]
    },
    {
     "data": {
      "text/plain": [
       "XGBClassifier(base_score=0.5, booster='gbtree', colsample_bylevel=1,\n",
       "              colsample_bynode=1, colsample_bytree=0.4957506371235658,\n",
       "              gamma=0.33402667521451357, gpu_id=-1, importance_type='gain',\n",
       "              interaction_constraints='', learning_rate=0.10844952249962504,\n",
       "              max_delta_step=0, max_depth=9,\n",
       "              min_child_weight=0.0027653946910972003, missing=nan,\n",
       "              monotone_constraints='()', n_estimators=399, n_jobs=4,\n",
       "              num_parallel_tree=1, random_state=0,\n",
       "              reg_alpha=0.06495058902210771, reg_lambda=0.27395049818266504,\n",
       "              scale_pos_weight=1, subsample=0.6959603654073179,\n",
       "              tree_method='exact', use_label_encoder=False,\n",
       "              validate_parameters=1, verbosity=None)"
      ]
     },
     "execution_count": 82,
     "metadata": {},
     "output_type": "execute_result"
    }
   ],
   "source": [
    "xgb_model = xgboost.XGBClassifier(**hp_xgb,use_label_encoder=False)\n",
    "xgb_model.fit(X_train, y_train, verbose=False)"
   ]
  },
  {
   "cell_type": "code",
   "execution_count": 83,
   "id": "db5f6ba5",
   "metadata": {
    "execution": {
     "iopub.execute_input": "2023-03-18T10:27:13.271895Z",
     "iopub.status.busy": "2023-03-18T10:27:13.271156Z",
     "iopub.status.idle": "2023-03-18T10:27:13.281680Z",
     "shell.execute_reply": "2023-03-18T10:27:13.282351Z"
    },
    "papermill": {
     "duration": 0.187134,
     "end_time": "2023-03-18T10:27:13.282603",
     "exception": false,
     "start_time": "2023-03-18T10:27:13.095469",
     "status": "completed"
    },
    "tags": []
   },
   "outputs": [],
   "source": [
    "y_pred_xgb = xgb_model.predict(X_test)"
   ]
  },
  {
   "cell_type": "code",
   "execution_count": 84,
   "id": "f336a23f",
   "metadata": {
    "execution": {
     "iopub.execute_input": "2023-03-18T10:27:13.631013Z",
     "iopub.status.busy": "2023-03-18T10:27:13.630236Z",
     "iopub.status.idle": "2023-03-18T10:27:13.790670Z",
     "shell.execute_reply": "2023-03-18T10:27:13.789975Z"
    },
    "papermill": {
     "duration": 0.33587,
     "end_time": "2023-03-18T10:27:13.790890",
     "exception": false,
     "start_time": "2023-03-18T10:27:13.455020",
     "status": "completed"
    },
    "tags": []
   },
   "outputs": [
    {
     "data": {
      "image/png": "[encoded data removed]",
      "text/plain": [
       "<Figure size 252x252 with 1 Axes>"
      ]
     },
     "metadata": {},
     "output_type": "display_data"
    }
   ],
   "source": [
    "conf_matrix(y_test, y_pred_xgb)"
   ]
  },
  {
   "cell_type": "code",
   "execution_count": 85,
   "id": "2ebdf263",
   "metadata": {
    "execution": {
     "iopub.execute_input": "2023-03-18T10:27:14.136743Z",
     "iopub.status.busy": "2023-03-18T10:27:14.135931Z",
     "iopub.status.idle": "2023-03-18T10:27:14.145622Z",
     "shell.execute_reply": "2023-03-18T10:27:14.145029Z"
    },
    "papermill": {
     "duration": 0.185581,
     "end_time": "2023-03-18T10:27:14.145811",
     "exception": false,
     "start_time": "2023-03-18T10:27:13.960230",
     "status": "completed"
    },
    "tags": []
   },
   "outputs": [
    {
     "name": "stdout",
     "output_type": "stream",
     "text": [
      "              precision    recall  f1-score   support\n",
      "\n",
      "           0       0.84      0.93      0.88       398\n",
      "           1       0.94      0.85      0.89       489\n",
      "\n",
      "    accuracy                           0.89       887\n",
      "   macro avg       0.89      0.89      0.89       887\n",
      "weighted avg       0.89      0.89      0.89       887\n",
      "\n"
     ]
    }
   ],
   "source": [
    "print(classification_report(y_test, y_pred_xgb))"
   ]
  },
  {
   "cell_type": "markdown",
   "id": "d70a1b66",
   "metadata": {
    "papermill": {
     "duration": 0.194372,
     "end_time": "2023-03-18T10:27:14.510730",
     "exception": false,
     "start_time": "2023-03-18T10:27:14.316358",
     "status": "completed"
    },
    "tags": []
   },
   "source": [
    "# CATBOOST CLASSIFIER"
   ]
  },
  {
   "cell_type": "code",
   "execution_count": 86,
   "id": "7223c640",
   "metadata": {
    "execution": {
     "iopub.execute_input": "2023-03-18T10:27:14.857045Z",
     "iopub.status.busy": "2023-03-18T10:27:14.856303Z",
     "iopub.status.idle": "2023-03-18T10:27:14.866100Z",
     "shell.execute_reply": "2023-03-18T10:27:14.866724Z"
    },
    "papermill": {
     "duration": 0.184718,
     "end_time": "2023-03-18T10:27:14.866933",
     "exception": false,
     "start_time": "2023-03-18T10:27:14.682215",
     "status": "completed"
    },
    "tags": []
   },
   "outputs": [],
   "source": [
    "def objective(trial):\n",
    "    params = {\n",
    "        'loss_function': 'Logloss',\n",
    "        'eval_metric': 'AUC',\n",
    "        'random_seed': seed,\n",
    "        'iterations': 5000,\n",
    "        'learning_rate': trial.suggest_float('learning_rate', 0.005, 0.2, log=True),\n",
    "        'depth': trial.suggest_int('depth', 4, 10),\n",
    "        'l2_leaf_reg': trial.suggest_float('l2_leaf_reg', 1e-4, 10.0, log=True),\n",
    "        'bagging_temperature': trial.suggest_float('bagging_temperature', 0.0, 10.0),\n",
    "        'border_count': trial.suggest_int('border_count', 32, 255),\n",
    "        'min_data_in_leaf': trial.suggest_int('min_data_in_leaf', 1, 50),\n",
    "        'random_strength': trial.suggest_float('random_strength', 1e-9, 10, log=True),\n",
    "    }\n",
    "    \n",
    "    kf = StratifiedKFold(n_splits=5, shuffle=True, random_state=seed)\n",
    "    auc_scores = []\n",
    "    \n",
    "    for train_idx, val_idx in kf.split(X_train,y_train):\n",
    "        X_train_cv, X_val = X_train.iloc[train_idx], X_train.iloc[val_idx]\n",
    "        y_train_cv, y_val = y_train.iloc[train_idx], y_train.iloc[val_idx]\n",
    "        \n",
    "        model = CatBoostClassifier(**params)\n",
    "        model.fit(X_train_cv, y_train_cv, eval_set=(X_val, y_val),\n",
    "                  early_stopping_rounds=150, verbose=False)\n",
    "        \n",
    "        preds = model.predict_proba(X_val)[:,1]\n",
    "        auc = roc_auc_score(y_val, preds)\n",
    "        auc_scores.append(auc)\n",
    "        \n",
    "    best_iteration = model.get_best_iteration()\n",
    "    trial.set_user_attr('best_iteration', best_iteration)\n",
    "    #print(f\"Num trees {best_iteration}\")\n",
    "        \n",
    "    return np.mean(auc_scores)"
   ]
  },
  {
   "cell_type": "code",
   "execution_count": 87,
   "id": "39bce709",
   "metadata": {
    "_kg_hide-output": true,
    "execution": {
     "iopub.execute_input": "2023-03-18T10:27:15.210896Z",
     "iopub.status.busy": "2023-03-18T10:27:15.210109Z",
     "iopub.status.idle": "2023-03-18T10:30:53.183704Z",
     "shell.execute_reply": "2023-03-18T10:30:53.184286Z"
    },
    "papermill": {
     "duration": 218.148016,
     "end_time": "2023-03-18T10:30:53.184513",
     "exception": false,
     "start_time": "2023-03-18T10:27:15.036497",
     "status": "completed"
    },
    "tags": []
   },
   "outputs": [
    {
     "name": "stderr",
     "output_type": "stream",
     "text": [
      "\u001b[32m[I 2023-03-18 10:27:15,212]\u001b[0m A new study created in memory with name: no-name-1d15cfd1-6762-4293-ac8f-647ce2a685ef\u001b[0m\n",
      "\u001b[32m[I 2023-03-18 10:27:17,235]\u001b[0m Trial 0 finished with value: 0.9456893112943463 and parameters: {'learning_rate': 0.0854682338118376, 'depth': 7, 'l2_leaf_reg': 2.9976260824509633, 'bagging_temperature': 3.4365407510110533, 'border_count': 177, 'min_data_in_leaf': 49, 'random_strength': 4.801705635914292e-08}. Best is trial 0 with value: 0.9456893112943463.\u001b[0m\n",
      "\u001b[32m[I 2023-03-18 10:27:19,269]\u001b[0m Trial 1 finished with value: 0.9419601324247443 and parameters: {'learning_rate': 0.012199027566794213, 'depth': 8, 'l2_leaf_reg': 0.005906022671266054, 'bagging_temperature': 3.344518455701885, 'border_count': 55, 'min_data_in_leaf': 19, 'random_strength': 1.1617874196321365e-09}. Best is trial 0 with value: 0.9456893112943463.\u001b[0m\n",
      "\u001b[32m[I 2023-03-18 10:27:21,713]\u001b[0m Trial 2 finished with value: 0.9444742824393243 and parameters: {'learning_rate': 0.0261831597884495, 'depth': 6, 'l2_leaf_reg': 0.23615562663053544, 'bagging_temperature': 7.23935125060767, 'border_count': 232, 'min_data_in_leaf': 43, 'random_strength': 2.4897672341470984e-07}. Best is trial 0 with value: 0.9456893112943463.\u001b[0m\n",
      "\u001b[32m[I 2023-03-18 10:27:24,827]\u001b[0m Trial 3 finished with value: 0.9420489994418404 and parameters: {'learning_rate': 0.06347074127967679, 'depth': 10, 'l2_leaf_reg': 7.651126067942003, 'bagging_temperature': 0.9510018779583362, 'border_count': 34, 'min_data_in_leaf': 6, 'random_strength': 6.250317717513042e-06}. Best is trial 0 with value: 0.9456893112943463.\u001b[0m\n",
      "\u001b[32m[I 2023-03-18 10:27:27,264]\u001b[0m Trial 4 finished with value: 0.9401252199448201 and parameters: {'learning_rate': 0.072255650214562, 'depth': 10, 'l2_leaf_reg': 0.5777922483679653, 'bagging_temperature': 2.8191206513925815, 'border_count': 186, 'min_data_in_leaf': 50, 'random_strength': 6.985061434091108e-07}. Best is trial 0 with value: 0.9456893112943463.\u001b[0m\n",
      "\u001b[32m[I 2023-03-18 10:27:30,291]\u001b[0m Trial 5 finished with value: 0.9452662409011555 and parameters: {'learning_rate': 0.02103727246673765, 'depth': 7, 'l2_leaf_reg': 4.991853685735548, 'bagging_temperature': 9.52970505150645, 'border_count': 126, 'min_data_in_leaf': 46, 'random_strength': 0.0037982239586885555}. Best is trial 0 with value: 0.9456893112943463.\u001b[0m\n",
      "\u001b[32m[I 2023-03-18 10:27:33,126]\u001b[0m Trial 6 finished with value: 0.9416316935283412 and parameters: {'learning_rate': 0.010581927564504283, 'depth': 9, 'l2_leaf_reg': 0.03952176220962906, 'bagging_temperature': 0.9681013892048562, 'border_count': 181, 'min_data_in_leaf': 22, 'random_strength': 1.458483599007613e-07}. Best is trial 0 with value: 0.9456893112943463.\u001b[0m\n",
      "\u001b[32m[I 2023-03-18 10:27:41,844]\u001b[0m Trial 7 finished with value: 0.9386301007483777 and parameters: {'learning_rate': 0.005838437960202725, 'depth': 4, 'l2_leaf_reg': 4.2309126544123, 'bagging_temperature': 1.768917031156333, 'border_count': 97, 'min_data_in_leaf': 23, 'random_strength': 4.9172690691283846e-05}. Best is trial 0 with value: 0.9456893112943463.\u001b[0m\n",
      "\u001b[32m[I 2023-03-18 10:27:44,754]\u001b[0m Trial 8 finished with value: 0.9443702563247001 and parameters: {'learning_rate': 0.019995211377699978, 'depth': 7, 'l2_leaf_reg': 0.006207905502307929, 'bagging_temperature': 9.494467941024478, 'border_count': 41, 'min_data_in_leaf': 50, 'random_strength': 1.1114173368531046}. Best is trial 0 with value: 0.9456893112943463.\u001b[0m\n",
      "\u001b[32m[I 2023-03-18 10:27:47,857]\u001b[0m Trial 9 finished with value: 0.9435248834543166 and parameters: {'learning_rate': 0.029097058455289152, 'depth': 9, 'l2_leaf_reg': 5.726306292989349, 'bagging_temperature': 9.666488625336981, 'border_count': 180, 'min_data_in_leaf': 25, 'random_strength': 7.249752128309299e-09}. Best is trial 0 with value: 0.9456893112943463.\u001b[0m\n",
      "\u001b[32m[I 2023-03-18 10:27:49,321]\u001b[0m Trial 10 finished with value: 0.9453453570808268 and parameters: {'learning_rate': 0.18856951466772487, 'depth': 5, 'l2_leaf_reg': 0.00028921948520894356, 'bagging_temperature': 5.862105210341797, 'border_count': 249, 'min_data_in_leaf': 36, 'random_strength': 0.0025763113983136004}. Best is trial 0 with value: 0.9456893112943463.\u001b[0m\n",
      "\u001b[32m[I 2023-03-18 10:27:50,636]\u001b[0m Trial 11 finished with value: 0.9434677439007558 and parameters: {'learning_rate': 0.19093159595861736, 'depth': 5, 'l2_leaf_reg': 0.00015281713583585854, 'bagging_temperature': 5.389652819635883, 'border_count': 250, 'min_data_in_leaf': 36, 'random_strength': 0.012209683206491597}. Best is trial 0 with value: 0.9456893112943463.\u001b[0m\n",
      "\u001b[32m[I 2023-03-18 10:27:51,954]\u001b[0m Trial 12 finished with value: 0.944934703556911 and parameters: {'learning_rate': 0.1559650301752501, 'depth': 5, 'l2_leaf_reg': 0.0001367514462873523, 'bagging_temperature': 5.112489250793859, 'border_count': 212, 'min_data_in_leaf': 35, 'random_strength': 0.0019370346175781668}. Best is trial 0 with value: 0.9456893112943463.\u001b[0m\n",
      "\u001b[32m[I 2023-03-18 10:27:53,544]\u001b[0m Trial 13 finished with value: 0.945509211746469 and parameters: {'learning_rate': 0.09084616395432435, 'depth': 6, 'l2_leaf_reg': 0.0018651897919021712, 'bagging_temperature': 6.803980960198387, 'border_count': 148, 'min_data_in_leaf': 37, 'random_strength': 1.9566840843923414}. Best is trial 0 with value: 0.9456893112943463.\u001b[0m\n",
      "\u001b[32m[I 2023-03-18 10:27:55,589]\u001b[0m Trial 14 finished with value: 0.9433510943386937 and parameters: {'learning_rate': 0.07261363870905146, 'depth': 6, 'l2_leaf_reg': 0.0015175709247902463, 'bagging_temperature': 7.303597017616392, 'border_count': 142, 'min_data_in_leaf': 40, 'random_strength': 9.60148978822078}. Best is trial 0 with value: 0.9456893112943463.\u001b[0m\n",
      "\u001b[32m[I 2023-03-18 10:27:57,320]\u001b[0m Trial 15 finished with value: 0.9429231885902641 and parameters: {'learning_rate': 0.10416232711027862, 'depth': 8, 'l2_leaf_reg': 0.06202684983763943, 'bagging_temperature': 3.8821287832778304, 'border_count': 98, 'min_data_in_leaf': 31, 'random_strength': 0.6575567855665349}. Best is trial 0 with value: 0.9456893112943463.\u001b[0m\n",
      "\u001b[32m[I 2023-03-18 10:27:59,033]\u001b[0m Trial 16 finished with value: 0.9432199812730916 and parameters: {'learning_rate': 0.04846483490684029, 'depth': 6, 'l2_leaf_reg': 0.001023532129234252, 'bagging_temperature': 7.07306989044881, 'border_count': 157, 'min_data_in_leaf': 1, 'random_strength': 5.948894062825693e-05}. Best is trial 0 with value: 0.9456893112943463.\u001b[0m\n",
      "\u001b[32m[I 2023-03-18 10:28:00,610]\u001b[0m Trial 17 finished with value: 0.9450052580571716 and parameters: {'learning_rate': 0.10938849299145581, 'depth': 8, 'l2_leaf_reg': 0.8422825979856994, 'bagging_temperature': 4.0240362328935575, 'border_count': 121, 'min_data_in_leaf': 15, 'random_strength': 0.05639672332111968}. Best is trial 0 with value: 0.9456893112943463.\u001b[0m\n",
      "\u001b[32m[I 2023-03-18 10:28:02,661]\u001b[0m Trial 18 finished with value: 0.9445858983221272 and parameters: {'learning_rate': 0.05298436299468538, 'depth': 4, 'l2_leaf_reg': 0.010379510598101348, 'bagging_temperature': 8.044811956330232, 'border_count': 162, 'min_data_in_leaf': 31, 'random_strength': 7.960275887320142e-09}. Best is trial 0 with value: 0.9456893112943463.\u001b[0m\n",
      "\u001b[32m[I 2023-03-18 10:28:04,055]\u001b[0m Trial 19 finished with value: 0.9443379498358819 and parameters: {'learning_rate': 0.10622357142140117, 'depth': 7, 'l2_leaf_reg': 0.0015716130026502534, 'bagging_temperature': 2.353071046411024, 'border_count': 210, 'min_data_in_leaf': 43, 'random_strength': 1.8542666232172357e-06}. Best is trial 0 with value: 0.9456893112943463.\u001b[0m\n",
      "\u001b[32m[I 2023-03-18 10:28:06,256]\u001b[0m Trial 20 finished with value: 0.9440767256564957 and parameters: {'learning_rate': 0.04081070759391938, 'depth': 6, 'l2_leaf_reg': 0.15210130329094299, 'bagging_temperature': 4.487071580941763, 'border_count': 90, 'min_data_in_leaf': 29, 'random_strength': 0.00029925797169723335}. Best is trial 0 with value: 0.9456893112943463.\u001b[0m\n",
      "\u001b[32m[I 2023-03-18 10:28:07,778]\u001b[0m Trial 21 finished with value: 0.9450741654348903 and parameters: {'learning_rate': 0.14486255736557974, 'depth': 5, 'l2_leaf_reg': 0.00047578699245215763, 'bagging_temperature': 5.980694905567461, 'border_count': 251, 'min_data_in_leaf': 37, 'random_strength': 0.337430280121888}. Best is trial 0 with value: 0.9456893112943463.\u001b[0m\n",
      "\u001b[32m[I 2023-03-18 10:28:09,274]\u001b[0m Trial 22 finished with value: 0.9424678066546985 and parameters: {'learning_rate': 0.19742121493816134, 'depth': 5, 'l2_leaf_reg': 0.0004091286926268533, 'bagging_temperature': 6.059843947467326, 'border_count': 209, 'min_data_in_leaf': 45, 'random_strength': 7.802212675100155}. Best is trial 0 with value: 0.9456893112943463.\u001b[0m\n",
      "\u001b[32m[I 2023-03-18 10:28:10,776]\u001b[0m Trial 23 finished with value: 0.9429079905241997 and parameters: {'learning_rate': 0.09742690785980214, 'depth': 7, 'l2_leaf_reg': 0.0032754808209417377, 'bagging_temperature': 6.079329169360447, 'border_count': 129, 'min_data_in_leaf': 37, 'random_strength': 0.0004310712036143709}. Best is trial 0 with value: 0.9456893112943463.\u001b[0m\n",
      "\u001b[32m[I 2023-03-18 10:28:12,190]\u001b[0m Trial 24 finished with value: 0.9454316103423078 and parameters: {'learning_rate': 0.1448477938832437, 'depth': 6, 'l2_leaf_reg': 0.019610698099245157, 'bagging_temperature': 8.422230146695256, 'border_count': 226, 'min_data_in_leaf': 40, 'random_strength': 0.0530890856039394}. Best is trial 0 with value: 0.9456893112943463.\u001b[0m\n",
      "\u001b[32m[I 2023-03-18 10:28:13,586]\u001b[0m Trial 25 finished with value: 0.9434884457391431 and parameters: {'learning_rate': 0.13147706828830513, 'depth': 6, 'l2_leaf_reg': 0.016214159796026747, 'bagging_temperature': 8.218292916839367, 'border_count': 196, 'min_data_in_leaf': 47, 'random_strength': 0.02207765911614455}. Best is trial 0 with value: 0.9456893112943463.\u001b[0m\n",
      "\u001b[32m[I 2023-03-18 10:28:15,275]\u001b[0m Trial 26 finished with value: 0.9450830033192433 and parameters: {'learning_rate': 0.0783402398829554, 'depth': 7, 'l2_leaf_reg': 1.381576335154933, 'bagging_temperature': 8.66288932682027, 'border_count': 228, 'min_data_in_leaf': 41, 'random_strength': 0.06258523499669225}. Best is trial 0 with value: 0.9456893112943463.\u001b[0m\n",
      "\u001b[32m[I 2023-03-18 10:28:17,209]\u001b[0m Trial 27 finished with value: 0.9441384094804361 and parameters: {'learning_rate': 0.03714928638376202, 'depth': 8, 'l2_leaf_reg': 0.018526747905520956, 'bagging_temperature': 6.755438886956758, 'border_count': 161, 'min_data_in_leaf': 40, 'random_strength': 2.117149784929731}. Best is trial 0 with value: 0.9456893112943463.\u001b[0m\n",
      "\u001b[32m[I 2023-03-18 10:28:18,695]\u001b[0m Trial 28 finished with value: 0.9448483559623737 and parameters: {'learning_rate': 0.08713016572684254, 'depth': 6, 'l2_leaf_reg': 0.10058176387364066, 'bagging_temperature': 8.788382907404623, 'border_count': 146, 'min_data_in_leaf': 28, 'random_strength': 0.19443621730282626}. Best is trial 0 with value: 0.9456893112943463.\u001b[0m\n",
      "\u001b[32m[I 2023-03-18 10:28:20,261]\u001b[0m Trial 29 finished with value: 0.9432305017671838 and parameters: {'learning_rate': 0.05910987601444441, 'depth': 8, 'l2_leaf_reg': 0.003867126546890648, 'bagging_temperature': 3.131465910951251, 'border_count': 80, 'min_data_in_leaf': 15, 'random_strength': 1.4418421291140425e-05}. Best is trial 0 with value: 0.9456893112943463.\u001b[0m\n",
      "\u001b[32m[I 2023-03-18 10:28:21,903]\u001b[0m Trial 30 finished with value: 0.9443685405860899 and parameters: {'learning_rate': 0.1285979980857485, 'depth': 4, 'l2_leaf_reg': 0.2654570704497286, 'bagging_temperature': 0.2553255593935324, 'border_count': 224, 'min_data_in_leaf': 48, 'random_strength': 1.1831001161505511e-08}. Best is trial 0 with value: 0.9456893112943463.\u001b[0m\n",
      "\u001b[32m[I 2023-03-18 10:28:23,279]\u001b[0m Trial 31 finished with value: 0.9458281959438628 and parameters: {'learning_rate': 0.16358959998161518, 'depth': 5, 'l2_leaf_reg': 0.0005944598702272324, 'bagging_temperature': 7.712431526668441, 'border_count': 240, 'min_data_in_leaf': 33, 'random_strength': 0.0020981369672952283}. Best is trial 31 with value: 0.9458281959438628.\u001b[0m\n",
      "\u001b[32m[I 2023-03-18 10:28:24,632]\u001b[0m Trial 32 finished with value: 0.9447027120124769 and parameters: {'learning_rate': 0.14902940251983732, 'depth': 6, 'l2_leaf_reg': 0.0008903721724209792, 'bagging_temperature': 7.673219422560245, 'border_count': 238, 'min_data_in_leaf': 33, 'random_strength': 0.00043609690450639423}. Best is trial 31 with value: 0.9458281959438628.\u001b[0m\n",
      "\u001b[32m[I 2023-03-18 10:28:26,108]\u001b[0m Trial 33 finished with value: 0.9466145509098546 and parameters: {'learning_rate': 0.11622155891777046, 'depth': 5, 'l2_leaf_reg': 0.0027086175470650065, 'bagging_temperature': 6.684074130846783, 'border_count': 199, 'min_data_in_leaf': 43, 'random_strength': 0.13650422828662084}. Best is trial 33 with value: 0.9466145509098546.\u001b[0m\n",
      "\u001b[32m[I 2023-03-18 10:28:28,167]\u001b[0m Trial 34 finished with value: 0.9461151550793894 and parameters: {'learning_rate': 0.08651128141805713, 'depth': 5, 'l2_leaf_reg': 0.0022032529560012623, 'bagging_temperature': 6.740046918360346, 'border_count': 195, 'min_data_in_leaf': 44, 'random_strength': 1.4018445871832713e-09}. Best is trial 33 with value: 0.9466145509098546.\u001b[0m\n",
      "\u001b[32m[I 2023-03-18 10:28:30,241]\u001b[0m Trial 35 finished with value: 0.9455527755379292 and parameters: {'learning_rate': 0.06701297261569414, 'depth': 4, 'l2_leaf_reg': 0.004676148735850161, 'bagging_temperature': 4.538838058618742, 'border_count': 198, 'min_data_in_leaf': 44, 'random_strength': 6.34655353633626e-08}. Best is trial 33 with value: 0.9466145509098546.\u001b[0m\n",
      "\u001b[32m[I 2023-03-18 10:28:31,925]\u001b[0m Trial 36 finished with value: 0.9471552406987662 and parameters: {'learning_rate': 0.11655221326189434, 'depth': 5, 'l2_leaf_reg': 0.0005894515655179222, 'bagging_temperature': 6.592259475415414, 'border_count': 171, 'min_data_in_leaf': 50, 'random_strength': 4.795003069257163e-08}. Best is trial 36 with value: 0.9471552406987662.\u001b[0m\n",
      "\u001b[32m[I 2023-03-18 10:28:33,453]\u001b[0m Trial 37 finished with value: 0.9454766337132103 and parameters: {'learning_rate': 0.12364080855554728, 'depth': 5, 'l2_leaf_reg': 0.0007495248956440193, 'bagging_temperature': 6.457579471161387, 'border_count': 195, 'min_data_in_leaf': 50, 'random_strength': 1.4346602940698485e-09}. Best is trial 36 with value: 0.9471552406987662.\u001b[0m\n",
      "\u001b[32m[I 2023-03-18 10:28:34,770]\u001b[0m Trial 38 finished with value: 0.9451853412652159 and parameters: {'learning_rate': 0.1642933217151015, 'depth': 4, 'l2_leaf_reg': 0.00024570348156690896, 'bagging_temperature': 7.548766623237341, 'border_count': 169, 'min_data_in_leaf': 43, 'random_strength': 1.4963528201859242e-09}. Best is trial 36 with value: 0.9471552406987662.\u001b[0m\n",
      "\u001b[32m[I 2023-03-18 10:28:39,227]\u001b[0m Trial 39 finished with value: 0.945258840023692 and parameters: {'learning_rate': 0.013742285670208045, 'depth': 5, 'l2_leaf_reg': 0.002338647777960926, 'bagging_temperature': 5.476788974409052, 'border_count': 190, 'min_data_in_leaf': 47, 'random_strength': 2.7475440381910855e-08}. Best is trial 36 with value: 0.9471552406987662.\u001b[0m\n",
      "\u001b[32m[I 2023-03-18 10:28:45,535]\u001b[0m Trial 40 finished with value: 0.9449847183817999 and parameters: {'learning_rate': 0.005305307069875013, 'depth': 5, 'l2_leaf_reg': 0.008599767574848358, 'bagging_temperature': 7.815770745946502, 'border_count': 173, 'min_data_in_leaf': 46, 'random_strength': 1.0920262951982297e-05}. Best is trial 36 with value: 0.9471552406987662.\u001b[0m\n",
      "\u001b[32m[I 2023-03-18 10:28:47,254]\u001b[0m Trial 41 finished with value: 0.9386135205907389 and parameters: {'learning_rate': 0.08393187548314342, 'depth': 9, 'l2_leaf_reg': 0.0005046217074889949, 'bagging_temperature': 6.619397234769856, 'border_count': 182, 'min_data_in_leaf': 49, 'random_strength': 1.5905592181876092e-07}. Best is trial 36 with value: 0.9471552406987662.\u001b[0m\n",
      "\u001b[32m[I 2023-03-18 10:28:48,871]\u001b[0m Trial 42 finished with value: 0.944670842207098 and parameters: {'learning_rate': 0.11901272831853862, 'depth': 4, 'l2_leaf_reg': 0.000840351757557379, 'bagging_temperature': 9.047225508892483, 'border_count': 213, 'min_data_in_leaf': 42, 'random_strength': 8.690062244622165e-07}. Best is trial 36 with value: 0.9471552406987662.\u001b[0m\n",
      "\u001b[32m[I 2023-03-18 10:28:50,983]\u001b[0m Trial 43 finished with value: 0.9462237436571967 and parameters: {'learning_rate': 0.06026596126714157, 'depth': 5, 'l2_leaf_reg': 0.00019149496796273504, 'bagging_temperature': 4.869465432611494, 'border_count': 239, 'min_data_in_leaf': 50, 'random_strength': 4.201740067127926e-09}. Best is trial 36 with value: 0.9471552406987662.\u001b[0m\n",
      "\u001b[32m[I 2023-03-18 10:28:53,057]\u001b[0m Trial 44 finished with value: 0.9451044093988156 and parameters: {'learning_rate': 0.04526617473840298, 'depth': 5, 'l2_leaf_reg': 0.00010417876148361221, 'bagging_temperature': 4.846472062727031, 'border_count': 203, 'min_data_in_leaf': 50, 'random_strength': 4.4039734766434204e-09}. Best is trial 36 with value: 0.9471552406987662.\u001b[0m\n",
      "\u001b[32m[I 2023-03-18 10:28:54,948]\u001b[0m Trial 45 finished with value: 0.9448657705745056 and parameters: {'learning_rate': 0.058434678246024746, 'depth': 5, 'l2_leaf_reg': 0.00021768529569130102, 'bagging_temperature': 5.565892648260576, 'border_count': 241, 'min_data_in_leaf': 45, 'random_strength': 2.68938452376684e-08}. Best is trial 36 with value: 0.9471552406987662.\u001b[0m\n",
      "\u001b[32m[I 2023-03-18 10:28:56,195]\u001b[0m Trial 46 finished with value: 0.9436962348465455 and parameters: {'learning_rate': 0.1691281449132141, 'depth': 4, 'l2_leaf_reg': 0.0003010689993582209, 'bagging_temperature': 7.041523908223414, 'border_count': 218, 'min_data_in_leaf': 39, 'random_strength': 2.6044923907772678e-09}. Best is trial 36 with value: 0.9471552406987662.\u001b[0m\n",
      "\u001b[32m[I 2023-03-18 10:28:59,067]\u001b[0m Trial 47 finished with value: 0.9463541434975135 and parameters: {'learning_rate': 0.03280314177001741, 'depth': 5, 'l2_leaf_reg': 0.002822816958790306, 'bagging_temperature': 5.008324295167347, 'border_count': 237, 'min_data_in_leaf': 48, 'random_strength': 0.0054252058584789535}. Best is trial 36 with value: 0.9471552406987662.\u001b[0m\n",
      "\u001b[32m[I 2023-03-18 10:29:01,717]\u001b[0m Trial 48 finished with value: 0.9457536589041118 and parameters: {'learning_rate': 0.029483759335738473, 'depth': 5, 'l2_leaf_reg': 0.0013922410094010576, 'bagging_temperature': 3.6353839286277725, 'border_count': 255, 'min_data_in_leaf': 48, 'random_strength': 0.006769119917772607}. Best is trial 36 with value: 0.9471552406987662.\u001b[0m\n",
      "\u001b[32m[I 2023-03-18 10:29:05,107]\u001b[0m Trial 49 finished with value: 0.9440899353164973 and parameters: {'learning_rate': 0.019762334442962298, 'depth': 4, 'l2_leaf_reg': 0.002830211250072406, 'bagging_temperature': 6.334143399597027, 'border_count': 220, 'min_data_in_leaf': 45, 'random_strength': 3.666893576238392e-07}. Best is trial 36 with value: 0.9471552406987662.\u001b[0m\n",
      "\u001b[32m[I 2023-03-18 10:29:07,359]\u001b[0m Trial 50 finished with value: 0.9449328336286744 and parameters: {'learning_rate': 0.03623526636311268, 'depth': 6, 'l2_leaf_reg': 0.005479254281666379, 'bagging_temperature': 4.271952631255396, 'border_count': 232, 'min_data_in_leaf': 48, 'random_strength': 1.7376094675998582e-08}. Best is trial 36 with value: 0.9471552406987662.\u001b[0m\n",
      "\u001b[32m[I 2023-03-18 10:29:09,158]\u001b[0m Trial 51 finished with value: 0.9454446095497528 and parameters: {'learning_rate': 0.06909616421070687, 'depth': 5, 'l2_leaf_reg': 0.0005336157440526795, 'bagging_temperature': 4.882313352904065, 'border_count': 239, 'min_data_in_leaf': 20, 'random_strength': 0.002145731466734368}. Best is trial 36 with value: 0.9471552406987662.\u001b[0m\n",
      "\u001b[32m[I 2023-03-18 10:29:11,914]\u001b[0m Trial 52 finished with value: 0.9444927339851164 and parameters: {'learning_rate': 0.02402871034439524, 'depth': 5, 'l2_leaf_reg': 0.00016444475832085945, 'bagging_temperature': 7.3400669960865645, 'border_count': 242, 'min_data_in_leaf': 34, 'random_strength': 0.000709364832495344}. Best is trial 36 with value: 0.9471552406987662.\u001b[0m\n",
      "\u001b[32m[I 2023-03-18 10:29:15,719]\u001b[0m Trial 53 finished with value: 0.9461538789112591 and parameters: {'learning_rate': 0.01662719323333889, 'depth': 5, 'l2_leaf_reg': 0.001255104318608453, 'bagging_temperature': 5.428697356556401, 'border_count': 204, 'min_data_in_leaf': 43, 'random_strength': 0.015588214137546639}. Best is trial 36 with value: 0.9471552406987662.\u001b[0m\n",
      "\u001b[32m[I 2023-03-18 10:29:19,669]\u001b[0m Trial 54 finished with value: 0.9446996565760168 and parameters: {'learning_rate': 0.016617383692008346, 'depth': 4, 'l2_leaf_reg': 0.0015111160476492548, 'bagging_temperature': 5.246991008504447, 'border_count': 188, 'min_data_in_leaf': 43, 'random_strength': 0.11778207964986435}. Best is trial 36 with value: 0.9471552406987662.\u001b[0m\n",
      "\u001b[32m[I 2023-03-18 10:29:25,048]\u001b[0m Trial 55 finished with value: 0.9444795065815162 and parameters: {'learning_rate': 0.00689348712358663, 'depth': 5, 'l2_leaf_reg': 0.00905722792484714, 'bagging_temperature': 5.849965524882515, 'border_count': 203, 'min_data_in_leaf': 50, 'random_strength': 3.311986057392359e-09}. Best is trial 36 with value: 0.9471552406987662.\u001b[0m\n",
      "\u001b[32m[I 2023-03-18 10:29:28,598]\u001b[0m Trial 56 finished with value: 0.9438096473248638 and parameters: {'learning_rate': 0.012293465535923413, 'depth': 6, 'l2_leaf_reg': 0.00034602907383185044, 'bagging_temperature': 4.909014698032982, 'border_count': 177, 'min_data_in_leaf': 47, 'random_strength': 0.018537598768703138}. Best is trial 36 with value: 0.9471552406987662.\u001b[0m\n",
      "\u001b[32m[I 2023-03-18 10:29:31,209]\u001b[0m Trial 57 finished with value: 0.9448190164166244 and parameters: {'learning_rate': 0.026415083587172365, 'depth': 5, 'l2_leaf_reg': 0.0011155494929648438, 'bagging_temperature': 6.330051415078435, 'border_count': 186, 'min_data_in_leaf': 9, 'random_strength': 5.893322884994811e-08}. Best is trial 36 with value: 0.9471552406987662.\u001b[0m\n",
      "\u001b[32m[I 2023-03-18 10:29:32,877]\u001b[0m Trial 58 finished with value: 0.9437513180517826 and parameters: {'learning_rate': 0.07913426682875642, 'depth': 6, 'l2_leaf_reg': 0.0022206235552106354, 'bagging_temperature': 5.453766940414196, 'border_count': 170, 'min_data_in_leaf': 38, 'random_strength': 9.381649668102714e-05}. Best is trial 36 with value: 0.9471552406987662.\u001b[0m\n",
      "\u001b[32m[I 2023-03-18 10:29:34,687]\u001b[0m Trial 59 finished with value: 0.9446335111354219 and parameters: {'learning_rate': 0.05050034257313854, 'depth': 4, 'l2_leaf_reg': 0.006913450578947697, 'bagging_temperature': 5.685229327370448, 'border_count': 217, 'min_data_in_leaf': 46, 'random_strength': 0.004690931091287174}. Best is trial 36 with value: 0.9471552406987662.\u001b[0m\n",
      "\u001b[32m[I 2023-03-18 10:29:39,312]\u001b[0m Trial 60 finished with value: 0.945377293817755 and parameters: {'learning_rate': 0.009013822758819382, 'depth': 5, 'l2_leaf_reg': 0.03993854892425326, 'bagging_temperature': 6.868557652232019, 'border_count': 205, 'min_data_in_leaf': 41, 'random_strength': 0.01081053654673854}. Best is trial 36 with value: 0.9471552406987662.\u001b[0m\n",
      "\u001b[32m[I 2023-03-18 10:29:40,964]\u001b[0m Trial 61 finished with value: 0.9439445416861032 and parameters: {'learning_rate': 0.09717969479719603, 'depth': 5, 'l2_leaf_reg': 0.0005836666601156734, 'bagging_temperature': 7.242599842024935, 'border_count': 235, 'min_data_in_leaf': 44, 'random_strength': 0.03967346340775471}. Best is trial 36 with value: 0.9471552406987662.\u001b[0m\n",
      "\u001b[32m[I 2023-03-18 10:29:42,255]\u001b[0m Trial 62 finished with value: 0.9459496910244276 and parameters: {'learning_rate': 0.17591807639076748, 'depth': 5, 'l2_leaf_reg': 0.0006316585385423814, 'bagging_temperature': 6.1801673517922175, 'border_count': 247, 'min_data_in_leaf': 42, 'random_strength': 0.0014111869524619186}. Best is trial 36 with value: 0.9471552406987662.\u001b[0m\n",
      "\u001b[32m[I 2023-03-18 10:29:43,678]\u001b[0m Trial 63 finished with value: 0.9450067845681632 and parameters: {'learning_rate': 0.1115570136922598, 'depth': 5, 'l2_leaf_reg': 0.0002061189037218693, 'bagging_temperature': 4.422386361740409, 'border_count': 248, 'min_data_in_leaf': 48, 'random_strength': 0.0010537031925097243}. Best is trial 36 with value: 0.9471552406987662.\u001b[0m\n",
      "\u001b[32m[I 2023-03-18 10:29:45,151]\u001b[0m Trial 64 finished with value: 0.9457968480024268 and parameters: {'learning_rate': 0.09267791095361295, 'depth': 6, 'l2_leaf_reg': 0.0030984023343418377, 'bagging_temperature': 6.310208661069354, 'border_count': 230, 'min_data_in_leaf': 42, 'random_strength': 1.0721035851159428e-09}. Best is trial 36 with value: 0.9471552406987662.\u001b[0m\n",
      "\u001b[32m[I 2023-03-18 10:29:48,169]\u001b[0m Trial 65 finished with value: 0.94385016067727 and parameters: {'learning_rate': 0.01854612940900537, 'depth': 5, 'l2_leaf_reg': 0.00010040456118895899, 'bagging_temperature': 5.909976351807921, 'border_count': 156, 'min_data_in_leaf': 45, 'random_strength': 0.7506908223083756}. Best is trial 36 with value: 0.9471552406987662.\u001b[0m\n",
      "\u001b[32m[I 2023-03-18 10:29:51,033]\u001b[0m Trial 66 finished with value: 0.9448371681180594 and parameters: {'learning_rate': 0.03370974140991817, 'depth': 4, 'l2_leaf_reg': 0.0011709244764666047, 'bagging_temperature': 5.265005245957096, 'border_count': 247, 'min_data_in_leaf': 49, 'random_strength': 0.00015948361882025015}. Best is trial 36 with value: 0.9471552406987662.\u001b[0m\n",
      "\u001b[32m[I 2023-03-18 10:29:52,843]\u001b[0m Trial 67 finished with value: 0.9383097382776523 and parameters: {'learning_rate': 0.13704739075834665, 'depth': 10, 'l2_leaf_reg': 0.0018851754559197859, 'bagging_temperature': 6.159276264375854, 'border_count': 223, 'min_data_in_leaf': 42, 'random_strength': 2.7541324145435204e-05}. Best is trial 36 with value: 0.9471552406987662.\u001b[0m\n",
      "\u001b[32m[I 2023-03-18 10:29:54,057]\u001b[0m Trial 68 finished with value: 0.945733980298631 and parameters: {'learning_rate': 0.18355101530817142, 'depth': 6, 'l2_leaf_reg': 0.00033473928492720723, 'bagging_temperature': 3.974532614760605, 'border_count': 208, 'min_data_in_leaf': 39, 'random_strength': 0.008802199386018509}. Best is trial 36 with value: 0.9471552406987662.\u001b[0m\n",
      "\u001b[32m[I 2023-03-18 10:29:57,801]\u001b[0m Trial 69 finished with value: 0.9450989608787117 and parameters: {'learning_rate': 0.022950966294718423, 'depth': 5, 'l2_leaf_reg': 0.0007794419903457359, 'bagging_temperature': 4.600795226149807, 'border_count': 255, 'min_data_in_leaf': 44, 'random_strength': 0.15152901554961723}. Best is trial 36 with value: 0.9471552406987662.\u001b[0m\n",
      "\u001b[32m[I 2023-03-18 10:29:59,689]\u001b[0m Trial 70 finished with value: 0.9445979433057883 and parameters: {'learning_rate': 0.044041178911060894, 'depth': 6, 'l2_leaf_reg': 0.012821015844470688, 'bagging_temperature': 6.5682551057885705, 'border_count': 195, 'min_data_in_leaf': 46, 'random_strength': 2.632936361655112e-06}. Best is trial 36 with value: 0.9471552406987662.\u001b[0m\n",
      "\u001b[32m[I 2023-03-18 10:30:01,278]\u001b[0m Trial 71 finished with value: 0.9445666059768211 and parameters: {'learning_rate': 0.15857492491997777, 'depth': 5, 'l2_leaf_reg': 0.00040353362032379556, 'bagging_temperature': 7.936870253530956, 'border_count': 246, 'min_data_in_leaf': 35, 'random_strength': 0.0012496185300124043}. Best is trial 36 with value: 0.9471552406987662.\u001b[0m\n",
      "\u001b[32m[I 2023-03-18 10:30:02,814]\u001b[0m Trial 72 finished with value: 0.9459408856512885 and parameters: {'learning_rate': 0.1819570599699134, 'depth': 5, 'l2_leaf_reg': 0.00015535224943261252, 'bagging_temperature': 6.919314851427657, 'border_count': 233, 'min_data_in_leaf': 32, 'random_strength': 0.0029433220101595494}. Best is trial 36 with value: 0.9471552406987662.\u001b[0m\n",
      "\u001b[32m[I 2023-03-18 10:30:04,143]\u001b[0m Trial 73 finished with value: 0.9441357723100093 and parameters: {'learning_rate': 0.19910348310585943, 'depth': 5, 'l2_leaf_reg': 0.00018672244621456804, 'bagging_temperature': 6.9610633445378, 'border_count': 231, 'min_data_in_leaf': 41, 'random_strength': 0.003795439003516316}. Best is trial 36 with value: 0.9471552406987662.\u001b[0m\n",
      "\u001b[32m[I 2023-03-18 10:30:06,126]\u001b[0m Trial 74 finished with value: 0.946420739153849 and parameters: {'learning_rate': 0.11141578513955576, 'depth': 5, 'l2_leaf_reg': 9.157710745050933, 'bagging_temperature': 5.760875755852723, 'border_count': 214, 'min_data_in_leaf': 28, 'random_strength': 0.0003213876653480551}. Best is trial 36 with value: 0.9471552406987662.\u001b[0m\n",
      "\u001b[32m[I 2023-03-18 10:30:07,958]\u001b[0m Trial 75 finished with value: 0.9462358411978464 and parameters: {'learning_rate': 0.11324240439168329, 'depth': 5, 'l2_leaf_reg': 1.532023458192372, 'bagging_temperature': 5.680593994040088, 'border_count': 214, 'min_data_in_leaf': 14, 'random_strength': 5.903044268868125e-09}. Best is trial 36 with value: 0.9471552406987662.\u001b[0m\n",
      "\u001b[32m[I 2023-03-18 10:30:10,080]\u001b[0m Trial 76 finished with value: 0.9453629008394048 and parameters: {'learning_rate': 0.1116102725777884, 'depth': 4, 'l2_leaf_reg': 4.15117486249771, 'bagging_temperature': 5.051885564225001, 'border_count': 202, 'min_data_in_leaf': 12, 'random_strength': 9.14158512882654e-09}. Best is trial 36 with value: 0.9471552406987662.\u001b[0m\n",
      "\u001b[32m[I 2023-03-18 10:30:11,623]\u001b[0m Trial 77 finished with value: 0.9463666488040288 and parameters: {'learning_rate': 0.10183864910228985, 'depth': 5, 'l2_leaf_reg': 1.9838023890780192, 'bagging_temperature': 5.723153400868951, 'border_count': 215, 'min_data_in_leaf': 23, 'random_strength': 5.6842880932941715e-09}. Best is trial 36 with value: 0.9471552406987662.\u001b[0m\n",
      "\u001b[32m[I 2023-03-18 10:30:13,382]\u001b[0m Trial 78 finished with value: 0.9459368751487851 and parameters: {'learning_rate': 0.07537288599020568, 'depth': 6, 'l2_leaf_reg': 7.316482195624616, 'bagging_temperature': 5.659580073057626, 'border_count': 214, 'min_data_in_leaf': 24, 'random_strength': 4.867820280191029e-09}. Best is trial 36 with value: 0.9471552406987662.\u001b[0m\n",
      "\u001b[32m[I 2023-03-18 10:30:15,062]\u001b[0m Trial 79 finished with value: 0.9457998557108525 and parameters: {'learning_rate': 0.10255612989735143, 'depth': 4, 'l2_leaf_reg': 1.9870422790348021, 'bagging_temperature': 5.127655121933685, 'border_count': 225, 'min_data_in_leaf': 17, 'random_strength': 3.568896485862975e-08}. Best is trial 36 with value: 0.9471552406987662.\u001b[0m\n",
      "\u001b[32m[I 2023-03-18 10:30:16,808]\u001b[0m Trial 80 finished with value: 0.9454852802362208 and parameters: {'learning_rate': 0.06005699218315355, 'depth': 5, 'l2_leaf_reg': 0.6225706344686409, 'bagging_temperature': 4.720719051788699, 'border_count': 209, 'min_data_in_leaf': 3, 'random_strength': 1.0724711733784507e-07}. Best is trial 36 with value: 0.9471552406987662.\u001b[0m\n",
      "\u001b[32m[I 2023-03-18 10:30:18,862]\u001b[0m Trial 81 finished with value: 0.946276696844485 and parameters: {'learning_rate': 0.08311144514564824, 'depth': 5, 'l2_leaf_reg': 0.31280029862577763, 'bagging_temperature': 6.5640213997240515, 'border_count': 192, 'min_data_in_leaf': 27, 'random_strength': 1.5085212322386345e-08}. Best is trial 36 with value: 0.9471552406987662.\u001b[0m\n",
      "\u001b[32m[I 2023-03-18 10:30:20,562]\u001b[0m Trial 82 finished with value: 0.9466367847619951 and parameters: {'learning_rate': 0.11717806339909394, 'depth': 5, 'l2_leaf_reg': 0.2831297784725762, 'bagging_temperature': 6.496973958510059, 'border_count': 191, 'min_data_in_leaf': 27, 'random_strength': 1.3278568166614104e-08}. Best is trial 36 with value: 0.9471552406987662.\u001b[0m\n",
      "\u001b[32m[I 2023-03-18 10:30:22,092]\u001b[0m Trial 83 finished with value: 0.9457723369615397 and parameters: {'learning_rate': 0.12325070999663976, 'depth': 5, 'l2_leaf_reg': 0.28811732206539015, 'bagging_temperature': 5.879615283760808, 'border_count': 192, 'min_data_in_leaf': 26, 'random_strength': 1.7961321808449026e-08}. Best is trial 36 with value: 0.9471552406987662.\u001b[0m\n",
      "\u001b[32m[I 2023-03-18 10:30:23,831]\u001b[0m Trial 84 finished with value: 0.9458117488632137 and parameters: {'learning_rate': 0.11756106944033141, 'depth': 5, 'l2_leaf_reg': 1.0008545274222889, 'bagging_temperature': 7.461852194053369, 'border_count': 179, 'min_data_in_leaf': 29, 'random_strength': 6.77800776090081e-09}. Best is trial 36 with value: 0.9471552406987662.\u001b[0m\n",
      "\u001b[32m[I 2023-03-18 10:30:25,452]\u001b[0m Trial 85 finished with value: 0.9460986837416685 and parameters: {'learning_rate': 0.13278259980285134, 'depth': 5, 'l2_leaf_reg': 0.18576875910744492, 'bagging_temperature': 6.5566204773961285, 'border_count': 214, 'min_data_in_leaf': 26, 'random_strength': 2.4580326597177245e-09}. Best is trial 36 with value: 0.9471552406987662.\u001b[0m\n",
      "\u001b[32m[I 2023-03-18 10:30:27,062]\u001b[0m Trial 86 finished with value: 0.9456954933662637 and parameters: {'learning_rate': 0.0997379910915963, 'depth': 6, 'l2_leaf_reg': 2.4187149602911626, 'bagging_temperature': 5.668669221482344, 'border_count': 184, 'min_data_in_leaf': 20, 'random_strength': 1.1400418256248057e-08}. Best is trial 36 with value: 0.9471552406987662.\u001b[0m\n",
      "\u001b[32m[I 2023-03-18 10:30:29,107]\u001b[0m Trial 87 finished with value: 0.9454218093623717 and parameters: {'learning_rate': 0.08339801627569524, 'depth': 5, 'l2_leaf_reg': 0.4079927034846018, 'bagging_temperature': 6.0663529086109085, 'border_count': 139, 'min_data_in_leaf': 22, 'random_strength': 2.69935236627833e-07}. Best is trial 36 with value: 0.9471552406987662.\u001b[0m\n",
      "\u001b[32m[I 2023-03-18 10:30:30,796]\u001b[0m Trial 88 finished with value: 0.9419891318661353 and parameters: {'learning_rate': 0.14066799460721632, 'depth': 9, 'l2_leaf_reg': 0.0964906312394276, 'bagging_temperature': 6.632586718204697, 'border_count': 199, 'min_data_in_leaf': 28, 'random_strength': 9.269933111900413e-08}. Best is trial 36 with value: 0.9471552406987662.\u001b[0m\n",
      "\u001b[32m[I 2023-03-18 10:30:33,391]\u001b[0m Trial 89 finished with value: 0.9452407632271956 and parameters: {'learning_rate': 0.09225944936132771, 'depth': 4, 'l2_leaf_reg': 9.96075653690783, 'bagging_temperature': 4.317621636543354, 'border_count': 164, 'min_data_in_leaf': 22, 'random_strength': 1.7435122441447095e-08}. Best is trial 36 with value: 0.9471552406987662.\u001b[0m\n",
      "\u001b[32m[I 2023-03-18 10:30:35,189]\u001b[0m Trial 90 finished with value: 0.9454034940380047 and parameters: {'learning_rate': 0.06660564979534123, 'depth': 5, 'l2_leaf_reg': 1.2224816247256793, 'bagging_temperature': 7.122571479402276, 'border_count': 222, 'min_data_in_leaf': 27, 'random_strength': 2.0097157831279675e-09}. Best is trial 36 with value: 0.9471552406987662.\u001b[0m\n",
      "\u001b[32m[I 2023-03-18 10:30:37,132]\u001b[0m Trial 91 finished with value: 0.9454101057745328 and parameters: {'learning_rate': 0.11228389491422246, 'depth': 5, 'l2_leaf_reg': 3.60141525395982, 'bagging_temperature': 5.447781926318651, 'border_count': 206, 'min_data_in_leaf': 30, 'random_strength': 0.37721083594379706}. Best is trial 36 with value: 0.9471552406987662.\u001b[0m\n",
      "\u001b[32m[I 2023-03-18 10:30:38,750]\u001b[0m Trial 92 finished with value: 0.9459789510608865 and parameters: {'learning_rate': 0.12637870114124128, 'depth': 5, 'l2_leaf_reg': 0.4843080929122004, 'bagging_temperature': 5.296665882100099, 'border_count': 174, 'min_data_in_leaf': 24, 'random_strength': 4.5400781874152805e-09}. Best is trial 36 with value: 0.9471552406987662.\u001b[0m\n",
      "\u001b[32m[I 2023-03-18 10:30:40,306]\u001b[0m Trial 93 finished with value: 0.9461291014356391 and parameters: {'learning_rate': 0.10586142100802241, 'depth': 5, 'l2_leaf_reg': 1.777257866815915, 'bagging_temperature': 5.796508628768872, 'border_count': 188, 'min_data_in_leaf': 11, 'random_strength': 4.449806487139511e-08}. Best is trial 36 with value: 0.9471552406987662.\u001b[0m\n",
      "\u001b[32m[I 2023-03-18 10:30:42,551]\u001b[0m Trial 94 finished with value: 0.9464553258073971 and parameters: {'learning_rate': 0.0730261406156465, 'depth': 5, 'l2_leaf_reg': 5.517276517140359, 'bagging_temperature': 6.220835050453065, 'border_count': 49, 'min_data_in_leaf': 6, 'random_strength': 7.483030983906773e-09}. Best is trial 36 with value: 0.9471552406987662.\u001b[0m\n",
      "\u001b[32m[I 2023-03-18 10:30:44,731]\u001b[0m Trial 95 finished with value: 0.9459863544089776 and parameters: {'learning_rate': 0.05572682002437812, 'depth': 5, 'l2_leaf_reg': 6.956089520770387, 'bagging_temperature': 6.406308758439286, 'border_count': 86, 'min_data_in_leaf': 7, 'random_strength': 7.706363612569183e-09}. Best is trial 36 with value: 0.9471552406987662.\u001b[0m\n",
      "\u001b[32m[I 2023-03-18 10:30:46,859]\u001b[0m Trial 96 finished with value: 0.9451723477289846 and parameters: {'learning_rate': 0.07448578313871645, 'depth': 4, 'l2_leaf_reg': 4.911101211589543, 'bagging_temperature': 6.158826269133608, 'border_count': 130, 'min_data_in_leaf': 17, 'random_strength': 2.5958825182984456e-08}. Best is trial 36 with value: 0.9471552406987662.\u001b[0m\n",
      "\u001b[32m[I 2023-03-18 10:30:49,280]\u001b[0m Trial 97 finished with value: 0.9454853586224983 and parameters: {'learning_rate': 0.08344160406863864, 'depth': 5, 'l2_leaf_reg': 2.5849631335193157, 'bagging_temperature': 1.8681532029859516, 'border_count': 38, 'min_data_in_leaf': 4, 'random_strength': 2.3367614554476916}. Best is trial 36 with value: 0.9471552406987662.\u001b[0m\n",
      "\u001b[32m[I 2023-03-18 10:30:50,794]\u001b[0m Trial 98 finished with value: 0.9460141078679181 and parameters: {'learning_rate': 0.09431556872116309, 'depth': 6, 'l2_leaf_reg': 3.471023242679103, 'bagging_temperature': 6.738147124250627, 'border_count': 199, 'min_data_in_leaf': 12, 'random_strength': 3.470909120458268e-09}. Best is trial 36 with value: 0.9471552406987662.\u001b[0m\n",
      "\u001b[32m[I 2023-03-18 10:30:53,158]\u001b[0m Trial 99 finished with value: 0.9463883722469545 and parameters: {'learning_rate': 0.06384328027408434, 'depth': 5, 'l2_leaf_reg': 5.782409339757892, 'bagging_temperature': 5.045758018847254, 'border_count': 67, 'min_data_in_leaf': 15, 'random_strength': 1.4189298724113785e-08}. Best is trial 36 with value: 0.9471552406987662.\u001b[0m\n"
     ]
    },
    {
     "name": "stdout",
     "output_type": "stream",
     "text": [
      "Number of finished trials:  100\n",
      "Best trial:\n",
      "  Value: 0.9471552406987662\n",
      "  Params: \n",
      "    learning_rate: 0.11655221326189434\n",
      "    depth: 5\n",
      "    l2_leaf_reg: 0.0005894515655179222\n",
      "    bagging_temperature: 6.592259475415414\n",
      "    border_count: 171\n",
      "    min_data_in_leaf: 50\n",
      "    random_strength: 4.795003069257163e-08\n"
     ]
    }
   ],
   "source": [
    "study = optuna.create_study(direction=\"maximize\")\n",
    "study.optimize(objective, n_trials=100)\n",
    "\n",
    "print(\"Number of finished trials: \", len(study.trials))\n",
    "print(\"Best trial:\")\n",
    "trial = study.best_trial\n",
    "\n",
    "print(\"  Value: {}\".format(trial.value))\n",
    "print(\"  Params: \")\n",
    "\n",
    "hp_cat = study.best_params\n",
    "\n",
    "hp_cat[\"n_estimators\"] = study.best_trial.user_attrs['best_iteration']\n",
    "\n",
    "for key, value in trial.params.items():\n",
    "    print(\"    {}: {}\".format(key, value))"
   ]
  },
  {
   "cell_type": "code",
   "execution_count": 88,
   "id": "9cd48a0b",
   "metadata": {
    "_kg_hide-output": true,
    "execution": {
     "iopub.execute_input": "2023-03-18T10:30:53.592424Z",
     "iopub.status.busy": "2023-03-18T10:30:53.591622Z",
     "iopub.status.idle": "2023-03-18T10:30:53.638218Z",
     "shell.execute_reply": "2023-03-18T10:30:53.638770Z"
    },
    "papermill": {
     "duration": 0.252465,
     "end_time": "2023-03-18T10:30:53.638986",
     "exception": false,
     "start_time": "2023-03-18T10:30:53.386521",
     "status": "completed"
    },
    "tags": []
   },
   "outputs": [
    {
     "data": {
      "text/plain": [
       "<catboost.core.CatBoostClassifier at 0x7fd77e3fcc90>"
      ]
     },
     "execution_count": 88,
     "metadata": {},
     "output_type": "execute_result"
    }
   ],
   "source": [
    "cat_model = CatBoostClassifier(**hp_cat,verbose=False)\n",
    "cat_model.fit(X_train, y_train)"
   ]
  },
  {
   "cell_type": "code",
   "execution_count": 89,
   "id": "7a368e2b",
   "metadata": {
    "execution": {
     "iopub.execute_input": "2023-03-18T10:30:54.045491Z",
     "iopub.status.busy": "2023-03-18T10:30:54.044831Z",
     "iopub.status.idle": "2023-03-18T10:30:54.049691Z",
     "shell.execute_reply": "2023-03-18T10:30:54.050316Z"
    },
    "papermill": {
     "duration": 0.208497,
     "end_time": "2023-03-18T10:30:54.050506",
     "exception": false,
     "start_time": "2023-03-18T10:30:53.842009",
     "status": "completed"
    },
    "tags": []
   },
   "outputs": [
    {
     "data": {
      "text/plain": [
       "{'learning_rate': 0.11655221326189434,\n",
       " 'depth': 5,\n",
       " 'l2_leaf_reg': 0.0005894515655179222,\n",
       " 'bagging_temperature': 6.592259475415414,\n",
       " 'border_count': 171,\n",
       " 'min_data_in_leaf': 50,\n",
       " 'random_strength': 4.795003069257163e-08,\n",
       " 'n_estimators': 14}"
      ]
     },
     "execution_count": 89,
     "metadata": {},
     "output_type": "execute_result"
    }
   ],
   "source": [
    "hp_cat"
   ]
  },
  {
   "cell_type": "code",
   "execution_count": 90,
   "id": "dc18a9ce",
   "metadata": {
    "execution": {
     "iopub.execute_input": "2023-03-18T10:30:54.479990Z",
     "iopub.status.busy": "2023-03-18T10:30:54.479229Z",
     "iopub.status.idle": "2023-03-18T10:30:54.483093Z",
     "shell.execute_reply": "2023-03-18T10:30:54.483696Z"
    },
    "papermill": {
     "duration": 0.233992,
     "end_time": "2023-03-18T10:30:54.483894",
     "exception": false,
     "start_time": "2023-03-18T10:30:54.249902",
     "status": "completed"
    },
    "tags": []
   },
   "outputs": [],
   "source": [
    "y_pred_cat = cat_model.predict(X_test)"
   ]
  },
  {
   "cell_type": "code",
   "execution_count": 91,
   "id": "4f1d9163",
   "metadata": {
    "execution": {
     "iopub.execute_input": "2023-03-18T10:30:54.891880Z",
     "iopub.status.busy": "2023-03-18T10:30:54.891090Z",
     "iopub.status.idle": "2023-03-18T10:30:55.043908Z",
     "shell.execute_reply": "2023-03-18T10:30:55.044794Z"
    },
    "papermill": {
     "duration": 0.357009,
     "end_time": "2023-03-18T10:30:55.045097",
     "exception": false,
     "start_time": "2023-03-18T10:30:54.688088",
     "status": "completed"
    },
    "tags": []
   },
   "outputs": [
    {
     "data": {
      "image/png": "[encoded data removed]",
      "text/plain": [
       "<Figure size 252x252 with 1 Axes>"
      ]
     },
     "metadata": {},
     "output_type": "display_data"
    }
   ],
   "source": [
    "conf_matrix(y_test, y_pred_cat)"
   ]
  },
  {
   "cell_type": "code",
   "execution_count": 92,
   "id": "4c498c23",
   "metadata": {
    "execution": {
     "iopub.execute_input": "2023-03-18T10:30:55.453354Z",
     "iopub.status.busy": "2023-03-18T10:30:55.452627Z",
     "iopub.status.idle": "2023-03-18T10:30:55.462989Z",
     "shell.execute_reply": "2023-03-18T10:30:55.462472Z"
    },
    "papermill": {
     "duration": 0.215165,
     "end_time": "2023-03-18T10:30:55.463173",
     "exception": false,
     "start_time": "2023-03-18T10:30:55.248008",
     "status": "completed"
    },
    "tags": []
   },
   "outputs": [
    {
     "name": "stdout",
     "output_type": "stream",
     "text": [
      "              precision    recall  f1-score   support\n",
      "\n",
      "           0       0.80      0.96      0.88       398\n",
      "           1       0.96      0.81      0.88       489\n",
      "\n",
      "    accuracy                           0.88       887\n",
      "   macro avg       0.88      0.89      0.88       887\n",
      "weighted avg       0.89      0.88      0.88       887\n",
      "\n"
     ]
    }
   ],
   "source": [
    "print(classification_report(y_test, y_pred_cat))"
   ]
  },
  {
   "cell_type": "code",
   "execution_count": 93,
   "id": "88283e65",
   "metadata": {
    "_kg_hide-input": true,
    "execution": {
     "iopub.execute_input": "2023-03-18T10:30:55.916324Z",
     "iopub.status.busy": "2023-03-18T10:30:55.915381Z",
     "iopub.status.idle": "2023-03-18T10:30:56.591694Z",
     "shell.execute_reply": "2023-03-18T10:30:56.591085Z"
    },
    "papermill": {
     "duration": 0.927826,
     "end_time": "2023-03-18T10:30:56.591870",
     "exception": false,
     "start_time": "2023-03-18T10:30:55.664044",
     "status": "completed"
    },
    "tags": []
   },
   "outputs": [
    {
     "data": {
      "image/png": "[encoded data removed]",
      "text/plain": [
       "<Figure size 504x288 with 2 Axes>"
      ]
     },
     "metadata": {},
     "output_type": "display_data"
    }
   ],
   "source": [
    "fig, ax_arr = plt.subplots(1,2, figsize = (7, 4))\n",
    "\n",
    "#XGBOOST \n",
    "probs = xgb_model.predict_proba(X_test)\n",
    "preds = probs[:,1]\n",
    "fprxgb, tprxgb, thresholddxgb = roc_curve(y_test, preds)\n",
    "roc_aucxgb = auc(fprxgb, tprxgb)\n",
    "\n",
    "ax_arr[0].plot(fprxgb, tprxgb, 'b', label = 'AUC = %0.2f' % roc_aucxgb)\n",
    "ax_arr[0].plot([0, 1], [0, 1],'r--')\n",
    "ax_arr[0].set_title('ROC XGBoost ',fontsize=20)\n",
    "ax_arr[0].set_ylabel('True Positive Rate',fontsize=15)\n",
    "ax_arr[0].set_xlabel('False Positive Rate',fontsize=15)\n",
    "ax_arr[0].legend(loc = 'lower right', fontsize=18, fancybox=True, shadow=True, frameon=True, handlelength=0)\n",
    "\n",
    "#CATBOOST\n",
    "probs = cat_model.predict_proba(X_test)\n",
    "preds = probs[:,1]\n",
    "fprcat, tprcat, thresholddxgb = roc_curve(y_test, preds)\n",
    "roc_auccat = auc(fprcat, tprcat)\n",
    "\n",
    "ax_arr[1].plot(fprcat, tprcat, 'b', label = 'AUC = %0.2f' % roc_auccat)\n",
    "ax_arr[1].plot([0, 1], [0, 1],'r--')\n",
    "ax_arr[1].set_title('ROC CATBoost ',fontsize=20)\n",
    "ax_arr[1].set_ylabel('True Positive Rate',fontsize=15)\n",
    "ax_arr[1].set_xlabel('False Positive Rate',fontsize=15)\n",
    "ax_arr[1].legend(loc = 'lower right', fontsize=18, fancybox=True, shadow=True, frameon=True, handlelength=0)\n",
    "\n",
    "plt.tight_layout() "
   ]
  },
  {
   "cell_type": "markdown",
   "id": "3847b06b",
   "metadata": {
    "papermill": {
     "duration": 0.202565,
     "end_time": "2023-03-18T10:30:56.997795",
     "exception": false,
     "start_time": "2023-03-18T10:30:56.795230",
     "status": "completed"
    },
    "tags": []
   },
   "source": [
    "For both XGBoost and CATboost we achieve good results, with performance scores around 90%."
   ]
  },
  {
   "cell_type": "markdown",
   "id": "8c2245c7",
   "metadata": {
    "papermill": {
     "duration": 0.203233,
     "end_time": "2023-03-18T10:30:57.405199",
     "exception": false,
     "start_time": "2023-03-18T10:30:57.201966",
     "status": "completed"
    },
    "tags": []
   },
   "source": [
    "# Feature Importance to determine job placement"
   ]
  },
  {
   "cell_type": "code",
   "execution_count": 94,
   "id": "54466486",
   "metadata": {
    "execution": {
     "iopub.execute_input": "2023-03-18T10:30:57.824721Z",
     "iopub.status.busy": "2023-03-18T10:30:57.823701Z",
     "iopub.status.idle": "2023-03-18T10:30:57.826793Z",
     "shell.execute_reply": "2023-03-18T10:30:57.826269Z"
    },
    "papermill": {
     "duration": 0.214737,
     "end_time": "2023-03-18T10:30:57.826954",
     "exception": false,
     "start_time": "2023-03-18T10:30:57.612217",
     "status": "completed"
    },
    "tags": []
   },
   "outputs": [],
   "source": [
    "xgb_model.feature_names = df_encoded.drop('placed', axis = 1).columns"
   ]
  },
  {
   "cell_type": "code",
   "execution_count": 95,
   "id": "d08d1b8b",
   "metadata": {
    "execution": {
     "iopub.execute_input": "2023-03-18T10:30:58.240059Z",
     "iopub.status.busy": "2023-03-18T10:30:58.239385Z",
     "iopub.status.idle": "2023-03-18T10:30:58.334484Z",
     "shell.execute_reply": "2023-03-18T10:30:58.333847Z"
    },
    "papermill": {
     "duration": 0.304809,
     "end_time": "2023-03-18T10:30:58.334667",
     "exception": false,
     "start_time": "2023-03-18T10:30:58.029858",
     "status": "completed"
    },
    "tags": []
   },
   "outputs": [],
   "source": [
    "feat_df= pd.DataFrame({'feature': xgb_model.feature_names,'importance':xgb_model.feature_importances_})"
   ]
  },
  {
   "cell_type": "code",
   "execution_count": 96,
   "id": "a4aff9fe",
   "metadata": {
    "execution": {
     "iopub.execute_input": "2023-03-18T10:30:58.756417Z",
     "iopub.status.busy": "2023-03-18T10:30:58.755361Z",
     "iopub.status.idle": "2023-03-18T10:30:58.757381Z",
     "shell.execute_reply": "2023-03-18T10:30:58.757966Z"
    },
    "papermill": {
     "duration": 0.217452,
     "end_time": "2023-03-18T10:30:58.758253",
     "exception": false,
     "start_time": "2023-03-18T10:30:58.540801",
     "status": "completed"
    },
    "tags": []
   },
   "outputs": [],
   "source": [
    "sorted_df=feat_df.sort_values('importance', ascending=False)"
   ]
  },
  {
   "cell_type": "code",
   "execution_count": 97,
   "id": "4c6d7ba8",
   "metadata": {
    "execution": {
     "iopub.execute_input": "2023-03-18T10:30:59.177893Z",
     "iopub.status.busy": "2023-03-18T10:30:59.169957Z",
     "iopub.status.idle": "2023-03-18T10:30:59.492686Z",
     "shell.execute_reply": "2023-03-18T10:30:59.491943Z"
    },
    "papermill": {
     "duration": 0.529696,
     "end_time": "2023-03-18T10:30:59.492855",
     "exception": false,
     "start_time": "2023-03-18T10:30:58.963159",
     "status": "completed"
    },
    "tags": []
   },
   "outputs": [
    {
     "data": {
      "image/png": "[encoded data removed]",
      "text/plain": [
       "<Figure size 432x252 with 1 Axes>"
      ]
     },
     "metadata": {},
     "output_type": "display_data"
    }
   ],
   "source": [
    "plt.figure(figsize=(6,3.5))\n",
    "sns.barplot(x='importance', y='feature', data=sorted_df.head(7), palette='viridis')\n",
    "plt.title('Feature Importance to predict placement by XGBoost')\n",
    "plt.xlabel('Feature Importance (%)')\n",
    "plt.ylabel('')\n",
    "plt.show()"
   ]
  },
  {
   "cell_type": "markdown",
   "id": "e072b417",
   "metadata": {
    "papermill": {
     "duration": 0.204109,
     "end_time": "2023-03-18T10:30:59.903032",
     "exception": false,
     "start_time": "2023-03-18T10:30:59.698923",
     "status": "completed"
    },
    "tags": []
   },
   "source": [
    "**We can see that the feature with the highest impact to determine placement are cgpa, internships and age.**"
   ]
  },
  {
   "cell_type": "markdown",
   "id": "a9b404aa",
   "metadata": {
    "papermill": {
     "duration": 0.205605,
     "end_time": "2023-03-18T10:31:00.312996",
     "exception": false,
     "start_time": "2023-03-18T10:31:00.107391",
     "status": "completed"
    },
    "tags": []
   },
   "source": [
    "*Thanks for reading my notebook ! Let me know if you have questions or if you want me to check out your works too ! :)*"
   ]
  }
 ],
 "metadata": {
  "kernelspec": {
   "display_name": "Python 3",
   "language": "python",
   "name": "python3"
  },
  "language_info": {
   "codemirror_mode": {
    "name": "ipython",
    "version": 3
   },
   "file_extension": ".py",
   "mimetype": "text/x-python",
   "name": "python",
   "nbconvert_exporter": "python",
   "pygments_lexer": "ipython3",
   "version": "3.7.10"
  },
  "papermill": {
   "default_parameters": {},
   "duration": 1115.559655,
   "end_time": "2023-03-18T10:31:01.332399",
   "environment_variables": {},
   "exception": null,
   "input_path": "__notebook__.ipynb",
   "output_path": "__notebook__.ipynb",
   "parameters": {},
   "start_time": "2023-03-18T10:12:25.772744",
   "version": "2.3.3"
  }
 },
 "nbformat": 4,
 "nbformat_minor": 5
}
