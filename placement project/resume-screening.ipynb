{
 "cells": [
  {
   "cell_type": "markdown",
   "id": "28eb0780",
   "metadata": {
    "papermill": {
     "duration": 0.016618,
     "end_time": "2022-02-15T07:44:06.625804",
     "exception": false,
     "start_time": "2022-02-15T07:44:06.609186",
     "status": "completed"
    },
    "tags": []
   },
   "source": [
    "![](https://d3kqdc25i4tl0t.cloudfront.net/articles/content/_340594_resumeanatomy.hero.jpg)"
   ]
  },
  {
   "cell_type": "markdown",
   "id": "c2f2901b",
   "metadata": {
    "papermill": {
     "duration": 0.013986,
     "end_time": "2022-02-15T07:44:06.654851",
     "exception": false,
     "start_time": "2022-02-15T07:44:06.640865",
     "status": "completed"
    },
    "tags": []
   },
   "source": [
    "## Importing Requied Libraries\n",
    "---\n",
    "---"
   ]
  },
  {
   "cell_type": "code",
   "execution_count": 1,
   "id": "0c027fba",
   "metadata": {
    "execution": {
     "iopub.execute_input": "2022-02-15T07:44:06.689722Z",
     "iopub.status.busy": "2022-02-15T07:44:06.687970Z",
     "iopub.status.idle": "2022-02-15T07:44:08.028498Z",
     "shell.execute_reply": "2022-02-15T07:44:08.027497Z",
     "shell.execute_reply.started": "2022-02-15T07:38:45.552150Z"
    },
    "papermill": {
     "duration": 1.359702,
     "end_time": "2022-02-15T07:44:08.028687",
     "exception": false,
     "start_time": "2022-02-15T07:44:06.668985",
     "status": "completed"
    },
    "tags": []
   },
   "outputs": [],
   "source": [
    "import numpy as np\n",
    "import pandas as pd\n",
    "import matplotlib.pyplot as plt\n",
    "import seaborn as sns\n",
    "sns.set_style('darkgrid')\n",
    "import warnings\n",
    "warnings.filterwarnings('ignore')\n",
    "import re\n",
    "from sklearn.preprocessing import LabelEncoder\n",
    "from sklearn.model_selection import train_test_split\n",
    "from sklearn.feature_extraction.text import TfidfVectorizer\n",
    "from scipy.sparse import hstack\n",
    "from sklearn.multiclass import OneVsRestClassifier\n",
    "from sklearn.neighbors import KNeighborsClassifier\n",
    "from sklearn import metrics"
   ]
  },
  {
   "cell_type": "markdown",
   "id": "7b361319",
   "metadata": {
    "papermill": {
     "duration": 0.0151,
     "end_time": "2022-02-15T07:44:08.059076",
     "exception": false,
     "start_time": "2022-02-15T07:44:08.043976",
     "status": "completed"
    },
    "tags": []
   },
   "source": [
    "## Loading Dataset\n",
    "---\n",
    "---"
   ]
  },
  {
   "cell_type": "code",
   "execution_count": 2,
   "id": "13a7c925",
   "metadata": {
    "execution": {
     "iopub.execute_input": "2022-02-15T07:44:08.091677Z",
     "iopub.status.busy": "2022-02-15T07:44:08.090750Z",
     "iopub.status.idle": "2022-02-15T07:44:08.196439Z",
     "shell.execute_reply": "2022-02-15T07:44:08.196908Z",
     "shell.execute_reply.started": "2022-02-15T07:38:46.165548Z"
    },
    "papermill": {
     "duration": 0.123621,
     "end_time": "2022-02-15T07:44:08.197092",
     "exception": false,
     "start_time": "2022-02-15T07:44:08.073471",
     "status": "completed"
    },
    "tags": []
   },
   "outputs": [
    {
     "data": {
      "text/html": [
       "<div>\n",
       "<style scoped>\n",
       "    .dataframe tbody tr th:only-of-type {\n",
       "        vertical-align: middle;\n",
       "    }\n",
       "\n",
       "    .dataframe tbody tr th {\n",
       "        vertical-align: top;\n",
       "    }\n",
       "\n",
       "    .dataframe thead th {\n",
       "        text-align: right;\n",
       "    }\n",
       "</style>\n",
       "<table border=\"1\" class=\"dataframe\">\n",
       "  <thead>\n",
       "    <tr style=\"text-align: right;\">\n",
       "      <th></th>\n",
       "      <th>Category</th>\n",
       "      <th>Resume</th>\n",
       "    </tr>\n",
       "  </thead>\n",
       "  <tbody>\n",
       "    <tr>\n",
       "      <th>0</th>\n",
       "      <td>Data Science</td>\n",
       "      <td>Skills * Programming Languages: Python (pandas...</td>\n",
       "    </tr>\n",
       "    <tr>\n",
       "      <th>1</th>\n",
       "      <td>Data Science</td>\n",
       "      <td>Education Details \\r\\nMay 2013 to May 2017 B.E...</td>\n",
       "    </tr>\n",
       "    <tr>\n",
       "      <th>2</th>\n",
       "      <td>Data Science</td>\n",
       "      <td>Areas of Interest Deep Learning, Control Syste...</td>\n",
       "    </tr>\n",
       "    <tr>\n",
       "      <th>3</th>\n",
       "      <td>Data Science</td>\n",
       "      <td>Skills â¢ R â¢ Python â¢ SAP HANA â¢ Table...</td>\n",
       "    </tr>\n",
       "    <tr>\n",
       "      <th>4</th>\n",
       "      <td>Data Science</td>\n",
       "      <td>Education Details \\r\\n MCA   YMCAUST,  Faridab...</td>\n",
       "    </tr>\n",
       "  </tbody>\n",
       "</table>\n",
       "</div>"
      ],
      "text/plain": [
       "       Category                                             Resume\n",
       "0  Data Science  Skills * Programming Languages: Python (pandas...\n",
       "1  Data Science  Education Details \\r\\nMay 2013 to May 2017 B.E...\n",
       "2  Data Science  Areas of Interest Deep Learning, Control Syste...\n",
       "3  Data Science  Skills â¢ R â¢ Python â¢ SAP HANA â¢ Table...\n",
       "4  Data Science  Education Details \\r\\n MCA   YMCAUST,  Faridab..."
      ]
     },
     "execution_count": 2,
     "metadata": {},
     "output_type": "execute_result"
    }
   ],
   "source": [
    "df = pd.read_csv('../input/resume-dataset/UpdatedResumeDataSet.csv')\n",
    "df.head()"
   ]
  },
  {
   "cell_type": "markdown",
   "id": "6ce5546a",
   "metadata": {
    "papermill": {
     "duration": 0.015751,
     "end_time": "2022-02-15T07:44:08.228358",
     "exception": false,
     "start_time": "2022-02-15T07:44:08.212607",
     "status": "completed"
    },
    "tags": []
   },
   "source": [
    "## Exploratory Data Analysis\n",
    "---\n",
    "---"
   ]
  },
  {
   "cell_type": "code",
   "execution_count": 3,
   "id": "34a14062",
   "metadata": {
    "execution": {
     "iopub.execute_input": "2022-02-15T07:44:08.262773Z",
     "iopub.status.busy": "2022-02-15T07:44:08.261793Z",
     "iopub.status.idle": "2022-02-15T07:44:08.280290Z",
     "shell.execute_reply": "2022-02-15T07:44:08.279673Z",
     "shell.execute_reply.started": "2022-02-15T07:38:46.219761Z"
    },
    "papermill": {
     "duration": 0.036847,
     "end_time": "2022-02-15T07:44:08.280430",
     "exception": false,
     "start_time": "2022-02-15T07:44:08.243583",
     "status": "completed"
    },
    "tags": []
   },
   "outputs": [
    {
     "data": {
      "text/html": [
       "<div>\n",
       "<style scoped>\n",
       "    .dataframe tbody tr th:only-of-type {\n",
       "        vertical-align: middle;\n",
       "    }\n",
       "\n",
       "    .dataframe tbody tr th {\n",
       "        vertical-align: top;\n",
       "    }\n",
       "\n",
       "    .dataframe thead th {\n",
       "        text-align: right;\n",
       "    }\n",
       "</style>\n",
       "<table border=\"1\" class=\"dataframe\">\n",
       "  <thead>\n",
       "    <tr style=\"text-align: right;\">\n",
       "      <th></th>\n",
       "      <th>index</th>\n",
       "      <th>Category</th>\n",
       "    </tr>\n",
       "  </thead>\n",
       "  <tbody>\n",
       "    <tr>\n",
       "      <th>0</th>\n",
       "      <td>Java Developer</td>\n",
       "      <td>84</td>\n",
       "    </tr>\n",
       "    <tr>\n",
       "      <th>1</th>\n",
       "      <td>Testing</td>\n",
       "      <td>70</td>\n",
       "    </tr>\n",
       "    <tr>\n",
       "      <th>2</th>\n",
       "      <td>DevOps Engineer</td>\n",
       "      <td>55</td>\n",
       "    </tr>\n",
       "    <tr>\n",
       "      <th>3</th>\n",
       "      <td>Python Developer</td>\n",
       "      <td>48</td>\n",
       "    </tr>\n",
       "    <tr>\n",
       "      <th>4</th>\n",
       "      <td>Web Designing</td>\n",
       "      <td>45</td>\n",
       "    </tr>\n",
       "    <tr>\n",
       "      <th>5</th>\n",
       "      <td>HR</td>\n",
       "      <td>44</td>\n",
       "    </tr>\n",
       "    <tr>\n",
       "      <th>6</th>\n",
       "      <td>Hadoop</td>\n",
       "      <td>42</td>\n",
       "    </tr>\n",
       "    <tr>\n",
       "      <th>7</th>\n",
       "      <td>Blockchain</td>\n",
       "      <td>40</td>\n",
       "    </tr>\n",
       "    <tr>\n",
       "      <th>8</th>\n",
       "      <td>ETL Developer</td>\n",
       "      <td>40</td>\n",
       "    </tr>\n",
       "    <tr>\n",
       "      <th>9</th>\n",
       "      <td>Operations Manager</td>\n",
       "      <td>40</td>\n",
       "    </tr>\n",
       "    <tr>\n",
       "      <th>10</th>\n",
       "      <td>Data Science</td>\n",
       "      <td>40</td>\n",
       "    </tr>\n",
       "    <tr>\n",
       "      <th>11</th>\n",
       "      <td>Sales</td>\n",
       "      <td>40</td>\n",
       "    </tr>\n",
       "    <tr>\n",
       "      <th>12</th>\n",
       "      <td>Mechanical Engineer</td>\n",
       "      <td>40</td>\n",
       "    </tr>\n",
       "    <tr>\n",
       "      <th>13</th>\n",
       "      <td>Arts</td>\n",
       "      <td>36</td>\n",
       "    </tr>\n",
       "    <tr>\n",
       "      <th>14</th>\n",
       "      <td>Database</td>\n",
       "      <td>33</td>\n",
       "    </tr>\n",
       "    <tr>\n",
       "      <th>15</th>\n",
       "      <td>Electrical Engineering</td>\n",
       "      <td>30</td>\n",
       "    </tr>\n",
       "    <tr>\n",
       "      <th>16</th>\n",
       "      <td>Health and fitness</td>\n",
       "      <td>30</td>\n",
       "    </tr>\n",
       "    <tr>\n",
       "      <th>17</th>\n",
       "      <td>PMO</td>\n",
       "      <td>30</td>\n",
       "    </tr>\n",
       "    <tr>\n",
       "      <th>18</th>\n",
       "      <td>Business Analyst</td>\n",
       "      <td>28</td>\n",
       "    </tr>\n",
       "    <tr>\n",
       "      <th>19</th>\n",
       "      <td>DotNet Developer</td>\n",
       "      <td>28</td>\n",
       "    </tr>\n",
       "    <tr>\n",
       "      <th>20</th>\n",
       "      <td>Automation Testing</td>\n",
       "      <td>26</td>\n",
       "    </tr>\n",
       "    <tr>\n",
       "      <th>21</th>\n",
       "      <td>Network Security Engineer</td>\n",
       "      <td>25</td>\n",
       "    </tr>\n",
       "    <tr>\n",
       "      <th>22</th>\n",
       "      <td>SAP Developer</td>\n",
       "      <td>24</td>\n",
       "    </tr>\n",
       "    <tr>\n",
       "      <th>23</th>\n",
       "      <td>Civil Engineer</td>\n",
       "      <td>24</td>\n",
       "    </tr>\n",
       "    <tr>\n",
       "      <th>24</th>\n",
       "      <td>Advocate</td>\n",
       "      <td>20</td>\n",
       "    </tr>\n",
       "  </tbody>\n",
       "</table>\n",
       "</div>"
      ],
      "text/plain": [
       "                        index  Category\n",
       "0              Java Developer        84\n",
       "1                     Testing        70\n",
       "2             DevOps Engineer        55\n",
       "3            Python Developer        48\n",
       "4               Web Designing        45\n",
       "5                          HR        44\n",
       "6                      Hadoop        42\n",
       "7                  Blockchain        40\n",
       "8               ETL Developer        40\n",
       "9          Operations Manager        40\n",
       "10               Data Science        40\n",
       "11                      Sales        40\n",
       "12        Mechanical Engineer        40\n",
       "13                       Arts        36\n",
       "14                   Database        33\n",
       "15     Electrical Engineering        30\n",
       "16         Health and fitness        30\n",
       "17                        PMO        30\n",
       "18           Business Analyst        28\n",
       "19           DotNet Developer        28\n",
       "20         Automation Testing        26\n",
       "21  Network Security Engineer        25\n",
       "22              SAP Developer        24\n",
       "23             Civil Engineer        24\n",
       "24                   Advocate        20"
      ]
     },
     "execution_count": 3,
     "metadata": {},
     "output_type": "execute_result"
    }
   ],
   "source": [
    "category = df['Category'].value_counts().reset_index()\n",
    "category"
   ]
  },
  {
   "cell_type": "code",
   "execution_count": 4,
   "id": "7b0dd0f8",
   "metadata": {
    "execution": {
     "iopub.execute_input": "2022-02-15T07:44:08.325506Z",
     "iopub.status.busy": "2022-02-15T07:44:08.315100Z",
     "iopub.status.idle": "2022-02-15T07:44:08.743905Z",
     "shell.execute_reply": "2022-02-15T07:44:08.743423Z",
     "shell.execute_reply.started": "2022-02-15T07:38:46.235748Z"
    },
    "papermill": {
     "duration": 0.447285,
     "end_time": "2022-02-15T07:44:08.744044",
     "exception": false,
     "start_time": "2022-02-15T07:44:08.296759",
     "status": "completed"
    },
    "tags": []
   },
   "outputs": [
    {
     "data": {
      "image/png": "[encoded data removed]",
      "text/plain": [
       "<Figure size 864x576 with 1 Axes>"
      ]
     },
     "metadata": {},
     "output_type": "display_data"
    }
   ],
   "source": [
    "plt.figure(figsize=(12,8))\n",
    "sns.barplot(x=category['Category'], y=category['index'], palette='cool')\n",
    "plt.show()"
   ]
  },
  {
   "cell_type": "code",
   "execution_count": 5,
   "id": "d5af95ce",
   "metadata": {
    "execution": {
     "iopub.execute_input": "2022-02-15T07:44:08.785414Z",
     "iopub.status.busy": "2022-02-15T07:44:08.784466Z",
     "iopub.status.idle": "2022-02-15T07:44:09.217355Z",
     "shell.execute_reply": "2022-02-15T07:44:09.217886Z",
     "shell.execute_reply.started": "2022-02-15T07:38:46.671421Z"
    },
    "papermill": {
     "duration": 0.45708,
     "end_time": "2022-02-15T07:44:09.218119",
     "exception": false,
     "start_time": "2022-02-15T07:44:08.761039",
     "status": "completed"
    },
    "tags": []
   },
   "outputs": [
    {
     "data": {
      "image/png": "[encoded data removed]",
      "text/plain": [
       "<Figure size 864x576 with 1 Axes>"
      ]
     },
     "metadata": {},
     "output_type": "display_data"
    }
   ],
   "source": [
    "plt.figure(figsize=(12,8))\n",
    "plt.pie(category['Category'], labels=category['index'],\n",
    "        colors=sns.color_palette('cool'), autopct='%.0f%%')\n",
    "plt.title('Category Distribution')\n",
    "plt.show()"
   ]
  },
  {
   "cell_type": "markdown",
   "id": "57cadf1f",
   "metadata": {
    "papermill": {
     "duration": 0.01944,
     "end_time": "2022-02-15T07:44:09.259001",
     "exception": false,
     "start_time": "2022-02-15T07:44:09.239561",
     "status": "completed"
    },
    "tags": []
   },
   "source": [
    "## Data Cleaning\n",
    "---\n",
    "---"
   ]
  },
  {
   "cell_type": "code",
   "execution_count": 6,
   "id": "e803d79a",
   "metadata": {
    "execution": {
     "iopub.execute_input": "2022-02-15T07:44:09.306670Z",
     "iopub.status.busy": "2022-02-15T07:44:09.303064Z",
     "iopub.status.idle": "2022-02-15T07:44:09.309480Z",
     "shell.execute_reply": "2022-02-15T07:44:09.310010Z",
     "shell.execute_reply.started": "2022-02-15T07:38:47.116909Z"
    },
    "papermill": {
     "duration": 0.031449,
     "end_time": "2022-02-15T07:44:09.310209",
     "exception": false,
     "start_time": "2022-02-15T07:44:09.278760",
     "status": "completed"
    },
    "tags": []
   },
   "outputs": [],
   "source": [
    "def cleanResume(resumeText):\n",
    "    resumeText = re.sub('http\\S+\\s*', ' ', resumeText)  # remove URLs\n",
    "    resumeText = re.sub('RT|cc', ' ', resumeText)  # remove RT and cc\n",
    "    resumeText = re.sub('#\\S+', '', resumeText)  # remove hashtags\n",
    "    resumeText = re.sub('@\\S+', '  ', resumeText)  # remove mentions\n",
    "    resumeText = re.sub('[%s]' % re.escape(\"\"\"!\"#$%&'()*+,-./:;<=>?@[\\]^_`{|}~\"\"\"), ' ', resumeText)  # remove punctuations\n",
    "    resumeText = re.sub(r'[^\\x00-\\x7f]',r' ', resumeText) \n",
    "    resumeText = re.sub('\\s+', ' ', resumeText)  # remove extra whitespace\n",
    "    return resumeText"
   ]
  },
  {
   "cell_type": "code",
   "execution_count": 7,
   "id": "8f890b29",
   "metadata": {
    "execution": {
     "iopub.execute_input": "2022-02-15T07:44:09.353489Z",
     "iopub.status.busy": "2022-02-15T07:44:09.352525Z",
     "iopub.status.idle": "2022-02-15T07:44:09.605457Z",
     "shell.execute_reply": "2022-02-15T07:44:09.604873Z",
     "shell.execute_reply.started": "2022-02-15T07:38:47.125239Z"
    },
    "papermill": {
     "duration": 0.275635,
     "end_time": "2022-02-15T07:44:09.605605",
     "exception": false,
     "start_time": "2022-02-15T07:44:09.329970",
     "status": "completed"
    },
    "tags": []
   },
   "outputs": [
    {
     "data": {
      "text/html": [
       "<div>\n",
       "<style scoped>\n",
       "    .dataframe tbody tr th:only-of-type {\n",
       "        vertical-align: middle;\n",
       "    }\n",
       "\n",
       "    .dataframe tbody tr th {\n",
       "        vertical-align: top;\n",
       "    }\n",
       "\n",
       "    .dataframe thead th {\n",
       "        text-align: right;\n",
       "    }\n",
       "</style>\n",
       "<table border=\"1\" class=\"dataframe\">\n",
       "  <thead>\n",
       "    <tr style=\"text-align: right;\">\n",
       "      <th></th>\n",
       "      <th>Category</th>\n",
       "      <th>Resume</th>\n",
       "      <th>cleaned</th>\n",
       "    </tr>\n",
       "  </thead>\n",
       "  <tbody>\n",
       "    <tr>\n",
       "      <th>0</th>\n",
       "      <td>Data Science</td>\n",
       "      <td>Skills * Programming Languages: Python (pandas...</td>\n",
       "      <td>Skills Programming Languages Python pandas num...</td>\n",
       "    </tr>\n",
       "    <tr>\n",
       "      <th>1</th>\n",
       "      <td>Data Science</td>\n",
       "      <td>Education Details \\r\\nMay 2013 to May 2017 B.E...</td>\n",
       "      <td>Education Details May 2013 to May 2017 B E UIT...</td>\n",
       "    </tr>\n",
       "    <tr>\n",
       "      <th>2</th>\n",
       "      <td>Data Science</td>\n",
       "      <td>Areas of Interest Deep Learning, Control Syste...</td>\n",
       "      <td>Areas of Interest Deep Learning Control System...</td>\n",
       "    </tr>\n",
       "    <tr>\n",
       "      <th>3</th>\n",
       "      <td>Data Science</td>\n",
       "      <td>Skills â¢ R â¢ Python â¢ SAP HANA â¢ Table...</td>\n",
       "      <td>Skills R Python SAP HANA Tableau SAP HANA SQL ...</td>\n",
       "    </tr>\n",
       "    <tr>\n",
       "      <th>4</th>\n",
       "      <td>Data Science</td>\n",
       "      <td>Education Details \\r\\n MCA   YMCAUST,  Faridab...</td>\n",
       "      <td>Education Details MCA YMCAUST Faridabad Haryan...</td>\n",
       "    </tr>\n",
       "  </tbody>\n",
       "</table>\n",
       "</div>"
      ],
      "text/plain": [
       "       Category                                             Resume  \\\n",
       "0  Data Science  Skills * Programming Languages: Python (pandas...   \n",
       "1  Data Science  Education Details \\r\\nMay 2013 to May 2017 B.E...   \n",
       "2  Data Science  Areas of Interest Deep Learning, Control Syste...   \n",
       "3  Data Science  Skills â¢ R â¢ Python â¢ SAP HANA â¢ Table...   \n",
       "4  Data Science  Education Details \\r\\n MCA   YMCAUST,  Faridab...   \n",
       "\n",
       "                                             cleaned  \n",
       "0  Skills Programming Languages Python pandas num...  \n",
       "1  Education Details May 2013 to May 2017 B E UIT...  \n",
       "2  Areas of Interest Deep Learning Control System...  \n",
       "3  Skills R Python SAP HANA Tableau SAP HANA SQL ...  \n",
       "4  Education Details MCA YMCAUST Faridabad Haryan...  "
      ]
     },
     "execution_count": 7,
     "metadata": {},
     "output_type": "execute_result"
    }
   ],
   "source": [
    "df['cleaned'] = df['Resume'].apply(lambda x:cleanResume(x))\n",
    "df.head()"
   ]
  },
  {
   "cell_type": "markdown",
   "id": "dbf710af",
   "metadata": {
    "papermill": {
     "duration": 0.019847,
     "end_time": "2022-02-15T07:44:09.645712",
     "exception": false,
     "start_time": "2022-02-15T07:44:09.625865",
     "status": "completed"
    },
    "tags": []
   },
   "source": [
    "## Encoding\n",
    "---\n",
    "---"
   ]
  },
  {
   "cell_type": "code",
   "execution_count": 8,
   "id": "a396c7ff",
   "metadata": {
    "execution": {
     "iopub.execute_input": "2022-02-15T07:44:09.690428Z",
     "iopub.status.busy": "2022-02-15T07:44:09.689500Z",
     "iopub.status.idle": "2022-02-15T07:44:09.699800Z",
     "shell.execute_reply": "2022-02-15T07:44:09.700222Z",
     "shell.execute_reply.started": "2022-02-15T07:38:47.611605Z"
    },
    "papermill": {
     "duration": 0.03384,
     "end_time": "2022-02-15T07:44:09.700397",
     "exception": false,
     "start_time": "2022-02-15T07:44:09.666557",
     "status": "completed"
    },
    "tags": []
   },
   "outputs": [
    {
     "data": {
      "text/html": [
       "<div>\n",
       "<style scoped>\n",
       "    .dataframe tbody tr th:only-of-type {\n",
       "        vertical-align: middle;\n",
       "    }\n",
       "\n",
       "    .dataframe tbody tr th {\n",
       "        vertical-align: top;\n",
       "    }\n",
       "\n",
       "    .dataframe thead th {\n",
       "        text-align: right;\n",
       "    }\n",
       "</style>\n",
       "<table border=\"1\" class=\"dataframe\">\n",
       "  <thead>\n",
       "    <tr style=\"text-align: right;\">\n",
       "      <th></th>\n",
       "      <th>Category</th>\n",
       "      <th>Resume</th>\n",
       "      <th>cleaned</th>\n",
       "    </tr>\n",
       "  </thead>\n",
       "  <tbody>\n",
       "    <tr>\n",
       "      <th>0</th>\n",
       "      <td>6</td>\n",
       "      <td>Skills * Programming Languages: Python (pandas...</td>\n",
       "      <td>Skills Programming Languages Python pandas num...</td>\n",
       "    </tr>\n",
       "    <tr>\n",
       "      <th>1</th>\n",
       "      <td>6</td>\n",
       "      <td>Education Details \\r\\nMay 2013 to May 2017 B.E...</td>\n",
       "      <td>Education Details May 2013 to May 2017 B E UIT...</td>\n",
       "    </tr>\n",
       "    <tr>\n",
       "      <th>2</th>\n",
       "      <td>6</td>\n",
       "      <td>Areas of Interest Deep Learning, Control Syste...</td>\n",
       "      <td>Areas of Interest Deep Learning Control System...</td>\n",
       "    </tr>\n",
       "    <tr>\n",
       "      <th>3</th>\n",
       "      <td>6</td>\n",
       "      <td>Skills â¢ R â¢ Python â¢ SAP HANA â¢ Table...</td>\n",
       "      <td>Skills R Python SAP HANA Tableau SAP HANA SQL ...</td>\n",
       "    </tr>\n",
       "    <tr>\n",
       "      <th>4</th>\n",
       "      <td>6</td>\n",
       "      <td>Education Details \\r\\n MCA   YMCAUST,  Faridab...</td>\n",
       "      <td>Education Details MCA YMCAUST Faridabad Haryan...</td>\n",
       "    </tr>\n",
       "  </tbody>\n",
       "</table>\n",
       "</div>"
      ],
      "text/plain": [
       "   Category                                             Resume  \\\n",
       "0         6  Skills * Programming Languages: Python (pandas...   \n",
       "1         6  Education Details \\r\\nMay 2013 to May 2017 B.E...   \n",
       "2         6  Areas of Interest Deep Learning, Control Syste...   \n",
       "3         6  Skills â¢ R â¢ Python â¢ SAP HANA â¢ Table...   \n",
       "4         6  Education Details \\r\\n MCA   YMCAUST,  Faridab...   \n",
       "\n",
       "                                             cleaned  \n",
       "0  Skills Programming Languages Python pandas num...  \n",
       "1  Education Details May 2013 to May 2017 B E UIT...  \n",
       "2  Areas of Interest Deep Learning Control System...  \n",
       "3  Skills R Python SAP HANA Tableau SAP HANA SQL ...  \n",
       "4  Education Details MCA YMCAUST Faridabad Haryan...  "
      ]
     },
     "execution_count": 8,
     "metadata": {},
     "output_type": "execute_result"
    }
   ],
   "source": [
    "label = LabelEncoder()\n",
    "df['Category'] = label.fit_transform(df['Category'])\n",
    "df.head()"
   ]
  },
  {
   "cell_type": "code",
   "execution_count": 9,
   "id": "73d1bdf5",
   "metadata": {
    "execution": {
     "iopub.execute_input": "2022-02-15T07:44:09.776343Z",
     "iopub.status.busy": "2022-02-15T07:44:09.754822Z",
     "iopub.status.idle": "2022-02-15T07:44:10.305576Z",
     "shell.execute_reply": "2022-02-15T07:44:10.304964Z",
     "shell.execute_reply.started": "2022-02-15T07:38:47.625942Z"
    },
    "papermill": {
     "duration": 0.584917,
     "end_time": "2022-02-15T07:44:10.305737",
     "exception": false,
     "start_time": "2022-02-15T07:44:09.720820",
     "status": "completed"
    },
    "tags": []
   },
   "outputs": [],
   "source": [
    "text = df['cleaned'].values\n",
    "target = df['Category'].values\n",
    "word_vectorizer = TfidfVectorizer(\n",
    "    sublinear_tf=True,\n",
    "    stop_words='english',\n",
    "    max_features=1500)\n",
    "word_vectorizer.fit(text)\n",
    "WordFeatures = word_vectorizer.transform(text)"
   ]
  },
  {
   "cell_type": "markdown",
   "id": "affd9b9e",
   "metadata": {
    "papermill": {
     "duration": 0.020833,
     "end_time": "2022-02-15T07:44:10.348099",
     "exception": false,
     "start_time": "2022-02-15T07:44:10.327266",
     "status": "completed"
    },
    "tags": []
   },
   "source": [
    "## Train-Test Split\n",
    "---\n",
    "---"
   ]
  },
  {
   "cell_type": "code",
   "execution_count": 10,
   "id": "17245d3f",
   "metadata": {
    "execution": {
     "iopub.execute_input": "2022-02-15T07:44:10.398558Z",
     "iopub.status.busy": "2022-02-15T07:44:10.397833Z",
     "iopub.status.idle": "2022-02-15T07:44:10.403849Z",
     "shell.execute_reply": "2022-02-15T07:44:10.404373Z",
     "shell.execute_reply.started": "2022-02-15T07:38:48.488434Z"
    },
    "papermill": {
     "duration": 0.033555,
     "end_time": "2022-02-15T07:44:10.404547",
     "exception": false,
     "start_time": "2022-02-15T07:44:10.370992",
     "status": "completed"
    },
    "tags": []
   },
   "outputs": [],
   "source": [
    "X_train, X_test, y_train, y_test = train_test_split(WordFeatures, target, random_state=24, test_size=0.2)"
   ]
  },
  {
   "cell_type": "markdown",
   "id": "ec604257",
   "metadata": {
    "papermill": {
     "duration": 0.022143,
     "end_time": "2022-02-15T07:44:10.448753",
     "exception": false,
     "start_time": "2022-02-15T07:44:10.426610",
     "status": "completed"
    },
    "tags": []
   },
   "source": [
    "## Model Training\n",
    "---\n",
    "---"
   ]
  },
  {
   "cell_type": "code",
   "execution_count": 11,
   "id": "68822477",
   "metadata": {
    "execution": {
     "iopub.execute_input": "2022-02-15T07:44:10.497551Z",
     "iopub.status.busy": "2022-02-15T07:44:10.496886Z",
     "iopub.status.idle": "2022-02-15T07:44:10.562422Z",
     "shell.execute_reply": "2022-02-15T07:44:10.561783Z",
     "shell.execute_reply.started": "2022-02-15T07:38:48.497287Z"
    },
    "papermill": {
     "duration": 0.092626,
     "end_time": "2022-02-15T07:44:10.562577",
     "exception": false,
     "start_time": "2022-02-15T07:44:10.469951",
     "status": "completed"
    },
    "tags": []
   },
   "outputs": [
    {
     "data": {
      "text/plain": [
       "OneVsRestClassifier(estimator=KNeighborsClassifier())"
      ]
     },
     "execution_count": 11,
     "metadata": {},
     "output_type": "execute_result"
    }
   ],
   "source": [
    "model = OneVsRestClassifier(KNeighborsClassifier())\n",
    "model.fit(X_train, y_train)"
   ]
  },
  {
   "cell_type": "markdown",
   "id": "b00dd95f",
   "metadata": {
    "papermill": {
     "duration": 0.021156,
     "end_time": "2022-02-15T07:44:10.604818",
     "exception": false,
     "start_time": "2022-02-15T07:44:10.583662",
     "status": "completed"
    },
    "tags": []
   },
   "source": [
    "## Prediction\n",
    "---\n",
    "---"
   ]
  },
  {
   "cell_type": "code",
   "execution_count": 12,
   "id": "b526ff59",
   "metadata": {
    "execution": {
     "iopub.execute_input": "2022-02-15T07:44:10.652511Z",
     "iopub.status.busy": "2022-02-15T07:44:10.651771Z",
     "iopub.status.idle": "2022-02-15T07:44:11.112082Z",
     "shell.execute_reply": "2022-02-15T07:44:11.111482Z",
     "shell.execute_reply.started": "2022-02-15T07:39:31.482123Z"
    },
    "papermill": {
     "duration": 0.486037,
     "end_time": "2022-02-15T07:44:11.112262",
     "exception": false,
     "start_time": "2022-02-15T07:44:10.626225",
     "status": "completed"
    },
    "tags": []
   },
   "outputs": [],
   "source": [
    "y_pred = model.predict(X_test)"
   ]
  },
  {
   "cell_type": "code",
   "execution_count": 13,
   "id": "5db6dc46",
   "metadata": {
    "execution": {
     "iopub.execute_input": "2022-02-15T07:44:11.158464Z",
     "iopub.status.busy": "2022-02-15T07:44:11.157808Z",
     "iopub.status.idle": "2022-02-15T07:44:13.361688Z",
     "shell.execute_reply": "2022-02-15T07:44:13.362590Z",
     "shell.execute_reply.started": "2022-02-15T07:38:48.561829Z"
    },
    "papermill": {
     "duration": 2.2293,
     "end_time": "2022-02-15T07:44:13.362841",
     "exception": false,
     "start_time": "2022-02-15T07:44:11.133541",
     "status": "completed"
    },
    "tags": []
   },
   "outputs": [
    {
     "name": "stdout",
     "output_type": "stream",
     "text": [
      "---------------------------------\n",
      "| Training Accuracy   :- 98.96% |\n",
      "---------------------------------\n",
      "| Validation Accuracy :- 96.89% |\n",
      "---------------------------------\n"
     ]
    }
   ],
   "source": [
    "print(f'---------------------------------\\n| Training Accuracy   :- {(model.score(X_train, y_train)*100).round(2)}% |')\n",
    "print(f'---------------------------------\\n| Validation Accuracy :- {(model.score(X_test, y_test)*100).round(2)}% |\\n---------------------------------')"
   ]
  }
 ],
 "metadata": {
  "kernelspec": {
   "display_name": "Python 3",
   "language": "python",
   "name": "python3"
  },
  "language_info": {
   "codemirror_mode": {
    "name": "ipython",
    "version": 3
   },
   "file_extension": ".py",
   "mimetype": "text/x-python",
   "name": "python",
   "nbconvert_exporter": "python",
   "pygments_lexer": "ipython3",
   "version": "3.7.12"
  },
  "papermill": {
   "default_parameters": {},
   "duration": 16.557893,
   "end_time": "2022-02-15T07:44:14.095623",
   "environment_variables": {},
   "exception": null,
   "input_path": "__notebook__.ipynb",
   "output_path": "__notebook__.ipynb",
   "parameters": {},
   "start_time": "2022-02-15T07:43:57.537730",
   "version": "2.3.3"
  }
 },
 "nbformat": 4,
 "nbformat_minor": 5
}
